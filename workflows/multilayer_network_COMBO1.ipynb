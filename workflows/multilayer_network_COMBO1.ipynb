{
 "cells": [
  {
   "cell_type": "code",
   "execution_count": 1,
   "metadata": {},
   "outputs": [
    {
     "name": "stderr",
     "output_type": "stream",
     "text": [
      "2022-03-28 17:10:39.982967: W tensorflow/stream_executor/platform/default/dso_loader.cc:64] Could not load dynamic library 'libcudart.so.11.0'; dlerror: libcudart.so.11.0: cannot open shared object file: No such file or directory; LD_LIBRARY_PATH: /home/mouneem/Projects/tysserand/spatial-network/lib/python3.8/site-packages/cv2/../../lib64:\n",
      "2022-03-28 17:10:39.982988: I tensorflow/stream_executor/cuda/cudart_stub.cc:29] Ignore above cudart dlerror if you do not have a GPU set up on your machine.\n"
     ]
    }
   ],
   "source": [
    "#Load libs\n",
    "\n",
    "import numpy as np\n",
    "import pandas as pd\n",
    "import matplotlib.pyplot as plt\n",
    "import os\n",
    "from pathlib import Path\n",
    "from tysserand import tysserand as ty\n",
    "from PIL import Image\n",
    "Image.MAX_IMAGE_PIXELS = 1000000000 \n",
    "from PIL import Image, ImageOps\n",
    "import fcsparser\n",
    "\n",
    "from os import listdir\n",
    "from os.path import isfile, join\n",
    "#set up working dir\n",
    "\n",
    "import sys\n",
    "sys.path.extend([\n",
    "    '../tysserand/tysserand',\n",
    "    '../mosna',\n",
    "])\n",
    "\n",
    "import seaborn as sns\n",
    "from time import time\n",
    "import copy\n",
    "from skimage import color\n",
    "import matplotlib as mpl\n",
    "import napari\n",
    "\n",
    "from sklearn.preprocessing import StandardScaler\n",
    "from sklearn.neighbors import KNeighborsClassifier\n",
    "from sklearn.svm import SVC, LinearSVC\n",
    "from sklearn.metrics import accuracy_score\n",
    "from sklearn.model_selection import cross_validate, GridSearchCV, RandomizedSearchCV\n",
    "from scipy.stats import loguniform\n",
    "\n",
    "import umap\n",
    "# if not installed run: conda install -c conda-forge umap-learn\n",
    "import hdbscan\n",
    "from sklearn.cluster import OPTICS, cluster_optics_dbscan\n",
    "\n",
    "from skimage import io\n",
    "\n",
    "from scipy.stats import ttest_ind    # Welch's t-test\n",
    "from scipy.stats import mannwhitneyu # Mann-Whitney rank test\n",
    "from scipy.stats import ks_2samp     # Kolmogorov-Smirnov statistic\n",
    "\n",
    "sys.path.append(\"/home/mouneem/mosna/\")\n",
    "\n",
    "\n",
    "from tysserand import tysserand as ty\n",
    "from mosna import mosna\n",
    "\n",
    "\n",
    "\n",
    "\n",
    "\n",
    "\n",
    "data_dir = Path(\"/home/mouneem/tysserand/\")\n",
    "path = str(\"/home/mouneem/tysserand/CORDELIER_PIERRE/\")\n",
    "path_nets = str(\"/home/mouneem/tysserand/nets/\")\n",
    "#path = str(\"/home/mouneem/tysserand/data/\")\n",
    "\n",
    "# select all CSVs\n",
    "csv_path = \"/home/mouneem/tysserand/CORDELIER_PIERRE/csv_M1_M2/\"\n",
    "csv_levels = [f for f in listdir(csv_path) if isfile(join(csv_path, f))]\n",
    "\n",
    "\n",
    "save_dir = Path(\"/home/mouneem/tysserand/CORDELIER_PIERRE/mosna_output/\")\n",
    "mosna_output = str(\"/home/mouneem/tysserand/CORDELIER_PIERRE/mosna_output/\")\n",
    "\n",
    "sns.set_context('talk')\n",
    "\n"
   ]
  },
  {
   "cell_type": "code",
   "execution_count": 2,
   "metadata": {},
   "outputs": [
    {
     "name": "stdout",
     "output_type": "stream",
     "text": [
      "1 NVA_21-003.IMMCORE.C1v1_15T034275-11-Z1-2-ImvessC1-4518.csv\n",
      "<class 'numpy.ndarray'>\n",
      "<class 'float'>\n"
     ]
    },
    {
     "name": "stderr",
     "output_type": "stream",
     "text": [
      "randomization: 100%|██████████| 200/200 [09:42<00:00,  2.91s/it]\n"
     ]
    },
    {
     "name": "stdout",
     "output_type": "stream",
     "text": [
      "2 NVA_21-003.IMMCORE.C2v1_15T010760-09-Z1-ImvessC2-4321.csv\n",
      "<class 'numpy.ndarray'>\n",
      "<class 'float'>\n"
     ]
    },
    {
     "name": "stderr",
     "output_type": "stream",
     "text": [
      "randomization: 100%|██████████| 200/200 [25:37<00:00,  7.69s/it]\n"
     ]
    },
    {
     "name": "stdout",
     "output_type": "stream",
     "text": [
      "3 NVA_21-003.IMMCORE.C1v1_17T054628-06-Z1-ImvessC1-4518.csv\n",
      "<class 'numpy.ndarray'>\n",
      "<class 'float'>\n"
     ]
    },
    {
     "name": "stderr",
     "output_type": "stream",
     "text": [
      "randomization: 100%|██████████| 200/200 [08:05<00:00,  2.43s/it]\n"
     ]
    },
    {
     "name": "stdout",
     "output_type": "stream",
     "text": [
      "4 NVA_21-003.IMMCORE.C2v1_15T008187-08-ImvessC2-4321.csv\n",
      "<class 'numpy.ndarray'>\n",
      "<class 'float'>\n"
     ]
    },
    {
     "name": "stderr",
     "output_type": "stream",
     "text": [
      "randomization: 100%|██████████| 200/200 [29:41<00:00,  8.91s/it]\n"
     ]
    },
    {
     "name": "stdout",
     "output_type": "stream",
     "text": [
      "5 NVA_21-003.IMMCORE.C1v1_15T008187-08-ImvessC1-4518.csv\n",
      "<class 'numpy.ndarray'>\n",
      "<class 'float'>\n"
     ]
    },
    {
     "name": "stderr",
     "output_type": "stream",
     "text": [
      "randomization: 100%|██████████| 200/200 [26:07<00:00,  7.84s/it]\n"
     ]
    },
    {
     "name": "stdout",
     "output_type": "stream",
     "text": [
      "6 NVA_21-003.IMMCORE.C1v1_16T058343-12-ImvessC1-4518.csv\n",
      "<class 'numpy.ndarray'>\n",
      "<class 'float'>\n"
     ]
    },
    {
     "name": "stderr",
     "output_type": "stream",
     "text": [
      "randomization: 100%|██████████| 200/200 [06:20<00:00,  1.90s/it]\n"
     ]
    },
    {
     "name": "stdout",
     "output_type": "stream",
     "text": [
      "7 NVA_21-003.IMMCORE.C1v1_18T009975-12-ImvessC1-4518.csv\n",
      "<class 'numpy.ndarray'>\n",
      "<class 'float'>\n"
     ]
    },
    {
     "name": "stderr",
     "output_type": "stream",
     "text": [
      "randomization: 100%|██████████| 200/200 [03:10<00:00,  1.05it/s]\n"
     ]
    },
    {
     "name": "stdout",
     "output_type": "stream",
     "text": [
      "8 NVA_21-003.IMMCORE.C2v1_15T027584-13-2-ImvessC2-4321.csv\n",
      "<class 'numpy.ndarray'>\n",
      "<class 'float'>\n"
     ]
    },
    {
     "name": "stderr",
     "output_type": "stream",
     "text": [
      "randomization: 100%|██████████| 200/200 [09:20<00:00,  2.80s/it]\n"
     ]
    },
    {
     "name": "stdout",
     "output_type": "stream",
     "text": [
      "9 NVA_21-003.IMMCORE.C2v1_19T037195-08-Z1-2-ImvessC2-4321.csv\n",
      "<class 'numpy.ndarray'>\n",
      "<class 'float'>\n"
     ]
    },
    {
     "name": "stderr",
     "output_type": "stream",
     "text": [
      "randomization: 100%|██████████| 200/200 [09:52<00:00,  2.96s/it]\n"
     ]
    },
    {
     "name": "stdout",
     "output_type": "stream",
     "text": [
      "10 NVA_21-003.IMMCORE.C1v1_15T027584-13-ImvessC1-4518.csv\n",
      "<class 'numpy.ndarray'>\n",
      "<class 'float'>\n"
     ]
    },
    {
     "name": "stderr",
     "output_type": "stream",
     "text": [
      "randomization: 100%|██████████| 200/200 [06:12<00:00,  1.86s/it]\n"
     ]
    },
    {
     "name": "stdout",
     "output_type": "stream",
     "text": [
      "11 NVA_21-003.IMMCORE.C1v1_17T003826-06-ImvessC1-4518.csv\n",
      "<class 'numpy.ndarray'>\n",
      "<class 'float'>\n"
     ]
    },
    {
     "name": "stderr",
     "output_type": "stream",
     "text": [
      "randomization: 100%|██████████| 200/200 [18:35<00:00,  5.58s/it]\n"
     ]
    },
    {
     "name": "stdout",
     "output_type": "stream",
     "text": [
      "12 NVA_21-003.IMMCORE.C1v1_16T037314-11-Z1-ImvessC1-4518.csv\n",
      "<class 'numpy.ndarray'>\n",
      "<class 'float'>\n"
     ]
    },
    {
     "name": "stderr",
     "output_type": "stream",
     "text": [
      "randomization: 100%|██████████| 200/200 [18:28<00:00,  5.54s/it]\n"
     ]
    },
    {
     "name": "stdout",
     "output_type": "stream",
     "text": [
      "13 NVA_21-003.IMMCORE.C2v1_16T037314-11-Z3-ImvessC2-4321.csv\n",
      "<class 'numpy.ndarray'>\n",
      "<class 'float'>\n"
     ]
    },
    {
     "name": "stderr",
     "output_type": "stream",
     "text": [
      "randomization: 100%|██████████| 200/200 [05:01<00:00,  1.51s/it]\n"
     ]
    },
    {
     "name": "stdout",
     "output_type": "stream",
     "text": [
      "14 NVA_21-003.IMMCORE.C2v1_19T002076-07-Z2-ImvessC2-4321.csv\n",
      "<class 'numpy.ndarray'>\n",
      "<class 'float'>\n"
     ]
    },
    {
     "name": "stderr",
     "output_type": "stream",
     "text": [
      "randomization: 100%|██████████| 200/200 [26:05<00:00,  7.83s/it]\n"
     ]
    },
    {
     "name": "stdout",
     "output_type": "stream",
     "text": [
      "15 NVA_21-003.IMMCORE.C1v1_16T042639-11-Z2-ImvessC1-4518.csv\n",
      "<class 'numpy.ndarray'>\n",
      "<class 'float'>\n"
     ]
    },
    {
     "name": "stderr",
     "output_type": "stream",
     "text": [
      "randomization: 100%|██████████| 200/200 [30:47<00:00,  9.24s/it]\n"
     ]
    },
    {
     "name": "stdout",
     "output_type": "stream",
     "text": [
      "16 NVA_21-003.IMMCORE.C1v1_16T013087-8-ImvessC1-4518.csv\n",
      "<class 'numpy.ndarray'>\n",
      "<class 'float'>\n"
     ]
    },
    {
     "name": "stderr",
     "output_type": "stream",
     "text": [
      "randomization: 100%|██████████| 200/200 [30:44<00:00,  9.22s/it]\n"
     ]
    },
    {
     "name": "stdout",
     "output_type": "stream",
     "text": [
      "17 NVA_21-003.IMMCORE.C1v1_17T020895-03-Z2-ImvessC1-4518.csv\n",
      "<class 'numpy.ndarray'>\n",
      "<class 'float'>\n"
     ]
    },
    {
     "name": "stderr",
     "output_type": "stream",
     "text": [
      "randomization: 100%|██████████| 200/200 [14:29<00:00,  4.35s/it]\n"
     ]
    },
    {
     "name": "stdout",
     "output_type": "stream",
     "text": [
      "18 NVA_21-003.IMMCORE.C1v1_15T010760-09-Z2-ImvessC1-4518.csv\n",
      "<class 'numpy.ndarray'>\n",
      "<class 'float'>\n"
     ]
    },
    {
     "name": "stderr",
     "output_type": "stream",
     "text": [
      "randomization: 100%|██████████| 200/200 [16:16<00:00,  4.88s/it]\n"
     ]
    },
    {
     "name": "stdout",
     "output_type": "stream",
     "text": [
      "19 NVA_21-003.IMMCORE.C1v1_17T020615-09-2-ImvessC1-4518.csv\n",
      "<class 'numpy.ndarray'>\n",
      "<class 'float'>\n"
     ]
    },
    {
     "name": "stderr",
     "output_type": "stream",
     "text": [
      "randomization: 100%|██████████| 200/200 [09:08<00:00,  2.74s/it]\n"
     ]
    },
    {
     "name": "stdout",
     "output_type": "stream",
     "text": [
      "20 NVA_21-003.IMMCORE.C1v1_18T005297-13-ImvessC1-4518.csv\n",
      "<class 'numpy.ndarray'>\n",
      "<class 'float'>\n"
     ]
    },
    {
     "name": "stderr",
     "output_type": "stream",
     "text": [
      "randomization: 100%|██████████| 200/200 [13:45<00:00,  4.13s/it]\n"
     ]
    },
    {
     "name": "stdout",
     "output_type": "stream",
     "text": [
      "21 NVA_21-003.IMMCORE.C2v1_17T018454-05-Z2-ImvessC2-4321.csv\n",
      "<class 'numpy.ndarray'>\n",
      "<class 'float'>\n"
     ]
    },
    {
     "name": "stderr",
     "output_type": "stream",
     "text": [
      "randomization: 100%|██████████| 200/200 [21:35<00:00,  6.48s/it]\n"
     ]
    },
    {
     "name": "stdout",
     "output_type": "stream",
     "text": [
      "22 NVA_21-003.IMMCORE.C2v1_17T006383-09-Z2-ImvessC2-4321.csv\n",
      "<class 'numpy.ndarray'>\n",
      "<class 'float'>\n"
     ]
    },
    {
     "name": "stderr",
     "output_type": "stream",
     "text": [
      "randomization: 100%|██████████| 200/200 [20:23<00:00,  6.12s/it]\n"
     ]
    },
    {
     "name": "stdout",
     "output_type": "stream",
     "text": [
      "23 NVA_21-003.IMMCORE.C1v1_19T006284-08-ImvessC1-4518.csv\n",
      "<class 'numpy.ndarray'>\n",
      "<class 'float'>\n"
     ]
    },
    {
     "name": "stderr",
     "output_type": "stream",
     "text": [
      "randomization: 100%|██████████| 200/200 [31:43<00:00,  9.52s/it]\n"
     ]
    },
    {
     "name": "stdout",
     "output_type": "stream",
     "text": [
      "24 NVA_21-003.IMMCORE.C1v1_16T022680-3-ImvessC1-4518.csv\n",
      "<class 'numpy.ndarray'>\n",
      "<class 'float'>\n"
     ]
    },
    {
     "name": "stderr",
     "output_type": "stream",
     "text": [
      "randomization: 100%|██████████| 200/200 [18:02<00:00,  5.41s/it]\n"
     ]
    },
    {
     "name": "stdout",
     "output_type": "stream",
     "text": [
      "25 NVA_21-003.IMMCORE.C2v1_17T021098-13-Z1-ImvessC2-4321.csv\n",
      "<class 'numpy.ndarray'>\n",
      "<class 'float'>\n"
     ]
    },
    {
     "name": "stderr",
     "output_type": "stream",
     "text": [
      "randomization: 100%|██████████| 200/200 [44:12<00:00, 13.26s/it]\n"
     ]
    },
    {
     "name": "stdout",
     "output_type": "stream",
     "text": [
      "26 NVA_21-003.IMMCORE.C1v1_18T004469-02-Z1-ImvessC1-4518.csv\n",
      "<class 'numpy.ndarray'>\n",
      "<class 'float'>\n"
     ]
    },
    {
     "name": "stderr",
     "output_type": "stream",
     "text": [
      "randomization: 100%|██████████| 200/200 [16:22<00:00,  4.91s/it]\n"
     ]
    },
    {
     "name": "stdout",
     "output_type": "stream",
     "text": [
      "27 NVA_21-003.IMMCORE.C2v1_18T004469-02-Z1-ImvessC2-4321.csv\n",
      "<class 'numpy.ndarray'>\n",
      "<class 'float'>\n"
     ]
    },
    {
     "name": "stderr",
     "output_type": "stream",
     "text": [
      "randomization: 100%|██████████| 200/200 [30:43<00:00,  9.22s/it]\n"
     ]
    },
    {
     "name": "stdout",
     "output_type": "stream",
     "text": [
      "28 NVA_21-003.IMMCORE.C1v1_17T021098-13-Z2-ImvessC1-4518.csv\n",
      "<class 'numpy.ndarray'>\n",
      "<class 'float'>\n"
     ]
    },
    {
     "name": "stderr",
     "output_type": "stream",
     "text": [
      "randomization: 100%|██████████| 200/200 [19:03<00:00,  5.72s/it]\n"
     ]
    },
    {
     "name": "stdout",
     "output_type": "stream",
     "text": [
      "29 NVA_21-003.IMMCORE.C2v1_15T010441-02-ImvessC2-4321.csv\n",
      "<class 'numpy.ndarray'>\n",
      "<class 'float'>\n"
     ]
    },
    {
     "name": "stderr",
     "output_type": "stream",
     "text": [
      "randomization: 100%|██████████| 200/200 [27:41<00:00,  8.31s/it]\n"
     ]
    },
    {
     "name": "stdout",
     "output_type": "stream",
     "text": [
      "30 NVA_21-003.IMMCORE.C1v1_18T004469-02-Z2-ImvessC1-4518.csv\n",
      "<class 'numpy.ndarray'>\n",
      "<class 'float'>\n"
     ]
    },
    {
     "name": "stderr",
     "output_type": "stream",
     "text": [
      "randomization: 100%|██████████| 200/200 [14:07<00:00,  4.24s/it]\n"
     ]
    },
    {
     "name": "stdout",
     "output_type": "stream",
     "text": [
      "31 NVA_21-003.IMMCORE.C1v1_18T047929-09-Z1-ImvessC1-4518.csv\n",
      "<class 'numpy.ndarray'>\n",
      "<class 'float'>\n"
     ]
    },
    {
     "name": "stderr",
     "output_type": "stream",
     "text": [
      "randomization: 100%|██████████| 200/200 [14:24<00:00,  4.32s/it]\n"
     ]
    },
    {
     "name": "stdout",
     "output_type": "stream",
     "text": [
      "32 NVA_21-003.IMMCORE.C2v1_18T047929-09-Z1-ImvessC2-4321.csv\n",
      "<class 'numpy.ndarray'>\n",
      "<class 'float'>\n"
     ]
    },
    {
     "name": "stderr",
     "output_type": "stream",
     "text": [
      "randomization: 100%|██████████| 200/200 [24:20<00:00,  7.30s/it]\n"
     ]
    },
    {
     "name": "stdout",
     "output_type": "stream",
     "text": [
      "33 NVA_21-003.IMMCORE.C2v1_18T044196-05-Z2-ImvessC2-4321.csv\n",
      "<class 'numpy.ndarray'>\n",
      "<class 'float'>\n"
     ]
    },
    {
     "name": "stderr",
     "output_type": "stream",
     "text": [
      "randomization: 100%|██████████| 200/200 [18:55<00:00,  5.68s/it]\n"
     ]
    },
    {
     "name": "stdout",
     "output_type": "stream",
     "text": [
      "34 NVA_21-003.IMMCORE.C1v1_15T034275-11-Z2-2-ImvessC1-4518.csv\n",
      "<class 'numpy.ndarray'>\n",
      "<class 'float'>\n"
     ]
    },
    {
     "name": "stderr",
     "output_type": "stream",
     "text": [
      "randomization: 100%|██████████| 200/200 [11:47<00:00,  3.54s/it]\n"
     ]
    },
    {
     "name": "stdout",
     "output_type": "stream",
     "text": [
      "35 NVA_21-003.IMMCORE.C1v1_15T046951-1-ImvessC1-4518.csv\n",
      "<class 'numpy.ndarray'>\n",
      "<class 'float'>\n"
     ]
    },
    {
     "name": "stderr",
     "output_type": "stream",
     "text": [
      "randomization: 100%|██████████| 200/200 [03:16<00:00,  1.02it/s]\n"
     ]
    },
    {
     "name": "stdout",
     "output_type": "stream",
     "text": [
      "36 NVA_21-003.IMMCORE.C1v1_18T040686-03-ImvessC1-4518.csv\n",
      "<class 'numpy.ndarray'>\n",
      "<class 'float'>\n"
     ]
    },
    {
     "name": "stderr",
     "output_type": "stream",
     "text": [
      "randomization: 100%|██████████| 200/200 [15:23<00:00,  4.62s/it]\n"
     ]
    },
    {
     "name": "stdout",
     "output_type": "stream",
     "text": [
      "37 NVA_21-003.IMMCORE.C1v1_18T047929-09-Z2-ImvessC1-4518.csv\n",
      "<class 'numpy.ndarray'>\n",
      "<class 'float'>\n"
     ]
    },
    {
     "name": "stderr",
     "output_type": "stream",
     "text": [
      "randomization: 100%|██████████| 200/200 [11:44<00:00,  3.52s/it]\n"
     ]
    },
    {
     "name": "stdout",
     "output_type": "stream",
     "text": [
      "38 NVA_21-003.IMMCORE.C2v1_15T010760-09-Z2-ImvessC2-4321.csv\n",
      "<class 'numpy.ndarray'>\n",
      "<class 'float'>\n"
     ]
    },
    {
     "name": "stderr",
     "output_type": "stream",
     "text": [
      "randomization: 100%|██████████| 200/200 [26:01<00:00,  7.81s/it]\n"
     ]
    },
    {
     "name": "stdout",
     "output_type": "stream",
     "text": [
      "39 NVA_21-003.IMMCORE.C2v1_16T013087-8-ImvessC2-4321.csv\n",
      "<class 'numpy.ndarray'>\n",
      "<class 'float'>\n"
     ]
    },
    {
     "name": "stderr",
     "output_type": "stream",
     "text": [
      "randomization: 100%|██████████| 200/200 [33:24<00:00, 10.02s/it]\n"
     ]
    },
    {
     "name": "stdout",
     "output_type": "stream",
     "text": [
      "40 NVA_21-003.IMMCORE.C1v1_18T044196-05-Z2-ImvessC1-4518.csv\n",
      "<class 'numpy.ndarray'>\n",
      "<class 'float'>\n"
     ]
    },
    {
     "name": "stderr",
     "output_type": "stream",
     "text": [
      "randomization: 100%|██████████| 200/200 [09:50<00:00,  2.95s/it]\n"
     ]
    },
    {
     "name": "stdout",
     "output_type": "stream",
     "text": [
      "41 NVA_21-003.IMMCORE.C2v1_19T020336-21-ImvessC2-4321.csv\n",
      "<class 'numpy.ndarray'>\n",
      "<class 'float'>\n"
     ]
    },
    {
     "name": "stderr",
     "output_type": "stream",
     "text": [
      "randomization: 100%|██████████| 200/200 [20:56<00:00,  6.28s/it]\n",
      "/home/mouneem/tysserand/workflows/../mosna/mosna/mosna.py:400: RuntimeWarning: divide by zero encountered in true_divide\n",
      "  zscore = (mat - rand_mean) / rand_std\n"
     ]
    },
    {
     "name": "stdout",
     "output_type": "stream",
     "text": [
      "42 NVA_21-003.IMMCORE.C2v1_15T052601-14-Z1-ImvessC2-4321.csv\n",
      "<class 'numpy.ndarray'>\n",
      "<class 'float'>\n"
     ]
    },
    {
     "name": "stderr",
     "output_type": "stream",
     "text": [
      "randomization: 100%|██████████| 200/200 [29:38<00:00,  8.89s/it]\n"
     ]
    },
    {
     "name": "stdout",
     "output_type": "stream",
     "text": [
      "43 NVA_21-003.IMMCORE.C1v1_16T037314-11-Z3-ImvessC1-4518.csv\n",
      "<class 'numpy.ndarray'>\n",
      "<class 'float'>\n"
     ]
    },
    {
     "name": "stderr",
     "output_type": "stream",
     "text": [
      "randomization: 100%|██████████| 200/200 [01:41<00:00,  1.98it/s]\n"
     ]
    },
    {
     "name": "stdout",
     "output_type": "stream",
     "text": [
      "44 NVA_21-003.IMMCORE.C1v1_17T018454-05-Z1-ImvessC1-4518.csv\n",
      "<class 'numpy.ndarray'>\n",
      "<class 'float'>\n"
     ]
    },
    {
     "name": "stderr",
     "output_type": "stream",
     "text": [
      "randomization: 100%|██████████| 200/200 [09:47<00:00,  2.94s/it]\n"
     ]
    },
    {
     "name": "stdout",
     "output_type": "stream",
     "text": [
      "45 NVA_21-003.IMMCORE.C1v1_17T033078-09-Z2-ImvessC1-4518.csv\n",
      "<class 'numpy.ndarray'>\n",
      "<class 'float'>\n"
     ]
    },
    {
     "name": "stderr",
     "output_type": "stream",
     "text": [
      "randomization: 100%|██████████| 200/200 [06:25<00:00,  1.93s/it]\n"
     ]
    },
    {
     "name": "stdout",
     "output_type": "stream",
     "text": [
      "46 NVA_21-003.IMMCORE.C1v1_18T047929-09-Z3-ImvessC1-4518.csv\n",
      "<class 'numpy.ndarray'>\n",
      "<class 'float'>\n"
     ]
    },
    {
     "name": "stderr",
     "output_type": "stream",
     "text": [
      "randomization: 100%|██████████| 200/200 [12:10<00:00,  3.65s/it]\n"
     ]
    },
    {
     "name": "stdout",
     "output_type": "stream",
     "text": [
      "47 NVA_21-003.IMMCORE.C1v1_18T020627-04-Z3-ImvessC1-4518.csv\n",
      "<class 'numpy.ndarray'>\n",
      "<class 'float'>\n"
     ]
    },
    {
     "name": "stderr",
     "output_type": "stream",
     "text": [
      "randomization: 100%|██████████| 200/200 [16:53<00:00,  5.07s/it]\n"
     ]
    },
    {
     "name": "stdout",
     "output_type": "stream",
     "text": [
      "48 NVA_21-003.IMMCORE.C1v1_17T004343-07-ImvessC1-4518.csv\n",
      "<class 'numpy.ndarray'>\n",
      "<class 'float'>\n"
     ]
    },
    {
     "name": "stderr",
     "output_type": "stream",
     "text": [
      "randomization: 100%|██████████| 200/200 [14:29<00:00,  4.35s/it]\n"
     ]
    },
    {
     "name": "stdout",
     "output_type": "stream",
     "text": [
      "49 NVA_21-003.IMMCORE.C1v1_16T034668-33-ImvessC1-4518.csv\n",
      "<class 'numpy.ndarray'>\n",
      "<class 'float'>\n"
     ]
    },
    {
     "name": "stderr",
     "output_type": "stream",
     "text": [
      "randomization: 100%|██████████| 200/200 [19:16<00:00,  5.78s/it]\n"
     ]
    },
    {
     "name": "stdout",
     "output_type": "stream",
     "text": [
      "50 NVA_21-003.IMMCORE.C1v1_18T054305-08-ImvessC1-4518.csv\n",
      "<class 'numpy.ndarray'>\n",
      "<class 'float'>\n"
     ]
    },
    {
     "name": "stderr",
     "output_type": "stream",
     "text": [
      "randomization: 100%|██████████| 200/200 [12:47<00:00,  3.84s/it]\n"
     ]
    },
    {
     "name": "stdout",
     "output_type": "stream",
     "text": [
      "51 NVA_21-003.IMMCORE.C2v1_16T058343-12-ImvessC2-4321.csv\n",
      "<class 'numpy.ndarray'>\n",
      "<class 'float'>\n"
     ]
    },
    {
     "name": "stderr",
     "output_type": "stream",
     "text": [
      "randomization: 100%|██████████| 200/200 [10:11<00:00,  3.06s/it]\n"
     ]
    },
    {
     "name": "stdout",
     "output_type": "stream",
     "text": [
      "52 NVA_21-003.IMMCORE.C2v1_17T006383-09-Z1-ImvessC2-4321.csv\n",
      "<class 'numpy.ndarray'>\n",
      "<class 'float'>\n"
     ]
    },
    {
     "name": "stderr",
     "output_type": "stream",
     "text": [
      "randomization: 100%|██████████| 200/200 [18:51<00:00,  5.66s/it]\n"
     ]
    },
    {
     "name": "stdout",
     "output_type": "stream",
     "text": [
      "53 NVA_21-003.IMMCORE.C1v1_17T048267-11-Z1-ImvessC1-4518.csv\n",
      "<class 'numpy.ndarray'>\n",
      "<class 'float'>\n"
     ]
    },
    {
     "name": "stderr",
     "output_type": "stream",
     "text": [
      "randomization: 100%|██████████| 200/200 [10:01<00:00,  3.01s/it]\n"
     ]
    },
    {
     "name": "stdout",
     "output_type": "stream",
     "text": [
      "54 NVA_21-003.IMMCORE.C1v1_15T010760-09-Z1-ImvessC1-4518.csv\n",
      "<class 'numpy.ndarray'>\n",
      "<class 'float'>\n"
     ]
    },
    {
     "name": "stderr",
     "output_type": "stream",
     "text": [
      "randomization: 100%|██████████| 200/200 [18:12<00:00,  5.46s/it]\n"
     ]
    },
    {
     "name": "stdout",
     "output_type": "stream",
     "text": [
      "55 NVA_21-003.IMMCORE.C2v1_18T004469-02-Z2-ImvessC2-4321.csv\n",
      "<class 'numpy.ndarray'>\n",
      "<class 'float'>\n"
     ]
    },
    {
     "name": "stderr",
     "output_type": "stream",
     "text": [
      "randomization: 100%|██████████| 200/200 [45:12<00:00, 13.56s/it]\n"
     ]
    },
    {
     "name": "stdout",
     "output_type": "stream",
     "text": [
      "56 NVA_21-003.IMMCORE.C1v1_17T018454-05-Z3-ImvessC1-4518.csv\n",
      "<class 'numpy.ndarray'>\n",
      "<class 'float'>\n"
     ]
    },
    {
     "name": "stderr",
     "output_type": "stream",
     "text": [
      "randomization: 100%|██████████| 200/200 [14:19<00:00,  4.30s/it]\n"
     ]
    },
    {
     "name": "stdout",
     "output_type": "stream",
     "text": [
      "57 NVA_21-003.IMMCORE.C2v1_18T020627-04-Z1-ImvessC2-4321.csv\n",
      "<class 'numpy.ndarray'>\n",
      "<class 'float'>\n"
     ]
    },
    {
     "name": "stderr",
     "output_type": "stream",
     "text": [
      "randomization:  35%|███▌      | 70/200 [10:28<19:27,  8.98s/it]\n"
     ]
    },
    {
     "ename": "KeyboardInterrupt",
     "evalue": "",
     "output_type": "error",
     "traceback": [
      "\u001b[0;31m---------------------------------------------------------------------------\u001b[0m",
      "\u001b[0;31mKeyboardInterrupt\u001b[0m                         Traceback (most recent call last)",
      "\u001b[0;32m/tmp/ipykernel_112910/848467212.py\u001b[0m in \u001b[0;36m<module>\u001b[0;34m\u001b[0m\n\u001b[1;32m     80\u001b[0m     \u001b[0mprint\u001b[0m\u001b[0;34m(\u001b[0m\u001b[0mtype\u001b[0m\u001b[0;34m(\u001b[0m\u001b[0massort\u001b[0m\u001b[0;34m)\u001b[0m\u001b[0;34m)\u001b[0m\u001b[0;34m\u001b[0m\u001b[0;34m\u001b[0m\u001b[0m\n\u001b[1;32m     81\u001b[0m     \u001b[0;31m# ------ Randomization ------\u001b[0m\u001b[0;34m\u001b[0m\u001b[0;34m\u001b[0m\u001b[0;34m\u001b[0m\u001b[0m\n\u001b[0;32m---> 82\u001b[0;31m     \u001b[0mmixmat_rand\u001b[0m\u001b[0;34m,\u001b[0m \u001b[0massort_rand\u001b[0m \u001b[0;34m=\u001b[0m \u001b[0mmosna\u001b[0m\u001b[0;34m.\u001b[0m\u001b[0mrandomized_mixmat\u001b[0m\u001b[0;34m(\u001b[0m\u001b[0mnodes\u001b[0m\u001b[0;34m,\u001b[0m \u001b[0medges\u001b[0m\u001b[0;34m,\u001b[0m \u001b[0mattributes\u001b[0m\u001b[0;34m,\u001b[0m \u001b[0mn_shuffle\u001b[0m\u001b[0;34m=\u001b[0m\u001b[0;36m200\u001b[0m\u001b[0;34m,\u001b[0m \u001b[0mparallel\u001b[0m\u001b[0;34m=\u001b[0m\u001b[0;32mFalse\u001b[0m\u001b[0;34m)\u001b[0m\u001b[0;34m\u001b[0m\u001b[0;34m\u001b[0m\u001b[0m\n\u001b[0m\u001b[1;32m     83\u001b[0m \u001b[0;34m\u001b[0m\u001b[0m\n\u001b[1;32m     84\u001b[0m     \u001b[0mmixmat_mean\u001b[0m\u001b[0;34m,\u001b[0m \u001b[0mmixmat_std\u001b[0m\u001b[0;34m,\u001b[0m \u001b[0mmixmat_zscore\u001b[0m \u001b[0;34m=\u001b[0m \u001b[0mmosna\u001b[0m\u001b[0;34m.\u001b[0m\u001b[0mzscore\u001b[0m\u001b[0;34m(\u001b[0m\u001b[0mmixmat\u001b[0m\u001b[0;34m,\u001b[0m \u001b[0mmixmat_rand\u001b[0m\u001b[0;34m,\u001b[0m \u001b[0mreturn_stats\u001b[0m\u001b[0;34m=\u001b[0m\u001b[0;32mTrue\u001b[0m\u001b[0;34m)\u001b[0m\u001b[0;34m\u001b[0m\u001b[0;34m\u001b[0m\u001b[0m\n",
      "\u001b[0;32m~/tysserand/workflows/../mosna/mosna/mosna.py\u001b[0m in \u001b[0;36mrandomized_mixmat\u001b[0;34m(nodes, edges, attributes, n_shuffle, parallel, memory_limit)\u001b[0m\n\u001b[1;32m    358\u001b[0m     \u001b[0;32mif\u001b[0m \u001b[0mparallel\u001b[0m \u001b[0;32mis\u001b[0m \u001b[0;32mFalse\u001b[0m\u001b[0;34m:\u001b[0m\u001b[0;34m\u001b[0m\u001b[0;34m\u001b[0m\u001b[0m\n\u001b[1;32m    359\u001b[0m         \u001b[0;32mfor\u001b[0m \u001b[0mi\u001b[0m \u001b[0;32min\u001b[0m \u001b[0mtqdm\u001b[0m\u001b[0;34m(\u001b[0m\u001b[0mrange\u001b[0m\u001b[0;34m(\u001b[0m\u001b[0mn_shuffle\u001b[0m\u001b[0;34m)\u001b[0m\u001b[0;34m,\u001b[0m \u001b[0mdesc\u001b[0m\u001b[0;34m=\u001b[0m\u001b[0;34m\"randomization\"\u001b[0m\u001b[0;34m)\u001b[0m\u001b[0;34m:\u001b[0m\u001b[0;34m\u001b[0m\u001b[0;34m\u001b[0m\u001b[0m\n\u001b[0;32m--> 360\u001b[0;31m             \u001b[0mmixmat_rand\u001b[0m\u001b[0;34m[\u001b[0m\u001b[0mi\u001b[0m\u001b[0;34m]\u001b[0m \u001b[0;34m=\u001b[0m \u001b[0mcore_rand_mixmat\u001b[0m\u001b[0;34m(\u001b[0m\u001b[0mnodes\u001b[0m\u001b[0;34m,\u001b[0m \u001b[0medges\u001b[0m\u001b[0;34m,\u001b[0m \u001b[0mattributes\u001b[0m\u001b[0;34m)\u001b[0m\u001b[0;34m\u001b[0m\u001b[0;34m\u001b[0m\u001b[0m\n\u001b[0m\u001b[1;32m    361\u001b[0m             \u001b[0massort_rand\u001b[0m\u001b[0;34m[\u001b[0m\u001b[0mi\u001b[0m\u001b[0;34m]\u001b[0m \u001b[0;34m=\u001b[0m \u001b[0mattribute_ac\u001b[0m\u001b[0;34m(\u001b[0m\u001b[0mmixmat_rand\u001b[0m\u001b[0;34m[\u001b[0m\u001b[0mi\u001b[0m\u001b[0;34m]\u001b[0m\u001b[0;34m)\u001b[0m\u001b[0;34m\u001b[0m\u001b[0;34m\u001b[0m\u001b[0m\n\u001b[1;32m    362\u001b[0m     \u001b[0;32melse\u001b[0m\u001b[0;34m:\u001b[0m\u001b[0;34m\u001b[0m\u001b[0;34m\u001b[0m\u001b[0m\n",
      "\u001b[0;32m~/tysserand/workflows/../mosna/mosna/mosna.py\u001b[0m in \u001b[0;36mcore_rand_mixmat\u001b[0;34m(nodes, edges, attributes)\u001b[0m\n\u001b[1;32m    321\u001b[0m     \u001b[0mnodes_rand\u001b[0m \u001b[0;34m=\u001b[0m \u001b[0mdeepcopy\u001b[0m\u001b[0;34m(\u001b[0m\u001b[0mnodes\u001b[0m\u001b[0;34m)\u001b[0m\u001b[0;34m\u001b[0m\u001b[0;34m\u001b[0m\u001b[0m\n\u001b[1;32m    322\u001b[0m     \u001b[0mnodes_rand\u001b[0m\u001b[0;34m[\u001b[0m\u001b[0mattributes\u001b[0m\u001b[0;34m]\u001b[0m \u001b[0;34m=\u001b[0m \u001b[0mshuffle\u001b[0m\u001b[0;34m(\u001b[0m\u001b[0mnodes_rand\u001b[0m\u001b[0;34m[\u001b[0m\u001b[0mattributes\u001b[0m\u001b[0;34m]\u001b[0m\u001b[0;34m.\u001b[0m\u001b[0mvalues\u001b[0m\u001b[0;34m)\u001b[0m\u001b[0;34m\u001b[0m\u001b[0;34m\u001b[0m\u001b[0m\n\u001b[0;32m--> 323\u001b[0;31m     \u001b[0mmixmat_rand\u001b[0m \u001b[0;34m=\u001b[0m \u001b[0mmixing_matrix\u001b[0m\u001b[0;34m(\u001b[0m\u001b[0mnodes_rand\u001b[0m\u001b[0;34m,\u001b[0m \u001b[0medges\u001b[0m\u001b[0;34m,\u001b[0m \u001b[0mattributes\u001b[0m\u001b[0;34m)\u001b[0m\u001b[0;34m\u001b[0m\u001b[0;34m\u001b[0m\u001b[0m\n\u001b[0m\u001b[1;32m    324\u001b[0m     \u001b[0;32mreturn\u001b[0m \u001b[0mmixmat_rand\u001b[0m\u001b[0;34m\u001b[0m\u001b[0;34m\u001b[0m\u001b[0m\n\u001b[1;32m    325\u001b[0m \u001b[0;34m\u001b[0m\u001b[0m\n",
      "\u001b[0;32m~/tysserand/workflows/../mosna/mosna/mosna.py\u001b[0m in \u001b[0;36mmixing_matrix\u001b[0;34m(nodes, edges, attributes, normalized, double_diag)\u001b[0m\n\u001b[1;32m    205\u001b[0m     \u001b[0;32mfor\u001b[0m \u001b[0mi\u001b[0m \u001b[0;32min\u001b[0m \u001b[0mrange\u001b[0m\u001b[0;34m(\u001b[0m\u001b[0mlen\u001b[0m\u001b[0;34m(\u001b[0m\u001b[0mattributes\u001b[0m\u001b[0;34m)\u001b[0m\u001b[0;34m)\u001b[0m\u001b[0;34m:\u001b[0m\u001b[0;34m\u001b[0m\u001b[0;34m\u001b[0m\u001b[0m\n\u001b[1;32m    206\u001b[0m         \u001b[0;32mfor\u001b[0m \u001b[0mj\u001b[0m \u001b[0;32min\u001b[0m \u001b[0mrange\u001b[0m\u001b[0;34m(\u001b[0m\u001b[0mi\u001b[0m\u001b[0;34m+\u001b[0m\u001b[0;36m1\u001b[0m\u001b[0;34m)\u001b[0m\u001b[0;34m:\u001b[0m\u001b[0;34m\u001b[0m\u001b[0;34m\u001b[0m\u001b[0m\n\u001b[0;32m--> 207\u001b[0;31m             \u001b[0mmixmat\u001b[0m\u001b[0;34m[\u001b[0m\u001b[0mi\u001b[0m\u001b[0;34m,\u001b[0m \u001b[0mj\u001b[0m\u001b[0;34m]\u001b[0m \u001b[0;34m=\u001b[0m \u001b[0mcount_edges_undirected\u001b[0m\u001b[0;34m(\u001b[0m\u001b[0mnodes\u001b[0m\u001b[0;34m,\u001b[0m \u001b[0medges\u001b[0m\u001b[0;34m,\u001b[0m \u001b[0mattributes\u001b[0m\u001b[0;34m=\u001b[0m\u001b[0;34m[\u001b[0m\u001b[0mattributes\u001b[0m\u001b[0;34m[\u001b[0m\u001b[0mi\u001b[0m\u001b[0;34m]\u001b[0m\u001b[0;34m,\u001b[0m\u001b[0mattributes\u001b[0m\u001b[0;34m[\u001b[0m\u001b[0mj\u001b[0m\u001b[0;34m]\u001b[0m\u001b[0;34m]\u001b[0m\u001b[0;34m)\u001b[0m\u001b[0;34m\u001b[0m\u001b[0;34m\u001b[0m\u001b[0m\n\u001b[0m\u001b[1;32m    208\u001b[0m             \u001b[0mmixmat\u001b[0m\u001b[0;34m[\u001b[0m\u001b[0mj\u001b[0m\u001b[0;34m,\u001b[0m \u001b[0mi\u001b[0m\u001b[0;34m]\u001b[0m \u001b[0;34m=\u001b[0m \u001b[0mmixmat\u001b[0m\u001b[0;34m[\u001b[0m\u001b[0mi\u001b[0m\u001b[0;34m,\u001b[0m \u001b[0mj\u001b[0m\u001b[0;34m]\u001b[0m\u001b[0;34m\u001b[0m\u001b[0;34m\u001b[0m\u001b[0m\n\u001b[1;32m    209\u001b[0m \u001b[0;34m\u001b[0m\u001b[0m\n",
      "\u001b[0;32m~/tysserand/workflows/../mosna/mosna/mosna.py\u001b[0m in \u001b[0;36mcount_edges_undirected\u001b[0;34m(nodes, edges, attributes)\u001b[0m\n\u001b[1;32m    150\u001b[0m     \"\"\"\n\u001b[1;32m    151\u001b[0m \u001b[0;34m\u001b[0m\u001b[0m\n\u001b[0;32m--> 152\u001b[0;31m     pairs = np.logical_or(np.logical_and(nodes.loc[edges['source'], attributes[0]].values, nodes.loc[edges['target'], attributes[1]].values),\n\u001b[0m\u001b[1;32m    153\u001b[0m                           np.logical_and(nodes.loc[edges['target'], attributes[0]].values, nodes.loc[edges['source'], attributes[1]].values))\n\u001b[1;32m    154\u001b[0m     \u001b[0mcount\u001b[0m \u001b[0;34m=\u001b[0m \u001b[0mpairs\u001b[0m\u001b[0;34m.\u001b[0m\u001b[0msum\u001b[0m\u001b[0;34m(\u001b[0m\u001b[0;34m)\u001b[0m\u001b[0;34m\u001b[0m\u001b[0;34m\u001b[0m\u001b[0m\n",
      "\u001b[0;32m~/Projects/tysserand/spatial-network/lib/python3.8/site-packages/pandas/core/indexing.py\u001b[0m in \u001b[0;36m__getitem__\u001b[0;34m(self, key)\u001b[0m\n\u001b[1;32m    923\u001b[0m                 \u001b[0;32mwith\u001b[0m \u001b[0msuppress\u001b[0m\u001b[0;34m(\u001b[0m\u001b[0mKeyError\u001b[0m\u001b[0;34m,\u001b[0m \u001b[0mIndexError\u001b[0m\u001b[0;34m)\u001b[0m\u001b[0;34m:\u001b[0m\u001b[0;34m\u001b[0m\u001b[0;34m\u001b[0m\u001b[0m\n\u001b[1;32m    924\u001b[0m                     \u001b[0;32mreturn\u001b[0m \u001b[0mself\u001b[0m\u001b[0;34m.\u001b[0m\u001b[0mobj\u001b[0m\u001b[0;34m.\u001b[0m\u001b[0m_get_value\u001b[0m\u001b[0;34m(\u001b[0m\u001b[0;34m*\u001b[0m\u001b[0mkey\u001b[0m\u001b[0;34m,\u001b[0m \u001b[0mtakeable\u001b[0m\u001b[0;34m=\u001b[0m\u001b[0mself\u001b[0m\u001b[0;34m.\u001b[0m\u001b[0m_takeable\u001b[0m\u001b[0;34m)\u001b[0m\u001b[0;34m\u001b[0m\u001b[0;34m\u001b[0m\u001b[0m\n\u001b[0;32m--> 925\u001b[0;31m             \u001b[0;32mreturn\u001b[0m \u001b[0mself\u001b[0m\u001b[0;34m.\u001b[0m\u001b[0m_getitem_tuple\u001b[0m\u001b[0;34m(\u001b[0m\u001b[0mkey\u001b[0m\u001b[0;34m)\u001b[0m\u001b[0;34m\u001b[0m\u001b[0;34m\u001b[0m\u001b[0m\n\u001b[0m\u001b[1;32m    926\u001b[0m         \u001b[0;32melse\u001b[0m\u001b[0;34m:\u001b[0m\u001b[0;34m\u001b[0m\u001b[0;34m\u001b[0m\u001b[0m\n\u001b[1;32m    927\u001b[0m             \u001b[0;31m# we by definition only have the 0th axis\u001b[0m\u001b[0;34m\u001b[0m\u001b[0;34m\u001b[0m\u001b[0;34m\u001b[0m\u001b[0m\n",
      "\u001b[0;32m~/Projects/tysserand/spatial-network/lib/python3.8/site-packages/pandas/core/indexing.py\u001b[0m in \u001b[0;36m_getitem_tuple\u001b[0;34m(self, tup)\u001b[0m\n\u001b[1;32m   1098\u001b[0m     \u001b[0;32mdef\u001b[0m \u001b[0m_getitem_tuple\u001b[0m\u001b[0;34m(\u001b[0m\u001b[0mself\u001b[0m\u001b[0;34m,\u001b[0m \u001b[0mtup\u001b[0m\u001b[0;34m:\u001b[0m \u001b[0mtuple\u001b[0m\u001b[0;34m)\u001b[0m\u001b[0;34m:\u001b[0m\u001b[0;34m\u001b[0m\u001b[0;34m\u001b[0m\u001b[0m\n\u001b[1;32m   1099\u001b[0m         \u001b[0;32mwith\u001b[0m \u001b[0msuppress\u001b[0m\u001b[0;34m(\u001b[0m\u001b[0mIndexingError\u001b[0m\u001b[0;34m)\u001b[0m\u001b[0;34m:\u001b[0m\u001b[0;34m\u001b[0m\u001b[0;34m\u001b[0m\u001b[0m\n\u001b[0;32m-> 1100\u001b[0;31m             \u001b[0;32mreturn\u001b[0m \u001b[0mself\u001b[0m\u001b[0;34m.\u001b[0m\u001b[0m_getitem_lowerdim\u001b[0m\u001b[0;34m(\u001b[0m\u001b[0mtup\u001b[0m\u001b[0;34m)\u001b[0m\u001b[0;34m\u001b[0m\u001b[0;34m\u001b[0m\u001b[0m\n\u001b[0m\u001b[1;32m   1101\u001b[0m \u001b[0;34m\u001b[0m\u001b[0m\n\u001b[1;32m   1102\u001b[0m         \u001b[0;31m# no multi-index, so validate all of the indexers\u001b[0m\u001b[0;34m\u001b[0m\u001b[0;34m\u001b[0m\u001b[0;34m\u001b[0m\u001b[0m\n",
      "\u001b[0;32m~/Projects/tysserand/spatial-network/lib/python3.8/site-packages/pandas/core/indexing.py\u001b[0m in \u001b[0;36m_getitem_lowerdim\u001b[0;34m(self, tup)\u001b[0m\n\u001b[1;32m    860\u001b[0m                     \u001b[0;32mreturn\u001b[0m \u001b[0msection\u001b[0m\u001b[0;34m\u001b[0m\u001b[0;34m\u001b[0m\u001b[0m\n\u001b[1;32m    861\u001b[0m                 \u001b[0;31m# This is an elided recursive call to iloc/loc\u001b[0m\u001b[0;34m\u001b[0m\u001b[0;34m\u001b[0m\u001b[0;34m\u001b[0m\u001b[0m\n\u001b[0;32m--> 862\u001b[0;31m                 \u001b[0;32mreturn\u001b[0m \u001b[0mgetattr\u001b[0m\u001b[0;34m(\u001b[0m\u001b[0msection\u001b[0m\u001b[0;34m,\u001b[0m \u001b[0mself\u001b[0m\u001b[0;34m.\u001b[0m\u001b[0mname\u001b[0m\u001b[0;34m)\u001b[0m\u001b[0;34m[\u001b[0m\u001b[0mnew_key\u001b[0m\u001b[0;34m]\u001b[0m\u001b[0;34m\u001b[0m\u001b[0;34m\u001b[0m\u001b[0m\n\u001b[0m\u001b[1;32m    863\u001b[0m \u001b[0;34m\u001b[0m\u001b[0m\n\u001b[1;32m    864\u001b[0m         \u001b[0;32mraise\u001b[0m \u001b[0mIndexingError\u001b[0m\u001b[0;34m(\u001b[0m\u001b[0;34m\"not applicable\"\u001b[0m\u001b[0;34m)\u001b[0m\u001b[0;34m\u001b[0m\u001b[0;34m\u001b[0m\u001b[0m\n",
      "\u001b[0;32m~/Projects/tysserand/spatial-network/lib/python3.8/site-packages/pandas/core/indexing.py\u001b[0m in \u001b[0;36m__getitem__\u001b[0;34m(self, key)\u001b[0m\n\u001b[1;32m    929\u001b[0m \u001b[0;34m\u001b[0m\u001b[0m\n\u001b[1;32m    930\u001b[0m             \u001b[0mmaybe_callable\u001b[0m \u001b[0;34m=\u001b[0m \u001b[0mcom\u001b[0m\u001b[0;34m.\u001b[0m\u001b[0mapply_if_callable\u001b[0m\u001b[0;34m(\u001b[0m\u001b[0mkey\u001b[0m\u001b[0;34m,\u001b[0m \u001b[0mself\u001b[0m\u001b[0;34m.\u001b[0m\u001b[0mobj\u001b[0m\u001b[0;34m)\u001b[0m\u001b[0;34m\u001b[0m\u001b[0;34m\u001b[0m\u001b[0m\n\u001b[0;32m--> 931\u001b[0;31m             \u001b[0;32mreturn\u001b[0m \u001b[0mself\u001b[0m\u001b[0;34m.\u001b[0m\u001b[0m_getitem_axis\u001b[0m\u001b[0;34m(\u001b[0m\u001b[0mmaybe_callable\u001b[0m\u001b[0;34m,\u001b[0m \u001b[0maxis\u001b[0m\u001b[0;34m=\u001b[0m\u001b[0maxis\u001b[0m\u001b[0;34m)\u001b[0m\u001b[0;34m\u001b[0m\u001b[0;34m\u001b[0m\u001b[0m\n\u001b[0m\u001b[1;32m    932\u001b[0m \u001b[0;34m\u001b[0m\u001b[0m\n\u001b[1;32m    933\u001b[0m     \u001b[0;32mdef\u001b[0m \u001b[0m_is_scalar_access\u001b[0m\u001b[0;34m(\u001b[0m\u001b[0mself\u001b[0m\u001b[0;34m,\u001b[0m \u001b[0mkey\u001b[0m\u001b[0;34m:\u001b[0m \u001b[0mtuple\u001b[0m\u001b[0;34m)\u001b[0m\u001b[0;34m:\u001b[0m\u001b[0;34m\u001b[0m\u001b[0;34m\u001b[0m\u001b[0m\n",
      "\u001b[0;32m~/Projects/tysserand/spatial-network/lib/python3.8/site-packages/pandas/core/indexing.py\u001b[0m in \u001b[0;36m_getitem_axis\u001b[0;34m(self, key, axis)\u001b[0m\n\u001b[1;32m   1151\u001b[0m                     \u001b[0;32mraise\u001b[0m \u001b[0mValueError\u001b[0m\u001b[0;34m(\u001b[0m\u001b[0;34m\"Cannot index with multidimensional key\"\u001b[0m\u001b[0;34m)\u001b[0m\u001b[0;34m\u001b[0m\u001b[0;34m\u001b[0m\u001b[0m\n\u001b[1;32m   1152\u001b[0m \u001b[0;34m\u001b[0m\u001b[0m\n\u001b[0;32m-> 1153\u001b[0;31m                 \u001b[0;32mreturn\u001b[0m \u001b[0mself\u001b[0m\u001b[0;34m.\u001b[0m\u001b[0m_getitem_iterable\u001b[0m\u001b[0;34m(\u001b[0m\u001b[0mkey\u001b[0m\u001b[0;34m,\u001b[0m \u001b[0maxis\u001b[0m\u001b[0;34m=\u001b[0m\u001b[0maxis\u001b[0m\u001b[0;34m)\u001b[0m\u001b[0;34m\u001b[0m\u001b[0;34m\u001b[0m\u001b[0m\n\u001b[0m\u001b[1;32m   1154\u001b[0m \u001b[0;34m\u001b[0m\u001b[0m\n\u001b[1;32m   1155\u001b[0m             \u001b[0;31m# nested tuple slicing\u001b[0m\u001b[0;34m\u001b[0m\u001b[0;34m\u001b[0m\u001b[0;34m\u001b[0m\u001b[0m\n",
      "\u001b[0;32m~/Projects/tysserand/spatial-network/lib/python3.8/site-packages/pandas/core/indexing.py\u001b[0m in \u001b[0;36m_getitem_iterable\u001b[0;34m(self, key, axis)\u001b[0m\n\u001b[1;32m   1091\u001b[0m \u001b[0;34m\u001b[0m\u001b[0m\n\u001b[1;32m   1092\u001b[0m         \u001b[0;31m# A collection of keys\u001b[0m\u001b[0;34m\u001b[0m\u001b[0;34m\u001b[0m\u001b[0;34m\u001b[0m\u001b[0m\n\u001b[0;32m-> 1093\u001b[0;31m         \u001b[0mkeyarr\u001b[0m\u001b[0;34m,\u001b[0m \u001b[0mindexer\u001b[0m \u001b[0;34m=\u001b[0m \u001b[0mself\u001b[0m\u001b[0;34m.\u001b[0m\u001b[0m_get_listlike_indexer\u001b[0m\u001b[0;34m(\u001b[0m\u001b[0mkey\u001b[0m\u001b[0;34m,\u001b[0m \u001b[0maxis\u001b[0m\u001b[0;34m)\u001b[0m\u001b[0;34m\u001b[0m\u001b[0;34m\u001b[0m\u001b[0m\n\u001b[0m\u001b[1;32m   1094\u001b[0m         return self.obj._reindex_with_indexers(\n\u001b[1;32m   1095\u001b[0m             \u001b[0;34m{\u001b[0m\u001b[0maxis\u001b[0m\u001b[0;34m:\u001b[0m \u001b[0;34m[\u001b[0m\u001b[0mkeyarr\u001b[0m\u001b[0;34m,\u001b[0m \u001b[0mindexer\u001b[0m\u001b[0;34m]\u001b[0m\u001b[0;34m}\u001b[0m\u001b[0;34m,\u001b[0m \u001b[0mcopy\u001b[0m\u001b[0;34m=\u001b[0m\u001b[0;32mTrue\u001b[0m\u001b[0;34m,\u001b[0m \u001b[0mallow_dups\u001b[0m\u001b[0;34m=\u001b[0m\u001b[0;32mTrue\u001b[0m\u001b[0;34m\u001b[0m\u001b[0;34m\u001b[0m\u001b[0m\n",
      "\u001b[0;32m~/Projects/tysserand/spatial-network/lib/python3.8/site-packages/pandas/core/indexing.py\u001b[0m in \u001b[0;36m_get_listlike_indexer\u001b[0;34m(self, key, axis)\u001b[0m\n\u001b[1;32m   1307\u001b[0m \u001b[0;34m\u001b[0m\u001b[0m\n\u001b[1;32m   1308\u001b[0m         \u001b[0;32mif\u001b[0m \u001b[0max\u001b[0m\u001b[0;34m.\u001b[0m\u001b[0m_index_as_unique\u001b[0m\u001b[0;34m:\u001b[0m\u001b[0;34m\u001b[0m\u001b[0;34m\u001b[0m\u001b[0m\n\u001b[0;32m-> 1309\u001b[0;31m             \u001b[0mindexer\u001b[0m \u001b[0;34m=\u001b[0m \u001b[0max\u001b[0m\u001b[0;34m.\u001b[0m\u001b[0mget_indexer_for\u001b[0m\u001b[0;34m(\u001b[0m\u001b[0mkeyarr\u001b[0m\u001b[0;34m)\u001b[0m\u001b[0;34m\u001b[0m\u001b[0;34m\u001b[0m\u001b[0m\n\u001b[0m\u001b[1;32m   1310\u001b[0m             \u001b[0mkeyarr\u001b[0m \u001b[0;34m=\u001b[0m \u001b[0max\u001b[0m\u001b[0;34m.\u001b[0m\u001b[0mreindex\u001b[0m\u001b[0;34m(\u001b[0m\u001b[0mkeyarr\u001b[0m\u001b[0;34m)\u001b[0m\u001b[0;34m[\u001b[0m\u001b[0;36m0\u001b[0m\u001b[0;34m]\u001b[0m\u001b[0;34m\u001b[0m\u001b[0;34m\u001b[0m\u001b[0m\n\u001b[1;32m   1311\u001b[0m         \u001b[0;32melse\u001b[0m\u001b[0;34m:\u001b[0m\u001b[0;34m\u001b[0m\u001b[0;34m\u001b[0m\u001b[0m\n",
      "\u001b[0;32m~/Projects/tysserand/spatial-network/lib/python3.8/site-packages/pandas/core/indexes/base.py\u001b[0m in \u001b[0;36mget_indexer_for\u001b[0;34m(self, target, **kwargs)\u001b[0m\n\u001b[1;32m   5273\u001b[0m         \"\"\"\n\u001b[1;32m   5274\u001b[0m         \u001b[0;32mif\u001b[0m \u001b[0mself\u001b[0m\u001b[0;34m.\u001b[0m\u001b[0m_index_as_unique\u001b[0m\u001b[0;34m:\u001b[0m\u001b[0;34m\u001b[0m\u001b[0;34m\u001b[0m\u001b[0m\n\u001b[0;32m-> 5275\u001b[0;31m             \u001b[0;32mreturn\u001b[0m \u001b[0mself\u001b[0m\u001b[0;34m.\u001b[0m\u001b[0mget_indexer\u001b[0m\u001b[0;34m(\u001b[0m\u001b[0mtarget\u001b[0m\u001b[0;34m,\u001b[0m \u001b[0;34m**\u001b[0m\u001b[0mkwargs\u001b[0m\u001b[0;34m)\u001b[0m\u001b[0;34m\u001b[0m\u001b[0;34m\u001b[0m\u001b[0m\n\u001b[0m\u001b[1;32m   5276\u001b[0m         \u001b[0mindexer\u001b[0m\u001b[0;34m,\u001b[0m \u001b[0m_\u001b[0m \u001b[0;34m=\u001b[0m \u001b[0mself\u001b[0m\u001b[0;34m.\u001b[0m\u001b[0mget_indexer_non_unique\u001b[0m\u001b[0;34m(\u001b[0m\u001b[0mtarget\u001b[0m\u001b[0;34m)\u001b[0m\u001b[0;34m\u001b[0m\u001b[0;34m\u001b[0m\u001b[0m\n\u001b[1;32m   5277\u001b[0m         \u001b[0;32mreturn\u001b[0m \u001b[0mindexer\u001b[0m\u001b[0;34m\u001b[0m\u001b[0;34m\u001b[0m\u001b[0m\n",
      "\u001b[0;32m~/Projects/tysserand/spatial-network/lib/python3.8/site-packages/pandas/core/indexes/base.py\u001b[0m in \u001b[0;36mget_indexer\u001b[0;34m(self, target, method, limit, tolerance)\u001b[0m\n\u001b[1;32m   3484\u001b[0m             )\n\u001b[1;32m   3485\u001b[0m \u001b[0;34m\u001b[0m\u001b[0m\n\u001b[0;32m-> 3486\u001b[0;31m         \u001b[0;32mreturn\u001b[0m \u001b[0mself\u001b[0m\u001b[0;34m.\u001b[0m\u001b[0m_get_indexer\u001b[0m\u001b[0;34m(\u001b[0m\u001b[0mtarget\u001b[0m\u001b[0;34m,\u001b[0m \u001b[0mmethod\u001b[0m\u001b[0;34m,\u001b[0m \u001b[0mlimit\u001b[0m\u001b[0;34m,\u001b[0m \u001b[0mtolerance\u001b[0m\u001b[0;34m)\u001b[0m\u001b[0;34m\u001b[0m\u001b[0;34m\u001b[0m\u001b[0m\n\u001b[0m\u001b[1;32m   3487\u001b[0m \u001b[0;34m\u001b[0m\u001b[0m\n\u001b[1;32m   3488\u001b[0m     def _get_indexer(\n",
      "\u001b[0;32m~/Projects/tysserand/spatial-network/lib/python3.8/site-packages/pandas/core/indexes/range.py\u001b[0m in \u001b[0;36m_get_indexer\u001b[0;34m(self, target, method, limit, tolerance)\u001b[0m\n\u001b[1;32m    417\u001b[0m         \u001b[0mvalid\u001b[0m \u001b[0;34m=\u001b[0m \u001b[0;34m(\u001b[0m\u001b[0mlocs\u001b[0m \u001b[0;34m%\u001b[0m \u001b[0mstep\u001b[0m \u001b[0;34m==\u001b[0m \u001b[0;36m0\u001b[0m\u001b[0;34m)\u001b[0m \u001b[0;34m&\u001b[0m \u001b[0;34m(\u001b[0m\u001b[0mlocs\u001b[0m \u001b[0;34m>=\u001b[0m \u001b[0;36m0\u001b[0m\u001b[0;34m)\u001b[0m \u001b[0;34m&\u001b[0m \u001b[0;34m(\u001b[0m\u001b[0mtarget_array\u001b[0m \u001b[0;34m<\u001b[0m \u001b[0mstop\u001b[0m\u001b[0;34m)\u001b[0m\u001b[0;34m\u001b[0m\u001b[0;34m\u001b[0m\u001b[0m\n\u001b[1;32m    418\u001b[0m         \u001b[0mlocs\u001b[0m\u001b[0;34m[\u001b[0m\u001b[0;34m~\u001b[0m\u001b[0mvalid\u001b[0m\u001b[0;34m]\u001b[0m \u001b[0;34m=\u001b[0m \u001b[0;34m-\u001b[0m\u001b[0;36m1\u001b[0m\u001b[0;34m\u001b[0m\u001b[0;34m\u001b[0m\u001b[0m\n\u001b[0;32m--> 419\u001b[0;31m         \u001b[0mlocs\u001b[0m\u001b[0;34m[\u001b[0m\u001b[0mvalid\u001b[0m\u001b[0;34m]\u001b[0m \u001b[0;34m=\u001b[0m \u001b[0mlocs\u001b[0m\u001b[0;34m[\u001b[0m\u001b[0mvalid\u001b[0m\u001b[0;34m]\u001b[0m \u001b[0;34m/\u001b[0m \u001b[0mstep\u001b[0m\u001b[0;34m\u001b[0m\u001b[0;34m\u001b[0m\u001b[0m\n\u001b[0m\u001b[1;32m    420\u001b[0m \u001b[0;34m\u001b[0m\u001b[0m\n\u001b[1;32m    421\u001b[0m         \u001b[0;32mif\u001b[0m \u001b[0mstep\u001b[0m \u001b[0;34m!=\u001b[0m \u001b[0mself\u001b[0m\u001b[0;34m.\u001b[0m\u001b[0mstep\u001b[0m\u001b[0;34m:\u001b[0m\u001b[0;34m\u001b[0m\u001b[0;34m\u001b[0m\u001b[0m\n",
      "\u001b[0;31mKeyboardInterrupt\u001b[0m: "
     ]
    }
   ],
   "source": [
    "i = 1\n",
    "for csv_file in csv_levels[::1]:\n",
    "    print(i, csv_file)\n",
    "    i += 1\n",
    "    nodes = pd.read_csv(csv_path + csv_file , header = None)\n",
    "    nodes.columns = ['id','x','y','class']\n",
    "\n",
    "    ratio = 1\n",
    "    nodes = nodes.sample(n = round(len(nodes) / ratio) )\n",
    "    coords = nodes.loc[:,['x','y']].values\n",
    "\n",
    "\n",
    "    #make colors\n",
    "    nodes['color'] = '#7f8c8d'\n",
    "    nodes.loc[nodes['class'] == 'C1' , 'color' ] = '#e74c3c' #RED\n",
    "    nodes.loc[nodes['class'] == 'C1' , 'color' ] = '#e67e22' #ORANGE\n",
    "    nodes.loc[nodes['class'] == 'C1' , 'color' ] = '#f1c40f' #YELLOW\n",
    "    nodes.loc[nodes['class'] == 'C1' , 'color' ] = '#8e44ad' #PURPLE\n",
    "    nodes.loc[nodes['class'] == 'C1' , 'color' ] = '#2980b9' #LIGHT BLUE \n",
    "    nodes.loc[nodes['class'] == 'C1' , 'color' ] = '#16a085' #GREEN SEA\n",
    "    nodes.loc[nodes['class'] == 'C1' , 'color' ] = '#2c3e50' #BLUE MIDNIGHT\n",
    "    nodes.loc[nodes['class'] == 'C1' , 'color' ] = '#27ae60' #GREEN\n",
    "    nodes.loc[nodes['class'] == 'C1' , 'color' ] = '#7f8c8d' #GRAY\n",
    "\n",
    "\n",
    "    cropped_coords = nodes.loc[:,['x','y']].values\n",
    "    cropped_colors = nodes['color']\n",
    "\n",
    "    ##########\n",
    "    cropped_coords[:,0]  = (cropped_coords[:,0] * 0.1).round()\n",
    "    cropped_coords[:,1]  = (cropped_coords[:,1] * 0.1).round()\n",
    "\n",
    "\n",
    "    cropped_pairs = ty.build_delaunay(cropped_coords)\n",
    "\n",
    "\n",
    "    pd.DataFrame(cropped_pairs).to_csv(\"/home/mouneem/tysserand/PanCK/output/pairs.\"+csv_file)\n",
    "\n",
    "    pd.DataFrame(cropped_coords).to_csv(\"/home/mouneem/tysserand/PanCK/output/coords.\"+csv_file)\n",
    "    pd.DataFrame(cropped_colors).to_csv(\"/home/mouneem/tysserand/PanCK/output/colors.\"+csv_file)\n",
    "\n",
    "    nodes.loc[nodes['class'] == 'M1' , 'class' ] = 'M1' \n",
    "    nodes.loc[nodes['class'] == 'M2' , 'class' ] = 'M2' \n",
    "    nodes.loc[nodes['class'] == 'Other' , 'class' ] = 'Other' \n",
    "    nodes.to_csv(\"/home/mouneem/tysserand/PanCK/output/nodes.\"+csv_file)\n",
    "\n",
    "\n",
    "\n",
    "\n",
    "    attributes = nodes['class']\n",
    "    mosna_nodes = nodes\n",
    "    edges = pd.DataFrame(data=cropped_pairs, columns=['source', 'target'])\n",
    "    mosna_nodes = pd.DataFrame(data=cropped_coords, columns=['x', 'y'])\n",
    "    mosna_nodes['Group'] = attributes.values\n",
    "    mosna_nodes = mosna_nodes.join(pd.get_dummies(mosna_nodes['Group']))\n",
    "    att = mosna_nodes['Group']\n",
    "    attributes = mosna_nodes['Group'].unique()\n",
    "    mosna_nodes.head()\n",
    "\n",
    "    pd.DataFrame(attributes).to_csv(\"/home/mouneem/tysserand/PanCK/output/attributes.\"+csv_file)\n",
    "    pd.DataFrame(edges).to_csv(\"/home/mouneem/tysserand/PanCK/output/edges.\"+csv_file)\n",
    "    mosna_nodes.to_csv(\"/home/mouneem/tysserand/PanCK/output/mosna_nodes.\"+csv_file)\n",
    "\n",
    "\n",
    "    attributes = nodes['class']\n",
    "    edges = pd.DataFrame(data=cropped_pairs, columns=['source', 'target'])\n",
    "    nodes = pd.DataFrame(data=cropped_coords, columns=['x', 'y'])\n",
    "    nodes['Group'] = attributes.values\n",
    "    nodes = nodes.join(pd.get_dummies(nodes['Group']))\n",
    "    att = nodes['Group']\n",
    "    attributes = nodes['Group'].unique()\n",
    "    nodes.head()\n",
    "\n",
    "\n",
    "\n",
    "    # Network statistics\n",
    "    mixmat = mosna.mixing_matrix(nodes, edges, attributes)\n",
    "    assort = mosna.attribute_ac(mixmat)\n",
    "    print(type(mixmat))\n",
    "    print(type(assort))\n",
    "    # ------ Randomization ------\n",
    "    mixmat_rand, assort_rand = mosna.randomized_mixmat(nodes, edges, attributes, n_shuffle=200, parallel=False)\n",
    "\n",
    "    mixmat_mean, mixmat_std, mixmat_zscore = mosna.zscore(mixmat, mixmat_rand, return_stats=True)\n",
    "    assort_mean, assort_std, assort_zscore = mosna.zscore(assort, assort_rand, return_stats=True)\n",
    "\n",
    "    mixmat = mosna.mixmat_to_df(mixmat, attributes)\n",
    "    mixmat_zscore = mosna.mixmat_to_df(mixmat_zscore, attributes)\n",
    "\n",
    "    pd.DataFrame(mixmat).to_csv(\"/home/mouneem/tysserand/PanCK/output/mixmat.\"+csv_file)\n",
    "    pd.DataFrame(mixmat_zscore).to_csv(\"/home/mouneem/tysserand/PanCK/output/mixmat_zscore.\"+csv_file)\n"
   ]
  },
  {
   "cell_type": "code",
   "execution_count": null,
   "metadata": {},
   "outputs": [],
   "source": [
    "\n",
    "\n",
    "\n",
    "nodes = nodesAll\n",
    "nodes.loc[nodes['class'] == 'C1' , 'class' ] = 'PanCK+CD3-CD8-CD20-'\n",
    "nodes.loc[nodes['class'] == 'C2' , 'class' ] = 'PanCK-CD3+CD8+' \n",
    "nodes.loc[nodes['class'] == 'C3' , 'class' ] = 'PanCK-CD3+CD8-' \n",
    "nodes.loc[nodes['class'] == 'C4' , 'class' ] = 'PanCK-CD3-CD20+' \n",
    "nodes.loc[nodes['class'] == 'C5' , 'class' ] = 'PanCK-CD3+CD20+' \n",
    "\n",
    "attributes = nodes['class']\n",
    "\n",
    "edges = pd.DataFrame(data=cropped_pairs, columns=['source', 'target'])\n",
    "nodes = pd.DataFrame(data=cropped_coords, columns=['x', 'y'])\n",
    "nodes['Group'] = attributes.values\n",
    "nodes = nodes.join(pd.get_dummies(nodes['Group']))\n",
    "att = nodes['Group']\n",
    "attributes = nodes['Group'].unique()\n",
    "nodes.head()\n",
    "\n",
    "\n",
    "\n",
    "# Network statistics\n",
    "mixmat = mosna.mixing_matrix(nodes, edges, attributes)\n",
    "assort = mosna.attribute_ac(mixmat)\n",
    "\n",
    "# ------ Randomization ------\n",
    "mixmat_rand, assort_rand = mosna.randomized_mixmat(nodes, edges, attributes, n_shuffle=200, parallel=False)\n",
    "mixmat_mean, mixmat_std, mixmat_zscore = mosna.zscore(mixmat, mixmat_rand, return_stats=True)\n",
    "assort_mean, assort_std, assort_zscore = mosna.zscore(assort, assort_rand, return_stats=True)\n",
    "\n",
    "mixmat = mosna.mixmat_to_df(mixmat, attributes)\n",
    "mixmat_zscore = mosna.mixmat_to_df(mixmat_zscore, attributes)\n",
    "\n",
    "\n"
   ]
  },
  {
   "cell_type": "code",
   "execution_count": null,
   "metadata": {},
   "outputs": [],
   "source": [
    "save_dir = Path(\"/home/abdelmounimessabbar/Bureau/PanCKmosna_output\")\n",
    "\n",
    "sns.set_context('talk')\n",
    "\n",
    "title = \"Assortativity by cell types:\"\n",
    "print(title)\n",
    "fig, ax = plt.subplots(figsize=(9, 6))\n",
    "sns.heatmap(mixmat, center=0, cmap=\"vlag\", annot=True, linewidths=.5, ax=ax)\n",
    "plt.xticks(rotation=30, ha='right');\n",
    "# plt.xticks(rotation=30, ha='right', fontsize=20);\n",
    "# plt.yticks(fontsize=20);\n",
    "plt.savefig(save_dir / \"assortativity\", bbox_inches='tight', facecolor='white')\n",
    "\n",
    "print(\"Z-scored assortativity by cell types: {}\".format(assort_zscore))\n",
    "fig, ax = plt.subplots(figsize=(9, 6))\n",
    "sns.heatmap(mixmat_zscore, center=0, cmap=\"vlag\", annot=True, linewidths=.5, ax=ax)\n",
    "plt.xticks(rotation=30, ha='right');\n",
    "plt.savefig(save_dir / \"assortativity_z-scored\", bbox_inches='tight', facecolor='white')"
   ]
  },
  {
   "cell_type": "code",
   "execution_count": null,
   "metadata": {},
   "outputs": [],
   "source": []
  },
  {
   "cell_type": "markdown",
   "metadata": {},
   "source": []
  },
  {
   "cell_type": "code",
   "execution_count": null,
   "metadata": {},
   "outputs": [],
   "source": []
  },
  {
   "cell_type": "code",
   "execution_count": null,
   "metadata": {},
   "outputs": [],
   "source": []
  },
  {
   "cell_type": "code",
   "execution_count": null,
   "metadata": {},
   "outputs": [],
   "source": []
  },
  {
   "cell_type": "code",
   "execution_count": null,
   "metadata": {},
   "outputs": [],
   "source": []
  },
  {
   "cell_type": "code",
   "execution_count": null,
   "metadata": {},
   "outputs": [],
   "source": []
  },
  {
   "cell_type": "code",
   "execution_count": null,
   "metadata": {},
   "outputs": [],
   "source": []
  },
  {
   "cell_type": "markdown",
   "metadata": {},
   "source": []
  },
  {
   "cell_type": "code",
   "execution_count": null,
   "metadata": {},
   "outputs": [],
   "source": []
  },
  {
   "cell_type": "markdown",
   "metadata": {},
   "source": []
  },
  {
   "cell_type": "code",
   "execution_count": null,
   "metadata": {},
   "outputs": [],
   "source": []
  },
  {
   "cell_type": "markdown",
   "metadata": {},
   "source": []
  },
  {
   "cell_type": "code",
   "execution_count": null,
   "metadata": {},
   "outputs": [],
   "source": []
  },
  {
   "cell_type": "code",
   "execution_count": null,
   "metadata": {},
   "outputs": [],
   "source": []
  },
  {
   "cell_type": "code",
   "execution_count": null,
   "metadata": {},
   "outputs": [],
   "source": []
  }
 ],
 "metadata": {
  "interpreter": {
   "hash": "0746f5b2c01e958414395754882cf6092b13870828f8e16bc72ea4cedeeea844"
  },
  "kernelspec": {
   "display_name": "Python 3 (ipykernel)",
   "language": "python",
   "name": "python3"
  },
  "language_info": {
   "codemirror_mode": {
    "name": "ipython",
    "version": 3
   },
   "file_extension": ".py",
   "mimetype": "text/x-python",
   "name": "python",
   "nbconvert_exporter": "python",
   "pygments_lexer": "ipython3",
   "version": "3.8.10"
  }
 },
 "nbformat": 4,
 "nbformat_minor": 4
}
