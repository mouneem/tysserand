{
 "cells": [
  {
   "cell_type": "code",
   "execution_count": 13,
   "metadata": {},
   "outputs": [],
   "source": [
    "#Load libs\n",
    "\n",
    "import numpy as np\n",
    "import pandas as pd\n",
    "import matplotlib.pyplot as plt\n",
    "import os\n",
    "from pathlib import Path\n",
    "from tysserand import tysserand as ty\n",
    "from PIL import Image\n",
    "Image.MAX_IMAGE_PIXELS = 1000000000 \n",
    "from PIL import Image, ImageOps\n",
    "import fcsparser\n",
    "\n",
    "from os import listdir\n",
    "from os.path import isfile, join\n",
    "#set up working dir\n",
    "\n",
    "import sys\n",
    "sys.path.extend([\n",
    "    '../tysserand/tysserand',\n",
    "    '../mosna',\n",
    "])\n",
    "\n",
    "import seaborn as sns\n",
    "from time import time\n",
    "import copy\n",
    "from skimage import color\n",
    "import matplotlib as mpl\n",
    "import napari\n",
    "\n",
    "from sklearn.preprocessing import StandardScaler\n",
    "from sklearn.neighbors import KNeighborsClassifier\n",
    "from sklearn.svm import SVC, LinearSVC\n",
    "from sklearn.metrics import accuracy_score\n",
    "from sklearn.model_selection import cross_validate, GridSearchCV, RandomizedSearchCV\n",
    "from scipy.stats import loguniform\n",
    "\n",
    "import umap\n",
    "# if not installed run: conda install -c conda-forge umap-learn\n",
    "import hdbscan\n",
    "from sklearn.cluster import OPTICS, cluster_optics_dbscan\n",
    "\n",
    "from skimage import io\n",
    "\n",
    "from scipy.stats import ttest_ind    # Welch's t-test\n",
    "from scipy.stats import mannwhitneyu # Mann-Whitney rank test\n",
    "from scipy.stats import ks_2samp     # Kolmogorov-Smirnov statistic\n",
    "\n",
    "sys.path.append(\"/home/mouneem/mosna/\")\n",
    "\n",
    "\n",
    "from tysserand import tysserand as ty\n",
    "from mosna import mosna\n",
    "\n",
    "\n",
    "\n",
    "\n",
    "\n",
    "\n",
    "data_dir = Path(\"/home/mouneem/tysserand/\")\n",
    "path = str(\"/home/mouneem/tysserand/CORDELIER_PIERRE/\")\n",
    "path_nets = str(\"/home/mouneem/tysserand/nets/\")\n",
    "#path = str(\"/home/mouneem/tysserand/data/\")\n",
    "\n",
    "# select all CSVs\n",
    "csv_path = \"/home/mouneem/tysserand/CORDELIER_PIERRE/csv_M1_M2/\"\n",
    "csv_levels = [f for f in listdir(csv_path) if isfile(join(csv_path, f))]\n",
    "\n",
    "\n",
    "save_dir = Path(\"/home/mouneem/tysserand/CORDELIER_PIERRE/mosna_output/\")\n",
    "mosna_output = str(\"/home/mouneem/tysserand/CORDELIER_PIERRE/mosna_output/\")\n",
    "\n",
    "sns.set_context('talk')\n",
    "\n"
   ]
  },
  {
   "cell_type": "code",
   "execution_count": 14,
   "metadata": {},
   "outputs": [
    {
     "name": "stdout",
     "output_type": "stream",
     "text": [
      "['NVA_21-003.IMMCORE.C1v1_15T034275-11-Z1-2-ImvessC1-4518.csv', 'NVA_21-003.IMMCORE.C2v1_15T010760-09-Z1-ImvessC2-4321.csv', 'NVA_21-003.IMMCORE.C1v1_17T054628-06-Z1-ImvessC1-4518.csv', 'NVA_21-003.IMMCORE.C2v1_15T008187-08-ImvessC2-4321.csv', 'NVA_21-003.IMMCORE.C1v1_15T008187-08-ImvessC1-4518.csv', 'NVA_21-003.IMMCORE.C1v1_16T058343-12-ImvessC1-4518.csv', 'NVA_21-003.IMMCORE.C1v1_18T009975-12-ImvessC1-4518.csv', 'NVA_21-003.IMMCORE.C2v1_15T027584-13-2-ImvessC2-4321.csv', 'NVA_21-003.IMMCORE.C2v1_19T037195-08-Z1-2-ImvessC2-4321.csv', 'NVA_21-003.IMMCORE.C1v1_15T027584-13-ImvessC1-4518.csv', 'NVA_21-003.IMMCORE.C1v1_17T003826-06-ImvessC1-4518.csv', 'NVA_21-003.IMMCORE.C1v1_16T037314-11-Z1-ImvessC1-4518.csv', 'NVA_21-003.IMMCORE.C2v1_16T037314-11-Z3-ImvessC2-4321.csv', 'NVA_21-003.IMMCORE.C2v1_19T002076-07-Z2-ImvessC2-4321.csv', 'NVA_21-003.IMMCORE.C1v1_16T042639-11-Z2-ImvessC1-4518.csv', 'NVA_21-003.IMMCORE.C1v1_16T013087-8-ImvessC1-4518.csv', 'NVA_21-003.IMMCORE.C1v1_17T020895-03-Z2-ImvessC1-4518.csv', 'NVA_21-003.IMMCORE.C1v1_15T010760-09-Z2-ImvessC1-4518.csv', 'NVA_21-003.IMMCORE.C1v1_17T020615-09-2-ImvessC1-4518.csv', 'NVA_21-003.IMMCORE.C1v1_18T005297-13-ImvessC1-4518.csv', 'NVA_21-003.IMMCORE.C2v1_17T018454-05-Z2-ImvessC2-4321.csv', 'NVA_21-003.IMMCORE.C2v1_17T006383-09-Z2-ImvessC2-4321.csv', 'NVA_21-003.IMMCORE.C1v1_19T006284-08-ImvessC1-4518.csv', 'NVA_21-003.IMMCORE.C1v1_16T022680-3-ImvessC1-4518.csv', 'NVA_21-003.IMMCORE.C2v1_17T021098-13-Z1-ImvessC2-4321.csv', 'NVA_21-003.IMMCORE.C1v1_18T004469-02-Z1-ImvessC1-4518.csv', 'NVA_21-003.IMMCORE.C2v1_18T004469-02-Z1-ImvessC2-4321.csv', 'NVA_21-003.IMMCORE.C1v1_17T021098-13-Z2-ImvessC1-4518.csv', 'NVA_21-003.IMMCORE.C2v1_15T010441-02-ImvessC2-4321.csv', 'NVA_21-003.IMMCORE.C1v1_18T004469-02-Z2-ImvessC1-4518.csv', 'NVA_21-003.IMMCORE.C1v1_18T047929-09-Z1-ImvessC1-4518.csv', 'NVA_21-003.IMMCORE.C2v1_18T047929-09-Z1-ImvessC2-4321.csv', 'NVA_21-003.IMMCORE.C2v1_18T044196-05-Z2-ImvessC2-4321.csv', 'NVA_21-003.IMMCORE.C1v1_15T034275-11-Z2-2-ImvessC1-4518.csv', 'NVA_21-003.IMMCORE.C1v1_15T046951-1-ImvessC1-4518.csv', 'NVA_21-003.IMMCORE.C1v1_18T040686-03-ImvessC1-4518.csv', 'NVA_21-003.IMMCORE.C1v1_18T047929-09-Z2-ImvessC1-4518.csv', 'NVA_21-003.IMMCORE.C2v1_15T010760-09-Z2-ImvessC2-4321.csv', 'NVA_21-003.IMMCORE.C2v1_16T013087-8-ImvessC2-4321.csv', 'NVA_21-003.IMMCORE.C1v1_18T044196-05-Z2-ImvessC1-4518.csv', 'NVA_21-003.IMMCORE.C2v1_19T020336-21-ImvessC2-4321.csv', 'NVA_21-003.IMMCORE.C2v1_15T052601-14-Z1-ImvessC2-4321.csv', 'NVA_21-003.IMMCORE.C1v1_16T037314-11-Z3-ImvessC1-4518.csv', 'NVA_21-003.IMMCORE.C1v1_17T018454-05-Z1-ImvessC1-4518.csv', 'NVA_21-003.IMMCORE.C1v1_17T033078-09-Z2-ImvessC1-4518.csv', 'NVA_21-003.IMMCORE.C1v1_18T047929-09-Z3-ImvessC1-4518.csv', 'NVA_21-003.IMMCORE.C1v1_18T020627-04-Z3-ImvessC1-4518.csv', 'NVA_21-003.IMMCORE.C1v1_17T004343-07-ImvessC1-4518.csv', 'NVA_21-003.IMMCORE.C1v1_16T034668-33-ImvessC1-4518.csv', 'NVA_21-003.IMMCORE.C1v1_18T054305-08-ImvessC1-4518.csv', 'NVA_21-003.IMMCORE.C2v1_16T058343-12-ImvessC2-4321.csv', 'NVA_21-003.IMMCORE.C2v1_17T006383-09-Z1-ImvessC2-4321.csv', 'NVA_21-003.IMMCORE.C1v1_17T048267-11-Z1-ImvessC1-4518.csv', 'NVA_21-003.IMMCORE.C1v1_15T010760-09-Z1-ImvessC1-4518.csv', 'NVA_21-003.IMMCORE.C2v1_18T004469-02-Z2-ImvessC2-4321.csv', 'NVA_21-003.IMMCORE.C1v1_17T018454-05-Z3-ImvessC1-4518.csv', 'NVA_21-003.IMMCORE.C2v1_18T020627-04-Z1-ImvessC2-4321.csv', 'NVA_21-003.IMMCORE.C2v1_18T044196-05-Z1-ImvessC2-4321.csv', 'NVA_21-003.IMMCORE.C2v1_16T037314-11-Z1-ImvessC2-4321.csv', 'NVA_21-003.IMMCORE.C1v1_17T033078-09-Z1-ImvessC1-4518.csv', 'NVA_21-003.IMMCORE.C1v1_17T021098-13-Z1-ImvessC1-4518.csv', 'NVA_21-003.IMMCORE.C1v1_18T011003-05-Z2-ImvessC1-4518.csv', 'NVA_21-003.IMMCORE.C1v1_17T010264-05-Z2-ImvessC1-4518.csv', 'NVA_21-003.IMMCORE.C2v1_15T011146-16-ImvessC2-4321.csv', 'NVA_21-003.IMMCORE.C1v1_17T054628-06-Z2-ImvessC1-4518.csv', 'NVA_21-003.IMMCORE.C1v1_18T002383-10-Z1-ImvessC1-4518.csv', 'NVA_21-003.IMMCORE.C2v1_16T037314-11-Z2-ImvessC2-4321.csv', 'NVA_21-003.IMMCORE.C2v1_17T048267-11-Z1-ImvessC2-4321.csv', 'NVA_21-003.IMMCORE.C1v1_19T002076-07-Z1-ImvessC1-4518.csv', 'NVA_21-003.IMMCORE.C1v1_16T019939-10-ImvessC1-4518.csv', 'NVA_21-003.IMMCORE.C2v1_17T018454-05-Z3-ImvessC2-4321.csv', 'NVA_21-003.IMMCORE.C1v1_18T020627-04-Z2-ImvessC1-4518.csv', 'NVA_21-003.IMMCORE.C1v1_17T048267-11-Z2-ImvessC1-4518.csv', 'NVA_21-003.IMMCORE.C2v1_16T004768-17-ImvessC2-4321.csv', 'NVA_21-003.IMMCORE.C1v1_16T008211-9-ImvessC1-4518.csv', 'NVA_21-003.IMMCORE.C2v1_18T011003-05-Z1-ImvessC2-4321.csv', 'NVA_21-003.IMMCORE.C2v1_15T052601-14-Z2-ImvessC2-4321.csv', 'NVA_21-003.IMMCORE.C2v1_19T006284-08-ImvessC2-4321.csv', 'NVA_21-003.IMMCORE.C2v1_16T019939-10-ImvessC2-4321.csv', 'NVA_21-003.IMMCORE.C2v1_19T031111-09-ImvessC2-4321.csv', 'NVA_21-003.IMMCORE.C1v1_17T020895-03-Z1-ImvessC1-4518.csv', 'NVA_21-003.IMMCORE.C2v1_15T034275-11-Z2-2-ImvessC2-4321.csv', 'NVA_21-003.IMMCORE.C2v1_18T002383-10-Z2-ImvessC2-4321.csv', '_job80291HighPlex FL v4.1.3-Hoechst+PanCK+CD3+CD8+CD20_object_results.csv', 'NVA_21-003.IMMCORE.C2v1_17T003826-06-ImvessC2-4321.csv', 'NVA_21-003.IMMCORE.C2v1_15T034275-11-Z1-2-ImvessC2-4321.csv', 'NVA_21-003.IMMCORE.C2v1_17T010264-05-Z1-ImvessC2-4321.csv', 'NVA_21-003.IMMCORE.C1v1_18T020627-04-Z1-ImvessC1-4518.csv', 'NVA_21-003.IMMCORE.C1v1_18T011003-05-Z1-ImvessC1-4518.csv', 'NVA_21-003.IMMCORE.C2v1_17T033078-09-Z1-ImvessC2-4321.csv', 'NVA_21-003.IMMCORE.C2v1_19T002076-07-Z1-ImvessC2-4321.csv', 'NVA_21-003.IMMCORE.C1v1_15T052601-14-Z2-ImvessC1-4518.csv', 'NVA_21-003.IMMCORE.C1v1_15T010441-02-ImvessC1-4518.csv', 'NVA_21-003.IMMCORE.C1v1_17T006383-09-Z1-ImvessC1-4518.csv', 'NVA_21-003.IMMCORE.C2v1_16T034668-33-ImvessC2-4321.csv', 'NVA_21-003.IMMCORE.C1v1_15T011146-16-2-ImvessC1-4518.csv', 'NVA_21-003.IMMCORE.C2v1_17T054628-06-Z2-ImvessC2-4321.csv', 'NVA_21-003.IMMCORE.C2v1_18T054305-08-ImvessC2-4321.csv', 'NVA_21-003.IMMCORE.C2v1_17T048267-11-Z3-ImvessC2-4321.csv', 'NVA_21-003.IMMCORE.C2v1_19T041398-05-Z2-2-ImvessC2-4321.csv', 'NVA_21-003.IMMCORE.C2v1_18T047929-09-Z2-ImvessC2-4321.csv', 'NVA_21-003.IMMCORE.C2v1_17T021098-13-Z2-ImvessC2-4321.csv', 'NVA_21-003.IMMCORE.C2v1_16T042639-11-Z1-ImvessC2-4321.csv', 'NVA_21-003.IMMCORE.C1v1_19T037195-08-Z2-ImvessC1-4518.csv', 'NVA_21-003.IMMCORE.C2v1_17T010264-05-Z2-ImvessC2-4321.csv', 'NVA_21-003.IMMCORE.C2v1_17T048267-11-Z2-ImvessC2-4321.csv', 'NVA_21-003.IMMCORE.C1v1_15T019351-08-ImvessC1-4518.csv', 'NVA_21-003.IMMCORE.C2v1_19T041398-05-Z1-ImvessC2-4321.csv', 'NVA_21-003.IMMCORE.C2v1_17T020895-03-Z1-ImvessC2-4321.csv', 'NVA_21-003.IMMCORE.C2v1_16T042639-11-Z2-ImvessC2-4321.csv', 'NVA_21-003.IMMCORE.C2v1_18T011003-05-Z2-ImvessC2-4321.csv', 'NVA_21-003.IMMCORE.C1v1_19T037195-08-Z1-2-ImvessC1-4518.csv', 'NVA_21-003.IMMCORE.C2v1_18T020627-04-Z2-ImvessC2-4321.csv', 'NVA_21-003.IMMCORE.C1v1_19T020336-21-ImvessC1-4518.csv', 'NVA_21-003.IMMCORE.C1v1_18T002383-10-Z2-ImvessC1-4518.csv', 'NVA_21-003.IMMCORE.C1v1_17T018454-05-Z2-ImvessC1-4518.csv', 'NVA_21-003.IMMCORE.C2v1_19T037195-08-Z2-ImvessC2-4321.csv', 'NVA_21-003.IMMCORE.C2v1_18T005297-13-ImvessC2-4321.csv', 'NVA_21-003.IMMCORE.C2v1_18T040686-03-ImvessC2-4321.csv', 'NVA_21-003.IMMCORE.C2v1_17T054628-06-Z1-ImvessC2-4321.csv', 'NVA_21-003.IMMCORE.C1v1_16T042639-11-Z1-ImvessC1-4518.csv', 'NVA_21-003.IMMCORE.C1v1_16T004768-17-ImvessC1-4518.csv', 'NVA_21-003.IMMCORE.C1v1_19T041398-05-Z2-ImvessC1-4518.csv', 'NVA_21-003.IMMCORE.C2v1_16T022680-3-ImvessC2-4321.csv', 'NVA_21-003.IMMCORE.C2v1_18T009975-12-ImvessC2-4321.csv', 'NVA_21-003.IMMCORE.C1v1_18T044196-05-Z1-ImvessC1-4518.csv', 'NVA_21-003.IMMCORE.C2v1_16T008211-9-ImvessC2-4321.csv', 'NVA_21-003.IMMCORE.C1v1_17T006383-09-Z2-ImvessC1-4518.csv', 'NVA_21-003.IMMCORE.C2v1_17T020895-03-Z2-ImvessC2-4321.csv', 'NVA_21-003.IMMCORE.C1v1_17T010264-05-Z1-ImvessC1-4518.csv', 'NVA_21-003.IMMCORE.C1v1_16T006366-4-ImvessC1-4518.csv', 'NVA_21-003.IMMCORE.C2v1_17T020615-09-2-ImvessC2-4321.csv', 'NVA_21-003.IMMCORE.C1v1_19T031111-09-ImvessC1-4518.csv', 'NVA_21-003.IMMCORE.C2v1_17T033078-09-Z2-ImvessC2-4321.csv', 'NVA_21-003.IMMCORE.C2v1_18T002383-10-Z1-ImvessC2-4321.csv', 'NVA_21-003.IMMCORE.C2v1_18T020627-04-Z3-ImvessC2-4321.csv', 'NVA_21-003.IMMCORE.C1v1_15T052601-14-Z1-ImvessC1-4518.csv', 'NVA_21-003.IMMCORE.C2v1_18T047929-09-Z3-ImvessC2-4321.csv', 'NVA_21-003.IMMCORE.C1v1_19T002076-07-Z2-ImvessC1-4518.csv', 'NVA_21-003.IMMCORE.C1v1_16T037314-11-Z2-ImvessC1-4518.csv', 'NVA_21-003.IMMCORE.C2v1_15T019351-08-ImvessC2-4321.csv', 'NVA_21-003.IMMCORE.C2v1_16T006366-4-ImvessC2-4321.csv', 'NVA_21-003.IMMCORE.C2v1_15T046951-1-2-ImvessC2-4321.csv', 'NVA_21-003.IMMCORE.C1v1_19T041398-05-Z1-ImvessC1-4518.csv', 'NVA_21-003.IMMCORE.C2v1_17T004343-07-ImvessC2-4321.csv', 'NVA_21-003.IMMCORE.C2v1_17T018454-05-Z1-ImvessC2-4321.csv', 'NVA_21-003.IMMCORE.C2v1_18T047929-09-Z3-ImvessC2-4321.czi_80287_ObjData.fcs', 'NVA_21-003.IMMCORE.C1v1_17T048267-11-Z3-ImvessC1-4518.csv']\n"
     ]
    }
   ],
   "source": [
    "print(csv_levels)"
   ]
  },
  {
   "cell_type": "code",
   "execution_count": null,
   "metadata": {},
   "outputs": [
    {
     "name": "stdout",
     "output_type": "stream",
     "text": [
      "1 NVA_21-003.IMMCORE.C1v1_15T034275-11-Z1-2-ImvessC1-4518.csv\n",
      "<class 'numpy.ndarray'>\n",
      "<class 'float'>\n"
     ]
    },
    {
     "name": "stderr",
     "output_type": "stream",
     "text": [
      "randomization: 100%|████████████████████████████| 10/10 [00:28<00:00,  2.85s/it]\n"
     ]
    },
    {
     "name": "stdout",
     "output_type": "stream",
     "text": [
      "2 NVA_21-003.IMMCORE.C2v1_15T010760-09-Z1-ImvessC2-4321.csv\n",
      "<class 'numpy.ndarray'>\n",
      "<class 'float'>\n"
     ]
    },
    {
     "name": "stderr",
     "output_type": "stream",
     "text": [
      "randomization: 100%|████████████████████████████| 10/10 [01:15<00:00,  7.54s/it]\n"
     ]
    },
    {
     "name": "stdout",
     "output_type": "stream",
     "text": [
      "3 NVA_21-003.IMMCORE.C1v1_17T054628-06-Z1-ImvessC1-4518.csv\n",
      "<class 'numpy.ndarray'>\n",
      "<class 'float'>\n"
     ]
    },
    {
     "name": "stderr",
     "output_type": "stream",
     "text": [
      "randomization: 100%|████████████████████████████| 10/10 [00:25<00:00,  2.50s/it]\n"
     ]
    },
    {
     "name": "stdout",
     "output_type": "stream",
     "text": [
      "4 NVA_21-003.IMMCORE.C2v1_15T008187-08-ImvessC2-4321.csv\n",
      "<class 'numpy.ndarray'>\n",
      "<class 'float'>\n"
     ]
    },
    {
     "name": "stderr",
     "output_type": "stream",
     "text": [
      "randomization: 100%|████████████████████████████| 10/10 [01:28<00:00,  8.82s/it]\n"
     ]
    },
    {
     "name": "stdout",
     "output_type": "stream",
     "text": [
      "5 NVA_21-003.IMMCORE.C1v1_15T008187-08-ImvessC1-4518.csv\n",
      "<class 'numpy.ndarray'>\n",
      "<class 'float'>\n"
     ]
    },
    {
     "name": "stderr",
     "output_type": "stream",
     "text": [
      "randomization: 100%|████████████████████████████| 10/10 [01:26<00:00,  8.62s/it]\n"
     ]
    },
    {
     "name": "stdout",
     "output_type": "stream",
     "text": [
      "6 NVA_21-003.IMMCORE.C1v1_16T058343-12-ImvessC1-4518.csv\n",
      "<class 'numpy.ndarray'>\n",
      "<class 'float'>\n"
     ]
    },
    {
     "name": "stderr",
     "output_type": "stream",
     "text": [
      "randomization: 100%|████████████████████████████| 10/10 [00:19<00:00,  1.99s/it]\n"
     ]
    },
    {
     "name": "stdout",
     "output_type": "stream",
     "text": [
      "7 NVA_21-003.IMMCORE.C1v1_18T009975-12-ImvessC1-4518.csv\n",
      "<class 'numpy.ndarray'>\n",
      "<class 'float'>\n"
     ]
    },
    {
     "name": "stderr",
     "output_type": "stream",
     "text": [
      "randomization: 100%|████████████████████████████| 10/10 [00:09<00:00,  1.03it/s]\n"
     ]
    },
    {
     "name": "stdout",
     "output_type": "stream",
     "text": [
      "8 NVA_21-003.IMMCORE.C2v1_15T027584-13-2-ImvessC2-4321.csv\n",
      "<class 'numpy.ndarray'>\n",
      "<class 'float'>\n"
     ]
    },
    {
     "name": "stderr",
     "output_type": "stream",
     "text": [
      "randomization: 100%|████████████████████████████| 10/10 [00:27<00:00,  2.76s/it]\n"
     ]
    },
    {
     "name": "stdout",
     "output_type": "stream",
     "text": [
      "9 NVA_21-003.IMMCORE.C2v1_19T037195-08-Z1-2-ImvessC2-4321.csv\n",
      "<class 'numpy.ndarray'>\n",
      "<class 'float'>\n"
     ]
    },
    {
     "name": "stderr",
     "output_type": "stream",
     "text": [
      "randomization: 100%|████████████████████████████| 10/10 [00:29<00:00,  2.91s/it]\n"
     ]
    },
    {
     "name": "stdout",
     "output_type": "stream",
     "text": [
      "10 NVA_21-003.IMMCORE.C1v1_15T027584-13-ImvessC1-4518.csv\n",
      "<class 'numpy.ndarray'>\n",
      "<class 'float'>\n"
     ]
    },
    {
     "name": "stderr",
     "output_type": "stream",
     "text": [
      "randomization: 100%|████████████████████████████| 10/10 [00:18<00:00,  1.87s/it]\n"
     ]
    },
    {
     "name": "stdout",
     "output_type": "stream",
     "text": [
      "11 NVA_21-003.IMMCORE.C1v1_17T003826-06-ImvessC1-4518.csv\n",
      "<class 'numpy.ndarray'>\n",
      "<class 'float'>\n"
     ]
    },
    {
     "name": "stderr",
     "output_type": "stream",
     "text": [
      "randomization: 100%|████████████████████████████| 10/10 [00:55<00:00,  5.56s/it]\n"
     ]
    },
    {
     "name": "stdout",
     "output_type": "stream",
     "text": [
      "12 NVA_21-003.IMMCORE.C1v1_16T037314-11-Z1-ImvessC1-4518.csv\n",
      "<class 'numpy.ndarray'>\n",
      "<class 'float'>\n"
     ]
    },
    {
     "name": "stderr",
     "output_type": "stream",
     "text": [
      "randomization: 100%|████████████████████████████| 10/10 [00:55<00:00,  5.57s/it]\n"
     ]
    },
    {
     "name": "stdout",
     "output_type": "stream",
     "text": [
      "13 NVA_21-003.IMMCORE.C2v1_16T037314-11-Z3-ImvessC2-4321.csv\n",
      "<class 'numpy.ndarray'>\n",
      "<class 'float'>\n"
     ]
    },
    {
     "name": "stderr",
     "output_type": "stream",
     "text": [
      "randomization: 100%|████████████████████████████| 10/10 [00:14<00:00,  1.50s/it]\n"
     ]
    },
    {
     "name": "stdout",
     "output_type": "stream",
     "text": [
      "14 NVA_21-003.IMMCORE.C2v1_19T002076-07-Z2-ImvessC2-4321.csv\n",
      "<class 'numpy.ndarray'>\n",
      "<class 'float'>\n"
     ]
    },
    {
     "name": "stderr",
     "output_type": "stream",
     "text": [
      "randomization: 100%|████████████████████████████| 10/10 [01:17<00:00,  7.76s/it]\n"
     ]
    },
    {
     "name": "stdout",
     "output_type": "stream",
     "text": [
      "15 NVA_21-003.IMMCORE.C1v1_16T042639-11-Z2-ImvessC1-4518.csv\n",
      "<class 'numpy.ndarray'>\n",
      "<class 'float'>\n"
     ]
    },
    {
     "name": "stderr",
     "output_type": "stream",
     "text": [
      "randomization: 100%|████████████████████████████| 10/10 [01:33<00:00,  9.30s/it]\n"
     ]
    },
    {
     "name": "stdout",
     "output_type": "stream",
     "text": [
      "16 NVA_21-003.IMMCORE.C1v1_16T013087-8-ImvessC1-4518.csv\n",
      "<class 'numpy.ndarray'>\n",
      "<class 'float'>\n"
     ]
    },
    {
     "name": "stderr",
     "output_type": "stream",
     "text": [
      "randomization: 100%|████████████████████████████| 10/10 [01:22<00:00,  8.24s/it]\n"
     ]
    },
    {
     "name": "stdout",
     "output_type": "stream",
     "text": [
      "17 NVA_21-003.IMMCORE.C1v1_17T020895-03-Z2-ImvessC1-4518.csv\n",
      "<class 'numpy.ndarray'>\n",
      "<class 'float'>\n"
     ]
    },
    {
     "name": "stderr",
     "output_type": "stream",
     "text": [
      "randomization: 100%|████████████████████████████| 10/10 [00:44<00:00,  4.44s/it]\n"
     ]
    },
    {
     "name": "stdout",
     "output_type": "stream",
     "text": [
      "18 NVA_21-003.IMMCORE.C1v1_15T010760-09-Z2-ImvessC1-4518.csv\n",
      "<class 'numpy.ndarray'>\n",
      "<class 'float'>\n"
     ]
    },
    {
     "name": "stderr",
     "output_type": "stream",
     "text": [
      "randomization: 100%|████████████████████████████| 10/10 [00:49<00:00,  5.00s/it]\n"
     ]
    },
    {
     "name": "stdout",
     "output_type": "stream",
     "text": [
      "19 NVA_21-003.IMMCORE.C1v1_17T020615-09-2-ImvessC1-4518.csv\n",
      "<class 'numpy.ndarray'>\n",
      "<class 'float'>\n"
     ]
    },
    {
     "name": "stderr",
     "output_type": "stream",
     "text": [
      "randomization: 100%|████████████████████████████| 10/10 [00:28<00:00,  2.87s/it]\n"
     ]
    },
    {
     "name": "stdout",
     "output_type": "stream",
     "text": [
      "20 NVA_21-003.IMMCORE.C1v1_18T005297-13-ImvessC1-4518.csv\n",
      "<class 'numpy.ndarray'>\n",
      "<class 'float'>\n"
     ]
    },
    {
     "name": "stderr",
     "output_type": "stream",
     "text": [
      "randomization: 100%|████████████████████████████| 10/10 [00:42<00:00,  4.30s/it]\n"
     ]
    },
    {
     "name": "stdout",
     "output_type": "stream",
     "text": [
      "21 NVA_21-003.IMMCORE.C2v1_17T018454-05-Z2-ImvessC2-4321.csv\n",
      "<class 'numpy.ndarray'>\n",
      "<class 'float'>\n"
     ]
    },
    {
     "name": "stderr",
     "output_type": "stream",
     "text": [
      "randomization: 100%|████████████████████████████| 10/10 [01:07<00:00,  6.80s/it]\n"
     ]
    },
    {
     "name": "stdout",
     "output_type": "stream",
     "text": [
      "22 NVA_21-003.IMMCORE.C2v1_17T006383-09-Z2-ImvessC2-4321.csv\n",
      "<class 'numpy.ndarray'>\n",
      "<class 'float'>\n"
     ]
    },
    {
     "name": "stderr",
     "output_type": "stream",
     "text": [
      "randomization: 100%|████████████████████████████| 10/10 [01:04<00:00,  6.49s/it]\n"
     ]
    },
    {
     "name": "stdout",
     "output_type": "stream",
     "text": [
      "23 NVA_21-003.IMMCORE.C1v1_19T006284-08-ImvessC1-4518.csv\n",
      "<class 'numpy.ndarray'>\n",
      "<class 'float'>\n"
     ]
    },
    {
     "name": "stderr",
     "output_type": "stream",
     "text": [
      "randomization: 100%|████████████████████████████| 10/10 [01:51<00:00, 11.13s/it]\n"
     ]
    },
    {
     "name": "stdout",
     "output_type": "stream",
     "text": [
      "24 NVA_21-003.IMMCORE.C1v1_16T022680-3-ImvessC1-4518.csv\n",
      "<class 'numpy.ndarray'>\n",
      "<class 'float'>\n"
     ]
    },
    {
     "name": "stderr",
     "output_type": "stream",
     "text": [
      "randomization: 100%|████████████████████████████| 10/10 [00:56<00:00,  5.66s/it]\n"
     ]
    },
    {
     "name": "stdout",
     "output_type": "stream",
     "text": [
      "25 NVA_21-003.IMMCORE.C2v1_17T021098-13-Z1-ImvessC2-4321.csv\n",
      "<class 'numpy.ndarray'>\n",
      "<class 'float'>\n"
     ]
    },
    {
     "name": "stderr",
     "output_type": "stream",
     "text": [
      "randomization: 100%|████████████████████████████| 10/10 [02:22<00:00, 14.24s/it]\n"
     ]
    },
    {
     "name": "stdout",
     "output_type": "stream",
     "text": [
      "26 NVA_21-003.IMMCORE.C1v1_18T004469-02-Z1-ImvessC1-4518.csv\n",
      "<class 'numpy.ndarray'>\n",
      "<class 'float'>\n"
     ]
    },
    {
     "name": "stderr",
     "output_type": "stream",
     "text": [
      "randomization: 100%|████████████████████████████| 10/10 [00:50<00:00,  5.09s/it]\n"
     ]
    },
    {
     "name": "stdout",
     "output_type": "stream",
     "text": [
      "27 NVA_21-003.IMMCORE.C2v1_18T004469-02-Z1-ImvessC2-4321.csv\n",
      "<class 'numpy.ndarray'>\n",
      "<class 'float'>\n"
     ]
    },
    {
     "name": "stderr",
     "output_type": "stream",
     "text": [
      "randomization: 100%|████████████████████████████| 10/10 [01:32<00:00,  9.29s/it]\n"
     ]
    },
    {
     "name": "stdout",
     "output_type": "stream",
     "text": [
      "28 NVA_21-003.IMMCORE.C1v1_17T021098-13-Z2-ImvessC1-4518.csv\n",
      "<class 'numpy.ndarray'>\n",
      "<class 'float'>\n"
     ]
    },
    {
     "name": "stderr",
     "output_type": "stream",
     "text": [
      "randomization: 100%|████████████████████████████| 10/10 [00:57<00:00,  5.72s/it]\n"
     ]
    },
    {
     "name": "stdout",
     "output_type": "stream",
     "text": [
      "29 NVA_21-003.IMMCORE.C2v1_15T010441-02-ImvessC2-4321.csv\n",
      "<class 'numpy.ndarray'>\n",
      "<class 'float'>\n"
     ]
    },
    {
     "name": "stderr",
     "output_type": "stream",
     "text": [
      "randomization: 100%|████████████████████████████| 10/10 [01:23<00:00,  8.36s/it]\n"
     ]
    },
    {
     "name": "stdout",
     "output_type": "stream",
     "text": [
      "30 NVA_21-003.IMMCORE.C1v1_18T004469-02-Z2-ImvessC1-4518.csv\n",
      "<class 'numpy.ndarray'>\n",
      "<class 'float'>\n"
     ]
    },
    {
     "name": "stderr",
     "output_type": "stream",
     "text": [
      "randomization: 100%|████████████████████████████| 10/10 [00:42<00:00,  4.23s/it]\n"
     ]
    },
    {
     "name": "stdout",
     "output_type": "stream",
     "text": [
      "31 NVA_21-003.IMMCORE.C1v1_18T047929-09-Z1-ImvessC1-4518.csv\n",
      "<class 'numpy.ndarray'>\n",
      "<class 'float'>\n"
     ]
    },
    {
     "name": "stderr",
     "output_type": "stream",
     "text": [
      "randomization: 100%|████████████████████████████| 10/10 [00:43<00:00,  4.30s/it]\n"
     ]
    },
    {
     "name": "stdout",
     "output_type": "stream",
     "text": [
      "32 NVA_21-003.IMMCORE.C2v1_18T047929-09-Z1-ImvessC2-4321.csv\n",
      "<class 'numpy.ndarray'>\n",
      "<class 'float'>\n"
     ]
    },
    {
     "name": "stderr",
     "output_type": "stream",
     "text": [
      "randomization: 100%|████████████████████████████| 10/10 [01:12<00:00,  7.29s/it]\n"
     ]
    },
    {
     "name": "stdout",
     "output_type": "stream",
     "text": [
      "33 NVA_21-003.IMMCORE.C2v1_18T044196-05-Z2-ImvessC2-4321.csv\n",
      "<class 'numpy.ndarray'>\n",
      "<class 'float'>\n"
     ]
    },
    {
     "name": "stderr",
     "output_type": "stream",
     "text": [
      "randomization: 100%|████████████████████████████| 10/10 [00:56<00:00,  5.62s/it]\n"
     ]
    },
    {
     "name": "stdout",
     "output_type": "stream",
     "text": [
      "34 NVA_21-003.IMMCORE.C1v1_15T034275-11-Z2-2-ImvessC1-4518.csv\n",
      "<class 'numpy.ndarray'>\n",
      "<class 'float'>\n"
     ]
    },
    {
     "name": "stderr",
     "output_type": "stream",
     "text": [
      "randomization: 100%|████████████████████████████| 10/10 [00:35<00:00,  3.51s/it]\n"
     ]
    },
    {
     "name": "stdout",
     "output_type": "stream",
     "text": [
      "35 NVA_21-003.IMMCORE.C1v1_15T046951-1-ImvessC1-4518.csv\n",
      "<class 'numpy.ndarray'>\n",
      "<class 'float'>\n"
     ]
    },
    {
     "name": "stderr",
     "output_type": "stream",
     "text": [
      "randomization: 100%|████████████████████████████| 10/10 [00:09<00:00,  1.02it/s]\n"
     ]
    },
    {
     "name": "stdout",
     "output_type": "stream",
     "text": [
      "36 NVA_21-003.IMMCORE.C1v1_18T040686-03-ImvessC1-4518.csv\n",
      "<class 'numpy.ndarray'>\n",
      "<class 'float'>\n"
     ]
    },
    {
     "name": "stderr",
     "output_type": "stream",
     "text": [
      "randomization: 100%|████████████████████████████| 10/10 [00:45<00:00,  4.58s/it]\n"
     ]
    },
    {
     "name": "stdout",
     "output_type": "stream",
     "text": [
      "37 NVA_21-003.IMMCORE.C1v1_18T047929-09-Z2-ImvessC1-4518.csv\n",
      "<class 'numpy.ndarray'>\n",
      "<class 'float'>\n"
     ]
    },
    {
     "name": "stderr",
     "output_type": "stream",
     "text": [
      "randomization: 100%|████████████████████████████| 10/10 [00:35<00:00,  3.53s/it]\n"
     ]
    },
    {
     "name": "stdout",
     "output_type": "stream",
     "text": [
      "38 NVA_21-003.IMMCORE.C2v1_15T010760-09-Z2-ImvessC2-4321.csv\n",
      "<class 'numpy.ndarray'>\n",
      "<class 'float'>\n"
     ]
    },
    {
     "name": "stderr",
     "output_type": "stream",
     "text": [
      "randomization: 100%|████████████████████████████| 10/10 [01:17<00:00,  7.80s/it]\n"
     ]
    },
    {
     "name": "stdout",
     "output_type": "stream",
     "text": [
      "39 NVA_21-003.IMMCORE.C2v1_16T013087-8-ImvessC2-4321.csv\n",
      "<class 'numpy.ndarray'>\n",
      "<class 'float'>\n"
     ]
    },
    {
     "name": "stderr",
     "output_type": "stream",
     "text": [
      "randomization: 100%|████████████████████████████| 10/10 [01:39<00:00,  9.95s/it]\n"
     ]
    },
    {
     "name": "stdout",
     "output_type": "stream",
     "text": [
      "40 NVA_21-003.IMMCORE.C1v1_18T044196-05-Z2-ImvessC1-4518.csv\n",
      "<class 'numpy.ndarray'>\n",
      "<class 'float'>\n"
     ]
    },
    {
     "name": "stderr",
     "output_type": "stream",
     "text": [
      "randomization: 100%|████████████████████████████| 10/10 [00:29<00:00,  2.92s/it]\n"
     ]
    },
    {
     "name": "stdout",
     "output_type": "stream",
     "text": [
      "41 NVA_21-003.IMMCORE.C2v1_19T020336-21-ImvessC2-4321.csv\n",
      "<class 'numpy.ndarray'>\n",
      "<class 'float'>\n"
     ]
    },
    {
     "name": "stderr",
     "output_type": "stream",
     "text": [
      "randomization: 100%|████████████████████████████| 10/10 [01:02<00:00,  6.26s/it]\n",
      "/home/mouneem/tysserand/workflows/../mosna/mosna/mosna.py:400: RuntimeWarning: divide by zero encountered in true_divide\n",
      "  zscore = (mat - rand_mean) / rand_std\n"
     ]
    },
    {
     "name": "stdout",
     "output_type": "stream",
     "text": [
      "42 NVA_21-003.IMMCORE.C2v1_15T052601-14-Z1-ImvessC2-4321.csv\n",
      "<class 'numpy.ndarray'>\n",
      "<class 'float'>\n"
     ]
    },
    {
     "name": "stderr",
     "output_type": "stream",
     "text": [
      "randomization: 100%|████████████████████████████| 10/10 [01:28<00:00,  8.87s/it]\n"
     ]
    },
    {
     "name": "stdout",
     "output_type": "stream",
     "text": [
      "43 NVA_21-003.IMMCORE.C1v1_16T037314-11-Z3-ImvessC1-4518.csv\n",
      "<class 'numpy.ndarray'>\n",
      "<class 'float'>\n"
     ]
    },
    {
     "name": "stderr",
     "output_type": "stream",
     "text": [
      "randomization: 100%|████████████████████████████| 10/10 [00:04<00:00,  2.05it/s]\n"
     ]
    },
    {
     "name": "stdout",
     "output_type": "stream",
     "text": [
      "44 NVA_21-003.IMMCORE.C1v1_17T018454-05-Z1-ImvessC1-4518.csv\n",
      "<class 'numpy.ndarray'>\n",
      "<class 'float'>\n"
     ]
    },
    {
     "name": "stderr",
     "output_type": "stream",
     "text": [
      "randomization: 100%|████████████████████████████| 10/10 [00:28<00:00,  2.89s/it]\n"
     ]
    },
    {
     "name": "stdout",
     "output_type": "stream",
     "text": [
      "45 NVA_21-003.IMMCORE.C1v1_17T033078-09-Z2-ImvessC1-4518.csv\n",
      "<class 'numpy.ndarray'>\n",
      "<class 'float'>\n"
     ]
    },
    {
     "name": "stderr",
     "output_type": "stream",
     "text": [
      "randomization: 100%|████████████████████████████| 10/10 [00:19<00:00,  1.91s/it]\n"
     ]
    },
    {
     "name": "stdout",
     "output_type": "stream",
     "text": [
      "46 NVA_21-003.IMMCORE.C1v1_18T047929-09-Z3-ImvessC1-4518.csv\n",
      "<class 'numpy.ndarray'>\n",
      "<class 'float'>\n"
     ]
    },
    {
     "name": "stderr",
     "output_type": "stream",
     "text": [
      "randomization: 100%|████████████████████████████| 10/10 [00:36<00:00,  3.60s/it]\n"
     ]
    },
    {
     "name": "stdout",
     "output_type": "stream",
     "text": [
      "47 NVA_21-003.IMMCORE.C1v1_18T020627-04-Z3-ImvessC1-4518.csv\n",
      "<class 'numpy.ndarray'>\n",
      "<class 'float'>\n"
     ]
    },
    {
     "name": "stderr",
     "output_type": "stream",
     "text": [
      "randomization: 100%|████████████████████████████| 10/10 [00:50<00:00,  5.03s/it]\n"
     ]
    },
    {
     "name": "stdout",
     "output_type": "stream",
     "text": [
      "48 NVA_21-003.IMMCORE.C1v1_17T004343-07-ImvessC1-4518.csv\n",
      "<class 'numpy.ndarray'>\n",
      "<class 'float'>\n"
     ]
    },
    {
     "name": "stderr",
     "output_type": "stream",
     "text": [
      "randomization: 100%|████████████████████████████| 10/10 [00:43<00:00,  4.31s/it]\n"
     ]
    },
    {
     "name": "stdout",
     "output_type": "stream",
     "text": [
      "49 NVA_21-003.IMMCORE.C1v1_16T034668-33-ImvessC1-4518.csv\n",
      "<class 'numpy.ndarray'>\n",
      "<class 'float'>\n"
     ]
    },
    {
     "name": "stderr",
     "output_type": "stream",
     "text": [
      "randomization: 100%|████████████████████████████| 10/10 [00:58<00:00,  5.84s/it]\n"
     ]
    },
    {
     "name": "stdout",
     "output_type": "stream",
     "text": [
      "50 NVA_21-003.IMMCORE.C1v1_18T054305-08-ImvessC1-4518.csv\n",
      "<class 'numpy.ndarray'>\n",
      "<class 'float'>\n"
     ]
    },
    {
     "name": "stderr",
     "output_type": "stream",
     "text": [
      "randomization: 100%|████████████████████████████| 10/10 [00:39<00:00,  3.93s/it]\n"
     ]
    },
    {
     "name": "stdout",
     "output_type": "stream",
     "text": [
      "51 NVA_21-003.IMMCORE.C2v1_16T058343-12-ImvessC2-4321.csv\n",
      "<class 'numpy.ndarray'>\n",
      "<class 'float'>\n"
     ]
    },
    {
     "name": "stderr",
     "output_type": "stream",
     "text": [
      "randomization: 100%|████████████████████████████| 10/10 [00:31<00:00,  3.11s/it]\n"
     ]
    },
    {
     "name": "stdout",
     "output_type": "stream",
     "text": [
      "52 NVA_21-003.IMMCORE.C2v1_17T006383-09-Z1-ImvessC2-4321.csv\n",
      "<class 'numpy.ndarray'>\n",
      "<class 'float'>\n"
     ]
    },
    {
     "name": "stderr",
     "output_type": "stream",
     "text": [
      "randomization: 100%|████████████████████████████| 10/10 [00:57<00:00,  5.76s/it]\n"
     ]
    },
    {
     "name": "stdout",
     "output_type": "stream",
     "text": [
      "53 NVA_21-003.IMMCORE.C1v1_17T048267-11-Z1-ImvessC1-4518.csv\n",
      "<class 'numpy.ndarray'>\n",
      "<class 'float'>\n"
     ]
    },
    {
     "name": "stderr",
     "output_type": "stream",
     "text": [
      "randomization: 100%|████████████████████████████| 10/10 [00:28<00:00,  2.87s/it]\n"
     ]
    },
    {
     "name": "stdout",
     "output_type": "stream",
     "text": [
      "54 NVA_21-003.IMMCORE.C1v1_15T010760-09-Z1-ImvessC1-4518.csv\n",
      "<class 'numpy.ndarray'>\n",
      "<class 'float'>\n"
     ]
    },
    {
     "name": "stderr",
     "output_type": "stream",
     "text": [
      "randomization: 100%|████████████████████████████| 10/10 [00:45<00:00,  4.56s/it]\n"
     ]
    },
    {
     "name": "stdout",
     "output_type": "stream",
     "text": [
      "55 NVA_21-003.IMMCORE.C2v1_18T004469-02-Z2-ImvessC2-4321.csv\n",
      "<class 'numpy.ndarray'>\n",
      "<class 'float'>\n"
     ]
    },
    {
     "name": "stderr",
     "output_type": "stream",
     "text": [
      "randomization: 100%|████████████████████████████| 10/10 [01:48<00:00, 10.89s/it]\n"
     ]
    },
    {
     "name": "stdout",
     "output_type": "stream",
     "text": [
      "56 NVA_21-003.IMMCORE.C1v1_17T018454-05-Z3-ImvessC1-4518.csv\n",
      "<class 'numpy.ndarray'>\n",
      "<class 'float'>\n"
     ]
    },
    {
     "name": "stderr",
     "output_type": "stream",
     "text": [
      "randomization: 100%|████████████████████████████| 10/10 [00:33<00:00,  3.39s/it]\n"
     ]
    },
    {
     "name": "stdout",
     "output_type": "stream",
     "text": [
      "57 NVA_21-003.IMMCORE.C2v1_18T020627-04-Z1-ImvessC2-4321.csv\n",
      "<class 'numpy.ndarray'>\n",
      "<class 'float'>\n"
     ]
    },
    {
     "name": "stderr",
     "output_type": "stream",
     "text": [
      "randomization: 100%|████████████████████████████| 10/10 [01:11<00:00,  7.15s/it]\n"
     ]
    },
    {
     "name": "stdout",
     "output_type": "stream",
     "text": [
      "58 NVA_21-003.IMMCORE.C2v1_18T044196-05-Z1-ImvessC2-4321.csv\n",
      "<class 'numpy.ndarray'>\n",
      "<class 'float'>\n"
     ]
    },
    {
     "name": "stderr",
     "output_type": "stream",
     "text": [
      "randomization: 100%|████████████████████████████| 10/10 [00:52<00:00,  5.26s/it]\n"
     ]
    },
    {
     "name": "stdout",
     "output_type": "stream",
     "text": [
      "59 NVA_21-003.IMMCORE.C2v1_16T037314-11-Z1-ImvessC2-4321.csv\n",
      "<class 'numpy.ndarray'>\n",
      "<class 'float'>\n"
     ]
    },
    {
     "name": "stderr",
     "output_type": "stream",
     "text": [
      "randomization: 100%|████████████████████████████| 10/10 [01:41<00:00, 10.13s/it]\n"
     ]
    },
    {
     "name": "stdout",
     "output_type": "stream",
     "text": [
      "60 NVA_21-003.IMMCORE.C1v1_17T033078-09-Z1-ImvessC1-4518.csv\n",
      "<class 'numpy.ndarray'>\n",
      "<class 'float'>\n"
     ]
    },
    {
     "name": "stderr",
     "output_type": "stream",
     "text": [
      "randomization: 100%|████████████████████████████| 10/10 [01:08<00:00,  6.86s/it]\n"
     ]
    },
    {
     "name": "stdout",
     "output_type": "stream",
     "text": [
      "61 NVA_21-003.IMMCORE.C1v1_17T021098-13-Z1-ImvessC1-4518.csv\n",
      "<class 'numpy.ndarray'>\n",
      "<class 'float'>\n"
     ]
    },
    {
     "name": "stderr",
     "output_type": "stream",
     "text": [
      "randomization: 100%|████████████████████████████| 10/10 [01:08<00:00,  6.87s/it]\n"
     ]
    },
    {
     "name": "stdout",
     "output_type": "stream",
     "text": [
      "62 NVA_21-003.IMMCORE.C1v1_18T011003-05-Z2-ImvessC1-4518.csv\n",
      "<class 'numpy.ndarray'>\n",
      "<class 'float'>\n"
     ]
    },
    {
     "name": "stderr",
     "output_type": "stream",
     "text": [
      "randomization: 100%|████████████████████████████| 10/10 [00:19<00:00,  1.97s/it]\n"
     ]
    },
    {
     "name": "stdout",
     "output_type": "stream",
     "text": [
      "63 NVA_21-003.IMMCORE.C1v1_17T010264-05-Z2-ImvessC1-4518.csv\n",
      "<class 'numpy.ndarray'>\n",
      "<class 'float'>\n"
     ]
    },
    {
     "name": "stderr",
     "output_type": "stream",
     "text": [
      "randomization: 100%|████████████████████████████| 10/10 [00:46<00:00,  4.63s/it]\n"
     ]
    },
    {
     "name": "stdout",
     "output_type": "stream",
     "text": [
      "64 NVA_21-003.IMMCORE.C2v1_15T011146-16-ImvessC2-4321.csv\n",
      "<class 'numpy.ndarray'>\n",
      "<class 'float'>\n"
     ]
    },
    {
     "name": "stderr",
     "output_type": "stream",
     "text": [
      "randomization: 100%|████████████████████████████| 10/10 [01:11<00:00,  7.11s/it]\n"
     ]
    },
    {
     "name": "stdout",
     "output_type": "stream",
     "text": [
      "65 NVA_21-003.IMMCORE.C1v1_17T054628-06-Z2-ImvessC1-4518.csv\n",
      "<class 'numpy.ndarray'>\n",
      "<class 'float'>\n"
     ]
    },
    {
     "name": "stderr",
     "output_type": "stream",
     "text": [
      "randomization: 100%|████████████████████████████| 10/10 [00:23<00:00,  2.31s/it]\n"
     ]
    },
    {
     "name": "stdout",
     "output_type": "stream",
     "text": [
      "66 NVA_21-003.IMMCORE.C1v1_18T002383-10-Z1-ImvessC1-4518.csv\n",
      "<class 'numpy.ndarray'>\n",
      "<class 'float'>\n"
     ]
    },
    {
     "name": "stderr",
     "output_type": "stream",
     "text": [
      "randomization: 100%|████████████████████████████| 10/10 [00:10<00:00,  1.06s/it]\n"
     ]
    },
    {
     "name": "stdout",
     "output_type": "stream",
     "text": [
      "67 NVA_21-003.IMMCORE.C2v1_16T037314-11-Z2-ImvessC2-4321.csv\n",
      "<class 'numpy.ndarray'>\n",
      "<class 'float'>\n"
     ]
    },
    {
     "name": "stderr",
     "output_type": "stream",
     "text": [
      "randomization: 100%|████████████████████████████| 10/10 [00:56<00:00,  5.66s/it]\n"
     ]
    },
    {
     "name": "stdout",
     "output_type": "stream",
     "text": [
      "68 NVA_21-003.IMMCORE.C2v1_17T048267-11-Z1-ImvessC2-4321.csv\n",
      "<class 'numpy.ndarray'>\n",
      "<class 'float'>\n"
     ]
    },
    {
     "name": "stderr",
     "output_type": "stream",
     "text": [
      "randomization: 100%|████████████████████████████| 10/10 [01:31<00:00,  9.18s/it]\n"
     ]
    },
    {
     "name": "stdout",
     "output_type": "stream",
     "text": [
      "69 NVA_21-003.IMMCORE.C1v1_19T002076-07-Z1-ImvessC1-4518.csv\n",
      "<class 'numpy.ndarray'>\n",
      "<class 'float'>\n"
     ]
    },
    {
     "name": "stderr",
     "output_type": "stream",
     "text": [
      "randomization: 100%|████████████████████████████| 10/10 [01:10<00:00,  7.02s/it]\n"
     ]
    },
    {
     "name": "stdout",
     "output_type": "stream",
     "text": [
      "70 NVA_21-003.IMMCORE.C1v1_16T019939-10-ImvessC1-4518.csv\n",
      "<class 'numpy.ndarray'>\n",
      "<class 'float'>\n"
     ]
    },
    {
     "name": "stderr",
     "output_type": "stream",
     "text": [
      "randomization: 100%|████████████████████████████| 10/10 [01:10<00:00,  7.01s/it]\n"
     ]
    },
    {
     "name": "stdout",
     "output_type": "stream",
     "text": [
      "71 NVA_21-003.IMMCORE.C2v1_17T018454-05-Z3-ImvessC2-4321.csv\n",
      "<class 'numpy.ndarray'>\n",
      "<class 'float'>\n"
     ]
    },
    {
     "name": "stderr",
     "output_type": "stream",
     "text": [
      "randomization: 100%|████████████████████████████| 10/10 [01:04<00:00,  6.44s/it]\n"
     ]
    },
    {
     "name": "stdout",
     "output_type": "stream",
     "text": [
      "72 NVA_21-003.IMMCORE.C1v1_18T020627-04-Z2-ImvessC1-4518.csv\n",
      "<class 'numpy.ndarray'>\n",
      "<class 'float'>\n"
     ]
    },
    {
     "name": "stderr",
     "output_type": "stream",
     "text": [
      "randomization: 100%|████████████████████████████| 10/10 [00:40<00:00,  4.02s/it]\n"
     ]
    },
    {
     "name": "stdout",
     "output_type": "stream",
     "text": [
      "73 NVA_21-003.IMMCORE.C1v1_17T048267-11-Z2-ImvessC1-4518.csv\n",
      "<class 'numpy.ndarray'>\n",
      "<class 'float'>\n"
     ]
    },
    {
     "name": "stderr",
     "output_type": "stream",
     "text": [
      "randomization: 100%|████████████████████████████| 10/10 [00:22<00:00,  2.27s/it]\n"
     ]
    },
    {
     "name": "stdout",
     "output_type": "stream",
     "text": [
      "74 NVA_21-003.IMMCORE.C2v1_16T004768-17-ImvessC2-4321.csv\n",
      "<class 'numpy.ndarray'>\n",
      "<class 'float'>\n"
     ]
    },
    {
     "name": "stderr",
     "output_type": "stream",
     "text": [
      "randomization: 100%|████████████████████████████| 10/10 [00:45<00:00,  4.51s/it]\n"
     ]
    },
    {
     "name": "stdout",
     "output_type": "stream",
     "text": [
      "75 NVA_21-003.IMMCORE.C1v1_16T008211-9-ImvessC1-4518.csv\n",
      "<class 'numpy.ndarray'>\n",
      "<class 'float'>\n"
     ]
    },
    {
     "name": "stderr",
     "output_type": "stream",
     "text": [
      "randomization: 100%|████████████████████████████| 10/10 [00:45<00:00,  4.50s/it]\n"
     ]
    },
    {
     "name": "stdout",
     "output_type": "stream",
     "text": [
      "76 NVA_21-003.IMMCORE.C2v1_18T011003-05-Z1-ImvessC2-4321.csv\n",
      "<class 'numpy.ndarray'>\n",
      "<class 'float'>\n"
     ]
    },
    {
     "name": "stderr",
     "output_type": "stream",
     "text": [
      "randomization: 100%|████████████████████████████| 10/10 [01:07<00:00,  6.71s/it]\n"
     ]
    },
    {
     "name": "stdout",
     "output_type": "stream",
     "text": [
      "77 NVA_21-003.IMMCORE.C2v1_15T052601-14-Z2-ImvessC2-4321.csv\n",
      "<class 'numpy.ndarray'>\n",
      "<class 'float'>\n"
     ]
    },
    {
     "name": "stderr",
     "output_type": "stream",
     "text": [
      "randomization: 100%|████████████████████████████| 10/10 [01:11<00:00,  7.17s/it]\n"
     ]
    },
    {
     "name": "stdout",
     "output_type": "stream",
     "text": [
      "78 NVA_21-003.IMMCORE.C2v1_19T006284-08-ImvessC2-4321.csv\n",
      "<class 'numpy.ndarray'>\n",
      "<class 'float'>\n"
     ]
    },
    {
     "name": "stderr",
     "output_type": "stream",
     "text": [
      "randomization: 100%|████████████████████████████| 10/10 [01:29<00:00,  8.90s/it]\n"
     ]
    },
    {
     "name": "stdout",
     "output_type": "stream",
     "text": [
      "79 NVA_21-003.IMMCORE.C2v1_16T019939-10-ImvessC2-4321.csv\n",
      "<class 'numpy.ndarray'>\n",
      "<class 'float'>\n"
     ]
    },
    {
     "name": "stderr",
     "output_type": "stream",
     "text": [
      "randomization: 100%|████████████████████████████| 10/10 [01:48<00:00, 10.85s/it]\n"
     ]
    },
    {
     "name": "stdout",
     "output_type": "stream",
     "text": [
      "80 NVA_21-003.IMMCORE.C2v1_19T031111-09-ImvessC2-4321.csv\n",
      "<class 'numpy.ndarray'>\n",
      "<class 'float'>\n"
     ]
    },
    {
     "name": "stderr",
     "output_type": "stream",
     "text": [
      "randomization: 100%|████████████████████████████| 10/10 [01:17<00:00,  7.75s/it]\n"
     ]
    },
    {
     "name": "stdout",
     "output_type": "stream",
     "text": [
      "81 NVA_21-003.IMMCORE.C1v1_17T020895-03-Z1-ImvessC1-4518.csv\n",
      "<class 'numpy.ndarray'>\n",
      "<class 'float'>\n"
     ]
    },
    {
     "name": "stderr",
     "output_type": "stream",
     "text": [
      "randomization: 100%|████████████████████████████| 10/10 [00:53<00:00,  5.32s/it]\n"
     ]
    },
    {
     "name": "stdout",
     "output_type": "stream",
     "text": [
      "82 NVA_21-003.IMMCORE.C2v1_15T034275-11-Z2-2-ImvessC2-4321.csv\n",
      "<class 'numpy.ndarray'>\n",
      "<class 'float'>\n"
     ]
    },
    {
     "name": "stderr",
     "output_type": "stream",
     "text": [
      "randomization: 100%|████████████████████████████| 10/10 [00:56<00:00,  5.68s/it]\n"
     ]
    },
    {
     "name": "stdout",
     "output_type": "stream",
     "text": [
      "83 NVA_21-003.IMMCORE.C2v1_18T002383-10-Z2-ImvessC2-4321.csv\n",
      "<class 'numpy.ndarray'>\n",
      "<class 'float'>\n"
     ]
    },
    {
     "name": "stderr",
     "output_type": "stream",
     "text": [
      "randomization: 100%|████████████████████████████| 10/10 [00:45<00:00,  4.59s/it]\n"
     ]
    },
    {
     "name": "stdout",
     "output_type": "stream",
     "text": [
      "84 _job80291HighPlex FL v4.1.3-Hoechst+PanCK+CD3+CD8+CD20_object_results.csv\n",
      "<class 'numpy.ndarray'>\n",
      "<class 'float'>\n"
     ]
    },
    {
     "name": "stderr",
     "output_type": "stream",
     "text": [
      "randomization: 100%|████████████████████████████| 10/10 [01:04<00:00,  6.46s/it]\n"
     ]
    },
    {
     "name": "stdout",
     "output_type": "stream",
     "text": [
      "85 NVA_21-003.IMMCORE.C2v1_17T003826-06-ImvessC2-4321.csv\n",
      "<class 'numpy.ndarray'>\n",
      "<class 'float'>\n"
     ]
    },
    {
     "name": "stderr",
     "output_type": "stream",
     "text": [
      "randomization: 100%|████████████████████████████| 10/10 [01:18<00:00,  7.88s/it]\n"
     ]
    },
    {
     "name": "stdout",
     "output_type": "stream",
     "text": [
      "86 NVA_21-003.IMMCORE.C2v1_15T034275-11-Z1-2-ImvessC2-4321.csv\n",
      "<class 'numpy.ndarray'>\n",
      "<class 'float'>\n"
     ]
    },
    {
     "name": "stderr",
     "output_type": "stream",
     "text": [
      "randomization: 100%|████████████████████████████| 10/10 [00:40<00:00,  4.08s/it]\n"
     ]
    },
    {
     "name": "stdout",
     "output_type": "stream",
     "text": [
      "87 NVA_21-003.IMMCORE.C2v1_17T010264-05-Z1-ImvessC2-4321.csv\n",
      "<class 'numpy.ndarray'>\n",
      "<class 'float'>\n"
     ]
    },
    {
     "name": "stderr",
     "output_type": "stream",
     "text": [
      "randomization: 100%|████████████████████████████| 10/10 [00:59<00:00,  5.91s/it]\n"
     ]
    },
    {
     "name": "stdout",
     "output_type": "stream",
     "text": [
      "88 NVA_21-003.IMMCORE.C1v1_18T020627-04-Z1-ImvessC1-4518.csv\n",
      "<class 'numpy.ndarray'>\n",
      "<class 'float'>\n"
     ]
    },
    {
     "name": "stderr",
     "output_type": "stream",
     "text": [
      "randomization: 100%|████████████████████████████| 10/10 [00:43<00:00,  4.32s/it]\n"
     ]
    },
    {
     "name": "stdout",
     "output_type": "stream",
     "text": [
      "89 NVA_21-003.IMMCORE.C1v1_18T011003-05-Z1-ImvessC1-4518.csv\n",
      "<class 'numpy.ndarray'>\n",
      "<class 'float'>\n"
     ]
    },
    {
     "name": "stderr",
     "output_type": "stream",
     "text": [
      "randomization: 100%|████████████████████████████| 10/10 [00:41<00:00,  4.18s/it]\n"
     ]
    },
    {
     "name": "stdout",
     "output_type": "stream",
     "text": [
      "90 NVA_21-003.IMMCORE.C2v1_17T033078-09-Z1-ImvessC2-4321.csv\n",
      "<class 'numpy.ndarray'>\n",
      "<class 'float'>\n"
     ]
    },
    {
     "name": "stderr",
     "output_type": "stream",
     "text": [
      "randomization: 100%|████████████████████████████| 10/10 [02:11<00:00, 13.18s/it]\n"
     ]
    },
    {
     "name": "stdout",
     "output_type": "stream",
     "text": [
      "91 NVA_21-003.IMMCORE.C2v1_19T002076-07-Z1-ImvessC2-4321.csv\n",
      "<class 'numpy.ndarray'>\n",
      "<class 'float'>\n"
     ]
    },
    {
     "name": "stderr",
     "output_type": "stream",
     "text": [
      "randomization:  70%|████████████████████▎        | 7/10 [01:20<00:34, 11.59s/it]"
     ]
    }
   ],
   "source": [
    "i = 1\n",
    "for csv_file in csv_levels[::1]:\n",
    "    print(i, csv_file)\n",
    "    i += 1\n",
    "    nodes = pd.read_csv(csv_path + csv_file , header = None)\n",
    "    nodes.columns = ['id','x','y','class']\n",
    "\n",
    "    ratio = 1\n",
    "    nodes = nodes.sample(n = round(len(nodes) / ratio) )\n",
    "    coords = nodes.loc[:,['x','y']].values\n",
    "\n",
    "\n",
    "    #make colors\n",
    "    nodes['color'] = '#7f8c8d'\n",
    "    nodes.loc[nodes['class'] == 'C1' , 'color' ] = '#e74c3c' #RED\n",
    "    nodes.loc[nodes['class'] == 'C1' , 'color' ] = '#e67e22' #ORANGE\n",
    "    nodes.loc[nodes['class'] == 'C1' , 'color' ] = '#f1c40f' #YELLOW\n",
    "    nodes.loc[nodes['class'] == 'C1' , 'color' ] = '#8e44ad' #PURPLE\n",
    "    nodes.loc[nodes['class'] == 'C1' , 'color' ] = '#2980b9' #LIGHT BLUE \n",
    "    nodes.loc[nodes['class'] == 'C1' , 'color' ] = '#16a085' #GREEN SEA\n",
    "    nodes.loc[nodes['class'] == 'C1' , 'color' ] = '#2c3e50' #BLUE MIDNIGHT\n",
    "    nodes.loc[nodes['class'] == 'C1' , 'color' ] = '#27ae60' #GREEN\n",
    "    nodes.loc[nodes['class'] == 'C1' , 'color' ] = '#7f8c8d' #GRAY\n",
    "\n",
    "\n",
    "    cropped_coords = nodes.loc[:,['x','y']].values\n",
    "    cropped_colors = nodes['color']\n",
    "\n",
    "    ##########\n",
    "    cropped_coords[:,0]  = (cropped_coords[:,0] * 0.1).round()\n",
    "    cropped_coords[:,1]  = (cropped_coords[:,1] * 0.1).round()\n",
    "\n",
    "\n",
    "    cropped_pairs = ty.build_delaunay(cropped_coords)\n",
    "\n",
    "\n",
    "    pd.DataFrame(cropped_pairs).to_csv(\"/home/mouneem/tysserand/PanCK/output/pairs.\"+csv_file)\n",
    "\n",
    "    pd.DataFrame(cropped_coords).to_csv(\"/home/mouneem/tysserand/PanCK/output/coords.\"+csv_file)\n",
    "    pd.DataFrame(cropped_colors).to_csv(\"/home/mouneem/tysserand/PanCK/output/colors.\"+csv_file)\n",
    "\n",
    "    nodes.loc[nodes['class'] == 'M1' , 'class' ] = 'M1' \n",
    "    nodes.loc[nodes['class'] == 'M2' , 'class' ] = 'M2' \n",
    "    nodes.loc[nodes['class'] == 'Other' , 'class' ] = 'Other' \n",
    "    nodes.to_csv(\"/home/mouneem/tysserand/PanCK/output/nodes.\"+csv_file)\n",
    "\n",
    "\n",
    "\n",
    "\n",
    "    attributes = nodes['class']\n",
    "    mosna_nodes = nodes\n",
    "    edges = pd.DataFrame(data=cropped_pairs, columns=['source', 'target'])\n",
    "    mosna_nodes = pd.DataFrame(data=cropped_coords, columns=['x', 'y'])\n",
    "    mosna_nodes['Group'] = attributes.values\n",
    "    mosna_nodes = mosna_nodes.join(pd.get_dummies(mosna_nodes['Group']))\n",
    "    att = mosna_nodes['Group']\n",
    "    attributes = mosna_nodes['Group'].unique()\n",
    "    mosna_nodes.head()\n",
    "\n",
    "    pd.DataFrame(attributes).to_csv(\"/home/mouneem/tysserand/PanCK/output/attributes.\"+csv_file)\n",
    "    pd.DataFrame(edges).to_csv(\"/home/mouneem/tysserand/PanCK/output/edges.\"+csv_file)\n",
    "    mosna_nodes.to_csv(\"/home/mouneem/tysserand/PanCK/output/mosna_nodes.\"+csv_file)\n",
    "\n",
    "\n",
    "    attributes = nodes['class']\n",
    "    edges = pd.DataFrame(data=cropped_pairs, columns=['source', 'target'])\n",
    "    nodes = pd.DataFrame(data=cropped_coords, columns=['x', 'y'])\n",
    "    nodes['Group'] = attributes.values\n",
    "    nodes = nodes.join(pd.get_dummies(nodes['Group']))\n",
    "    att = nodes['Group']\n",
    "    attributes = nodes['Group'].unique()\n",
    "    nodes.head()\n",
    "\n",
    "\n",
    "\n",
    "    # Network statistics\n",
    "    mixmat = mosna.mixing_matrix(nodes, edges, attributes)\n",
    "    assort = mosna.attribute_ac(mixmat)\n",
    "    print(type(mixmat))\n",
    "    print(type(assort))\n",
    "    # ------ Randomization ------\n",
    "    mixmat_rand, assort_rand = mosna.randomized_mixmat(nodes, edges, attributes, n_shuffle=10, parallel=False)\n",
    "\n",
    "    mixmat_mean, mixmat_std, mixmat_zscore = mosna.zscore(mixmat, mixmat_rand, return_stats=True)\n",
    "    assort_mean, assort_std, assort_zscore = mosna.zscore(assort, assort_rand, return_stats=True)\n",
    "\n",
    "    mixmat = mosna.mixmat_to_df(mixmat, attributes)\n",
    "    mixmat_zscore = mosna.mixmat_to_df(mixmat_zscore, attributes)\n",
    "\n",
    "    pd.DataFrame(mixmat).to_csv(\"/home/mouneem/tysserand/PanCK/output/mixmat.\"+csv_file)\n",
    "    pd.DataFrame(mixmat_zscore).to_csv(\"/home/mouneem/tysserand/PanCK/output/mixmat_zscore.\"+csv_file)\n"
   ]
  },
  {
   "cell_type": "code",
   "execution_count": null,
   "metadata": {},
   "outputs": [],
   "source": [
    "\n",
    "\n",
    "\n",
    "nodes = nodesAll\n",
    "nodes.loc[nodes['class'] == 'C1' , 'class' ] = 'PanCK+CD3-CD8-CD20-'\n",
    "nodes.loc[nodes['class'] == 'C2' , 'class' ] = 'PanCK-CD3+CD8+' \n",
    "nodes.loc[nodes['class'] == 'C3' , 'class' ] = 'PanCK-CD3+CD8-' \n",
    "nodes.loc[nodes['class'] == 'C4' , 'class' ] = 'PanCK-CD3-CD20+' \n",
    "nodes.loc[nodes['class'] == 'C5' , 'class' ] = 'PanCK-CD3+CD20+' \n",
    "\n",
    "attributes = nodes['class']\n",
    "\n",
    "edges = pd.DataFrame(data=cropped_pairs, columns=['source', 'target'])\n",
    "nodes = pd.DataFrame(data=cropped_coords, columns=['x', 'y'])\n",
    "nodes['Group'] = attributes.values\n",
    "nodes = nodes.join(pd.get_dummies(nodes['Group']))\n",
    "att = nodes['Group']\n",
    "attributes = nodes['Group'].unique()\n",
    "nodes.head()\n",
    "\n",
    "\n",
    "\n",
    "# Network statistics\n",
    "mixmat = mosna.mixing_matrix(nodes, edges, attributes)\n",
    "assort = mosna.attribute_ac(mixmat)\n",
    "\n",
    "# ------ Randomization ------\n",
    "mixmat_rand, assort_rand = mosna.randomized_mixmat(nodes, edges, attributes, n_shuffle=200, parallel=False)\n",
    "mixmat_mean, mixmat_std, mixmat_zscore = mosna.zscore(mixmat, mixmat_rand, return_stats=True)\n",
    "assort_mean, assort_std, assort_zscore = mosna.zscore(assort, assort_rand, return_stats=True)\n",
    "\n",
    "mixmat = mosna.mixmat_to_df(mixmat, attributes)\n",
    "mixmat_zscore = mosna.mixmat_to_df(mixmat_zscore, attributes)\n",
    "\n",
    "\n"
   ]
  },
  {
   "cell_type": "code",
   "execution_count": null,
   "metadata": {},
   "outputs": [],
   "source": [
    "save_dir = Path(\"/home/abdelmounimessabbar/Bureau/PanCKmosna_output\")\n",
    "\n",
    "sns.set_context('talk')\n",
    "\n",
    "title = \"Assortativity by cell types:\"\n",
    "print(title)\n",
    "fig, ax = plt.subplots(figsize=(9, 6))\n",
    "sns.heatmap(mixmat, center=0, cmap=\"vlag\", annot=True, linewidths=.5, ax=ax)\n",
    "plt.xticks(rotation=30, ha='right');\n",
    "# plt.xticks(rotation=30, ha='right', fontsize=20);\n",
    "# plt.yticks(fontsize=20);\n",
    "plt.savefig(save_dir / \"assortativity\", bbox_inches='tight', facecolor='white')\n",
    "\n",
    "print(\"Z-scored assortativity by cell types: {}\".format(assort_zscore))\n",
    "fig, ax = plt.subplots(figsize=(9, 6))\n",
    "sns.heatmap(mixmat_zscore, center=0, cmap=\"vlag\", annot=True, linewidths=.5, ax=ax)\n",
    "plt.xticks(rotation=30, ha='right');\n",
    "plt.savefig(save_dir / \"assortativity_z-scored\", bbox_inches='tight', facecolor='white')"
   ]
  },
  {
   "cell_type": "code",
   "execution_count": null,
   "metadata": {},
   "outputs": [],
   "source": []
  },
  {
   "cell_type": "markdown",
   "metadata": {},
   "source": []
  },
  {
   "cell_type": "code",
   "execution_count": null,
   "metadata": {},
   "outputs": [],
   "source": []
  },
  {
   "cell_type": "code",
   "execution_count": null,
   "metadata": {},
   "outputs": [],
   "source": []
  },
  {
   "cell_type": "code",
   "execution_count": null,
   "metadata": {},
   "outputs": [],
   "source": []
  },
  {
   "cell_type": "code",
   "execution_count": null,
   "metadata": {},
   "outputs": [],
   "source": []
  },
  {
   "cell_type": "code",
   "execution_count": null,
   "metadata": {},
   "outputs": [],
   "source": []
  },
  {
   "cell_type": "code",
   "execution_count": null,
   "metadata": {},
   "outputs": [],
   "source": []
  },
  {
   "cell_type": "markdown",
   "metadata": {},
   "source": []
  },
  {
   "cell_type": "code",
   "execution_count": null,
   "metadata": {},
   "outputs": [],
   "source": []
  },
  {
   "cell_type": "markdown",
   "metadata": {},
   "source": []
  },
  {
   "cell_type": "code",
   "execution_count": null,
   "metadata": {},
   "outputs": [],
   "source": []
  },
  {
   "cell_type": "markdown",
   "metadata": {},
   "source": []
  },
  {
   "cell_type": "code",
   "execution_count": null,
   "metadata": {},
   "outputs": [],
   "source": []
  },
  {
   "cell_type": "code",
   "execution_count": null,
   "metadata": {},
   "outputs": [],
   "source": []
  },
  {
   "cell_type": "code",
   "execution_count": null,
   "metadata": {},
   "outputs": [],
   "source": []
  }
 ],
 "metadata": {
  "interpreter": {
   "hash": "0746f5b2c01e958414395754882cf6092b13870828f8e16bc72ea4cedeeea844"
  },
  "kernelspec": {
   "display_name": "Python 3 (ipykernel)",
   "language": "python",
   "name": "python3"
  },
  "language_info": {
   "codemirror_mode": {
    "name": "ipython",
    "version": 3
   },
   "file_extension": ".py",
   "mimetype": "text/x-python",
   "name": "python",
   "nbconvert_exporter": "python",
   "pygments_lexer": "ipython3",
   "version": "3.8.10"
  }
 },
 "nbformat": 4,
 "nbformat_minor": 4
}
