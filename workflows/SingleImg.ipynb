{
 "cells": [
  {
   "cell_type": "code",
   "execution_count": null,
   "metadata": {},
   "outputs": [],
   "source": [
    "#Load libs\n",
    "\n",
    "import numpy as np\n",
    "import pandas as pd\n",
    "import matplotlib.pyplot as plt\n",
    "import os\n",
    "from pathlib import Path\n",
    "from tysserand import tysserand as ty\n",
    "from PIL import Image\n",
    "Image.MAX_IMAGE_PIXELS = 1000000000 \n",
    "from PIL import Image, ImageOps\n",
    "import fcsparser\n",
    "\n",
    "#set up working dir\n",
    "\n",
    "data_dir = Path(\"/home/mouneem/Projects/tysserand/tysserand/Imagin_LungPredict/\")\n",
    "path = str(\"/home/mouneem/Projects/tysserand/tysserand/Imagin_LungPredict/\")\n"
   ]
  },
  {
   "cell_type": "code",
   "execution_count": null,
   "metadata": {},
   "outputs": [],
   "source": [
    "# FCS TO CSV\n",
    "fileimg = \"C1v1/NVA_21-003.IMMCORE.C1v1_15T008187-08-ImvessC1-4518.tif\"\n",
    "\n",
    "FCSfile = 'NVA_21-003.IMMCORE.C1v1_15T008187-08-ImvessC1-4518.czi_79677_ObjData.fcs'\n",
    "meta, data = fcsparser.parse(path+\"fcs/\"+FCSfile, reformat_meta=True)\n",
    "type(data)\n",
    "#df1 = df[['a', 'b']] // df1 = df.iloc[:, 0:2] \n",
    "\n",
    "data[\"x\"] = (data[\"XMax\"] + data[\"XMin\"] ) / 2\n",
    "data[\"y\"] = (data[\"YMax\"] + data[\"YMin\"] ) / 2\n",
    "\n",
    "col_is_marker = []\n",
    "for col in list(data.columns):\n",
    "    if col.count('+') + col.count('-') > 1:\n",
    "        col_is_marker.append(True)\n",
    "    else:\n",
    "        col_is_marker.append(False)\n",
    "\n",
    "print(len(col_is_marker))\n",
    "\n",
    "marker = data.loc[:, col_is_marker]\n",
    "\n",
    "classes = marker.apply(lambda row: '_'.join(row.values.astype(str)), axis=1)\n",
    "data[\"class\"] = pd.factorize(classes)[0] \n",
    "\n",
    "nodes = data[['x','y',\"class\"]]\n",
    "nodes.to_csv(path + \"csv/\"+FCSfile )"
   ]
  },
  {
   "cell_type": "code",
   "execution_count": null,
   "metadata": {},
   "outputs": [],
   "source": [
    "ratio = 10\n",
    "nodes = nodes.sample(n = round(len(nodes) / ratio) )\n",
    "coords = nodes.loc[:,['x','y']].values\n",
    "\n",
    "print('nodes:', len(nodes))\n",
    "print('coords:', len(coords))\n",
    "\n",
    "#load image\n",
    "img = plt.imread(data_dir / fileimg)\n",
    "#img = ImageOps.grayscale(img) # GRAYSCALE IMAGE\n"
   ]
  },
  {
   "cell_type": "code",
   "execution_count": null,
   "metadata": {},
   "outputs": [],
   "source": [
    "#make colors\n",
    "\n",
    "class_colors = ['#F85446', '#813FE0', '#52DEF7', '#62E03F', '#FFCE36', '#FA6C17','#D805E3', '#0155FA', '#0BE35B', '#FFF117', '#DDFF7D', '#78E3C8']\n",
    "classes = list(nodes['class'].unique())\n",
    "print(classes)\n",
    "\n",
    "dico_col = {}\n",
    "for i in range(len(classes)):\n",
    "    marker = classes[i]\n",
    "    dico_col[marker] = class_colors[i]\n",
    "\n",
    "\n",
    "colors = []\n",
    "for cl in nodes['class']:\n",
    "    colors.append(dico_col[cl])\n"
   ]
  },
  {
   "cell_type": "code",
   "execution_count": null,
   "metadata": {},
   "outputs": [],
   "source": [
    "# Adjust size of image  \n",
    "\n",
    "# nodes\n",
    "min_x = min(coords[:, 0])\n",
    "max_x = max(coords[:, 0])\n",
    "nodes_width = max_x - min_x   \n",
    "\n",
    "min_y = min(coords[:, 1])\n",
    "max_y = max(coords[:, 1])\n",
    "nodes_height = max_y - min_y   \n",
    "\n",
    "# img\n",
    "img_width = img.shape[0]\n",
    "img_height = img.shape[1]\n",
    "\n",
    "ratio_x = img_width / nodes_width\n",
    "ratio_y = img_height / nodes_height\n",
    "ratio = 1\n",
    "print('ratio x', ratio_x, ' \\n'\n",
    "        'ratio y', ratio_y)\n",
    "\n",
    "#img = cv2.flip(img, 0)\n",
    "coords[:,0]  = (coords[:,0] * ratio_x ).round()\n",
    "coords[:,1]  = (coords[:,1] * ratio_x).round()\n",
    "print('scaled UP')\n",
    "\n",
    "## TANSITION TO 0\n",
    "coords[:,0] = coords[:,0] - min(coords[:,0])\n",
    "coords[:,1] = coords[:,1] - min(coords[:,1])\n"
   ]
  },
  {
   "cell_type": "code",
   "execution_count": null,
   "metadata": {},
   "outputs": [],
   "source": [
    "plt.scatter(coords[:,0] , coords[:,1] , c=colors,  zorder=10, s = 1)"
   ]
  },
  {
   "cell_type": "code",
   "execution_count": null,
   "metadata": {},
   "outputs": [],
   "source": [
    "\n",
    "fig, ax = ty.showim(img, figsize=(150, 150))\n",
    "col_nodes = colors\n",
    "ax.scatter(coords[:,0] , coords[:,1] , c=col_nodes,  zorder=10)"
   ]
  },
  {
   "cell_type": "markdown",
   "metadata": {},
   "source": [
    "# TYSSERAND"
   ]
  },
  {
   "cell_type": "code",
   "execution_count": null,
   "metadata": {},
   "outputs": [],
   "source": [
    "# superimpose network to mIF image\n",
    "\n",
    "fig, ax = ty.showim(img, figsize=(100, 100))\n",
    "\n",
    "pairs = ty.build_delaunay(coords)\n",
    "#distances = ty.distance_neighbors(coords, pairs)\n",
    "    \n",
    "ty.plot_network(coords, pairs, col_nodes=colors, col_edges='w', ax=ax)"
   ]
  }
 ],
 "metadata": {
  "interpreter": {
   "hash": "0746f5b2c01e958414395754882cf6092b13870828f8e16bc72ea4cedeeea844"
  },
  "kernelspec": {
   "display_name": "Python 3 (ipykernel)",
   "language": "python",
   "name": "python3"
  },
  "language_info": {
   "codemirror_mode": {
    "name": "ipython",
    "version": 3
   },
   "file_extension": ".py",
   "mimetype": "text/x-python",
   "name": "python",
   "nbconvert_exporter": "python",
   "pygments_lexer": "ipython3",
   "version": "3.8.10"
  }
 },
 "nbformat": 4,
 "nbformat_minor": 4
}
