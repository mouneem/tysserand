{
 "cells": [
  {
   "cell_type": "code",
   "execution_count": 23,
   "metadata": {},
   "outputs": [],
   "source": [
    "#Load libs\n",
    "\n",
    "import numpy as np\n",
    "import pandas as pd\n",
    "import matplotlib.pyplot as plt\n",
    "import os\n",
    "from pathlib import Path\n",
    "from PIL import Image\n",
    "Image.MAX_IMAGE_PIXELS = 1000000000 \n",
    "from PIL import Image, ImageOps\n",
    "import fcsparser\n",
    "import sys\n",
    "\n",
    "#set up working dir\n",
    "\n",
    "directory = str(\"/mnt/SERVER-CRCT-STORAGE/CRCT_Imagin/CORDELIER Pierre/HaloData/21-003.IMMCORE.C2v1/Halo archive 2021-12-13 16-38 - v3.3.2541/ObjectData/\")\n",
    "outpath = '/home/mouneem/tysserand/CORDELIER_PIERRE/'\n",
    "log = '/home/mouneem/tysserand/CORDELIER_PIERRE/'+'log.txt'\n"
   ]
  },
  {
   "cell_type": "code",
   "execution_count": 25,
   "metadata": {},
   "outputs": [
    {
     "name": "stdout",
     "output_type": "stream",
     "text": [
      "_job80291HighPlex FL v4.1.3-Hoechst+PanCK+CD3+CD8+CD20_object_results.csv Counter({'Other': 550164, 'C3': 109790, 'C1': 95309, 'C2': 80579, 'C4': 23323})\n",
      "_job80320HighPlex FL v4.1.3-Hoechst+PanCK+CD3+CD8+CD20_object_results.csv Counter({'Other': 58695, 'C3': 7994, 'C4': 5036, 'C1': 3916, 'C2': 2789})\n",
      "_job80309HighPlex FL v4.1.3-Hoechst+PanCK+CD3+CD8+CD20_object_results.csv Counter({'Other': 449150, 'C1': 109544, 'C4': 775})\n",
      "_job80270HighPlex FL v4.1.3-Hoechst+PanCK+CD3+CD8+CD20_object_results.csv Counter({'Other': 58502, 'C2': 10413, 'C3': 9062, 'C1': 5147, 'C4': 1984})\n",
      "_job80286HighPlex FL v4.1.3-Hoechst+PanCK+CD3+CD8+CD20_object_results.csv Counter({'Other': 619851, 'C1': 145497, 'C2': 37219, 'C3': 33003, 'C4': 2264})\n",
      "_job80311HighPlex FL v4.1.3-Hoechst+PanCK+CD3+CD8+CD20_object_results.csv Counter({'Other': 44457, 'C4': 36996, 'C1': 11})\n",
      "_job80318HighPlex FL v4.1.3-Hoechst+PanCK+CD3+CD8+CD20_object_results.csv Counter({'Other': 4823, 'C1': 1815, 'C2': 817, 'C3': 417, 'C4': 50})\n",
      "_job80313HighPlex FL v4.1.3-Hoechst+PanCK+CD3+CD8+CD20_object_results.csv Counter({'Other': 29452, 'C1': 15768, 'C4': 24})\n",
      "_job80335HighPlex FL v4.1.3-Hoechst+PanCK+CD3+CD8+CD20_object_results.csv Counter({'Other': 202647, 'C1': 17213, 'C2': 2063, 'C3': 2030, 'C4': 25})\n",
      "_job80175HighPlex FL v4.1.3-Hoechst+PanCK+CD3+CD8+CD20_object_results.csv Counter({'C3': 46714, 'C4': 13764, 'C2': 13111, 'Other': 6724})\n",
      "_job80181HighPlex FL v4.1.3-Hoechst+PanCK+CD3+CD8+CD20_object_results.csv Counter({'Other': 347737, 'C1': 104931, 'C3': 54468, 'C2': 19883, 'C4': 317})\n",
      "_job80220HighPlex FL v4.1.3-Hoechst+PanCK+CD3+CD8+CD20_object_results.csv Counter({'Other': 369432, 'C3': 41072, 'C1': 31956, 'C2': 24557, 'C4': 17859})\n",
      "_job80182HighPlex FL v4.1.3-Hoechst+PanCK+CD3+CD8+CD20_object_results.csv Counter({'Other': 47644, 'C1': 38033, 'C3': 2693, 'C2': 1549, 'C4': 17})\n",
      "_job80228HighPlex FL v4.1.3-Hoechst+PanCK+CD3+CD8+CD20_object_results.csv Counter({'Other': 555517, 'C1': 323319, 'C3': 43790, 'C2': 31884, 'C4': 10467})\n",
      "_job80241HighPlex FL v4.1.3-Hoechst+PanCK+CD3+CD8+CD20_object_results.csv Counter({'Other': 135099, 'C1': 39470, 'C3': 15645, 'C2': 5166, 'C4': 831})\n",
      "_job80198HighPlex FL v4.1.3-Hoechst+PanCK+CD3+CD8+CD20_object_results.csv Counter({'Other': 39874, 'C3': 1337, 'C2': 954, 'C4': 610, 'C1': 165})\n",
      "_job80200HighPlex FL v4.1.3-Hoechst+PanCK+CD3+CD8+CD20_object_results.csv Counter({'Other': 864714, 'C1': 176974, 'C3': 111359, 'C2': 39309, 'C4': 7461})\n"
     ]
    }
   ],
   "source": [
    "# FCS TO CSV\n",
    "# iterate over files in\n",
    "# that directory\n",
    "i = 0\n",
    "failed = []\n",
    "for filename in os.listdir(directory):\n",
    "    try:    \n",
    "        i += 1\n",
    "        f = os.path.join(directory, filename)\n",
    "        # checking if it is a file\n",
    "        filename_csv = filename\n",
    "        if os.path.isfile(f) :\n",
    "            #meta, data = fcsparser.parse(f, reformat_meta=True)\n",
    "            data = pd.read_csv(f) \n",
    "            #df1 = df[['a', 'b']] // df1 = df.iloc[:, 0:2] \n",
    "            image_name = data.iat[0,0].split(\"\\\\\")[-1].split(\"/\")[-1]\n",
    "            level = data.iat[0,1]\n",
    "            outname = \".\".join([ image_name,level,'csv' ])\n",
    "            data[\"x\"] = (data[\"XMax\"] + data[\"XMin\"] ) / 2\n",
    "            data[\"y\"] = (data[\"YMax\"] + data[\"YMin\"] ) / 2\n",
    "\n",
    "            col_is_marker = []\n",
    "            for col in list(data.columns):\n",
    "                if col.count('+') + col.count('-') > 1:\n",
    "                    col_is_marker.append(True)\n",
    "                else:\n",
    "                    col_is_marker.append(False)\n",
    "\n",
    "\n",
    "            marker = data.loc[:, col_is_marker]\n",
    "            C1_markers = marker['PanCK+CD3-CD8-CD20-'].astype(bool) \n",
    "            C2_markers = marker['PanCK-CD3+CD8+'].astype(bool) \n",
    "            C3_markers = marker['PanCK-CD3+CD8-'].astype(bool) \n",
    "            C4_markers = marker['PanCK-CD3-CD20+'].astype(bool) \n",
    "            C5_markers = marker['PanCK-CD3+CD20+'].astype(bool) \n",
    "\n",
    "            classes = ['Other']*data.shape[0]\n",
    "\n",
    "            for i in range(len(classes)):\n",
    "                if C1_markers.values[i]:\n",
    "                    classes[i] = 'C1'\n",
    "                elif C2_markers.values[i]:\n",
    "                    classes[i] = 'C2'\n",
    "                elif C3_markers.values[i]:\n",
    "                    classes[i] = 'C3'\n",
    "                elif C4_markers.values[i]:\n",
    "                    classes[i] = 'C4'\n",
    "                elif C5_markers.values[i]:\n",
    "                    classes[i] = 'C5'\n",
    "\n",
    "            from collections import Counter\n",
    "            print(filename, Counter(classes))\n",
    "\n",
    "            data[\"class\"] = classes\n",
    "\n",
    "            nodes = data[['x','y',\"class\"]]\n",
    "            nodes.to_csv(outpath + \"csv_levels/\" + outname,  mode='a', header = False)\n",
    "\n",
    "\n",
    "            # ratio = 10  CD206-CD163+CD68-CD16-\n",
    "            # nodes = nodes.sample(n = round(len(nodes) / ratio) )\n",
    "            # coords = nodes.loc[:,['x','y']].values\n",
    "\n",
    "            # plt.scatter(coords[:,0] , coords[:,1] ,   zorder=10, s = 1)\n",
    "        \n",
    "            # plt.savefig(outpath+filename_csv+'.png')\n",
    "            \n",
    "            # plt.cla()\n",
    "\n",
    "    except PermissionError:\n",
    "        failed.append(filename)\n",
    "open(log , 'a+').write(\"\\n\".join(failed))"
   ]
  },
  {
   "cell_type": "code",
   "execution_count": 15,
   "metadata": {},
   "outputs": [
    {
     "data": {
      "text/plain": [
       "60472"
      ]
     },
     "execution_count": 15,
     "metadata": {},
     "output_type": "execute_result"
    }
   ],
   "source": []
  }
 ],
 "metadata": {
  "interpreter": {
   "hash": "3227f808e6916200b147d69ba1fbe281af8123447da49fe43da36a1da57fa14f"
  },
  "kernelspec": {
   "display_name": "spatial-networks",
   "language": "python",
   "name": "python3"
  },
  "language_info": {
   "codemirror_mode": {
    "name": "ipython",
    "version": 3
   },
   "file_extension": ".py",
   "mimetype": "text/x-python",
   "name": "python",
   "nbconvert_exporter": "python",
   "pygments_lexer": "ipython3",
   "version": "3.8.10"
  }
 },
 "nbformat": 4,
 "nbformat_minor": 4
}
