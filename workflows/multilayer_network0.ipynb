{
 "cells": [
  {
   "cell_type": "code",
   "execution_count": 13,
   "metadata": {},
   "outputs": [],
   "source": [
    "#Load libs\n",
    "\n",
    "import numpy as np\n",
    "import pandas as pd\n",
    "import matplotlib.pyplot as plt\n",
    "import os\n",
    "from pathlib import Path\n",
    "from tysserand import tysserand as ty\n",
    "from PIL import Image\n",
    "Image.MAX_IMAGE_PIXELS = 1000000000 \n",
    "from PIL import Image, ImageOps\n",
    "import fcsparser\n",
    "\n",
    "from os import listdir\n",
    "from os.path import isfile, join\n",
    "#set up working dir\n",
    "\n",
    "import sys\n",
    "sys.path.extend([\n",
    "    '../tysserand/tysserand',\n",
    "    '../mosna',\n",
    "])\n",
    "\n",
    "import seaborn as sns\n",
    "from time import time\n",
    "import copy\n",
    "from skimage import color\n",
    "import matplotlib as mpl\n",
    "import napari\n",
    "\n",
    "from sklearn.preprocessing import StandardScaler\n",
    "from sklearn.neighbors import KNeighborsClassifier\n",
    "from sklearn.svm import SVC, LinearSVC\n",
    "from sklearn.metrics import accuracy_score\n",
    "from sklearn.model_selection import cross_validate, GridSearchCV, RandomizedSearchCV\n",
    "from scipy.stats import loguniform\n",
    "\n",
    "import umap\n",
    "# if not installed run: conda install -c conda-forge umap-learn\n",
    "import hdbscan\n",
    "from sklearn.cluster import OPTICS, cluster_optics_dbscan\n",
    "\n",
    "from skimage import io\n",
    "\n",
    "from scipy.stats import ttest_ind    # Welch's t-test\n",
    "from scipy.stats import mannwhitneyu # Mann-Whitney rank test\n",
    "from scipy.stats import ks_2samp     # Kolmogorov-Smirnov statistic\n",
    "\n",
    "sys.path.append(\"/home/mouneem/mosna/\")\n",
    "\n",
    "\n",
    "from tysserand import tysserand as ty\n",
    "from mosna import mosna\n",
    "\n",
    "\n",
    "\n",
    "\n",
    "\n",
    "\n",
    "data_dir = Path(\"/home/mouneem/tysserand/\")\n",
    "path = str(\"/home/mouneem/tysserand/CORDELIER_PIERRE/\")\n",
    "path_nets = str(\"/home/mouneem/tysserand/nets/\")\n",
    "#path = str(\"/home/mouneem/tysserand/data/\")\n",
    "\n",
    "# select all CSVs\n",
    "csv_path = \"/home/mouneem/tysserand/CORDELIER_PIERRE/csv_M1_M2/\"\n",
    "csv_levels = [f for f in listdir(csv_path) if isfile(join(csv_path, f))]\n",
    "\n",
    "\n",
    "save_dir = Path(\"/home/mouneem/tysserand/CORDELIER_PIERRE/mosna_output/\")\n",
    "mosna_output = str(\"/home/mouneem/tysserand/CORDELIER_PIERRE/mosna_output/\")\n",
    "\n",
    "sns.set_context('talk')\n",
    "\n"
   ]
  },
  {
   "cell_type": "code",
   "execution_count": 14,
   "metadata": {},
   "outputs": [
    {
     "name": "stdout",
     "output_type": "stream",
     "text": [
      "['NVA_21-003.IMMCORE.C1v1_15T034275-11-Z1-2-ImvessC1-4518.csv', 'NVA_21-003.IMMCORE.C2v1_15T010760-09-Z1-ImvessC2-4321.csv', 'NVA_21-003.IMMCORE.C1v1_17T054628-06-Z1-ImvessC1-4518.csv', 'NVA_21-003.IMMCORE.C2v1_15T008187-08-ImvessC2-4321.csv', 'NVA_21-003.IMMCORE.C1v1_15T008187-08-ImvessC1-4518.csv', 'NVA_21-003.IMMCORE.C1v1_16T058343-12-ImvessC1-4518.csv', 'NVA_21-003.IMMCORE.C1v1_18T009975-12-ImvessC1-4518.csv', 'NVA_21-003.IMMCORE.C2v1_15T027584-13-2-ImvessC2-4321.csv', 'NVA_21-003.IMMCORE.C2v1_19T037195-08-Z1-2-ImvessC2-4321.csv', 'NVA_21-003.IMMCORE.C1v1_15T027584-13-ImvessC1-4518.csv', 'NVA_21-003.IMMCORE.C1v1_17T003826-06-ImvessC1-4518.csv', 'NVA_21-003.IMMCORE.C1v1_16T037314-11-Z1-ImvessC1-4518.csv', 'NVA_21-003.IMMCORE.C2v1_16T037314-11-Z3-ImvessC2-4321.csv', 'NVA_21-003.IMMCORE.C2v1_19T002076-07-Z2-ImvessC2-4321.csv', 'NVA_21-003.IMMCORE.C1v1_16T042639-11-Z2-ImvessC1-4518.csv', 'NVA_21-003.IMMCORE.C1v1_16T013087-8-ImvessC1-4518.csv', 'NVA_21-003.IMMCORE.C1v1_17T020895-03-Z2-ImvessC1-4518.csv', 'NVA_21-003.IMMCORE.C1v1_15T010760-09-Z2-ImvessC1-4518.csv', 'NVA_21-003.IMMCORE.C1v1_17T020615-09-2-ImvessC1-4518.csv', 'NVA_21-003.IMMCORE.C1v1_18T005297-13-ImvessC1-4518.csv', 'NVA_21-003.IMMCORE.C2v1_17T018454-05-Z2-ImvessC2-4321.csv', 'NVA_21-003.IMMCORE.C2v1_17T006383-09-Z2-ImvessC2-4321.csv', 'NVA_21-003.IMMCORE.C1v1_19T006284-08-ImvessC1-4518.csv', 'NVA_21-003.IMMCORE.C1v1_16T022680-3-ImvessC1-4518.csv', 'NVA_21-003.IMMCORE.C2v1_17T021098-13-Z1-ImvessC2-4321.csv', 'NVA_21-003.IMMCORE.C1v1_18T004469-02-Z1-ImvessC1-4518.csv', 'NVA_21-003.IMMCORE.C2v1_18T004469-02-Z1-ImvessC2-4321.csv', 'NVA_21-003.IMMCORE.C1v1_17T021098-13-Z2-ImvessC1-4518.csv', 'NVA_21-003.IMMCORE.C2v1_15T010441-02-ImvessC2-4321.csv', 'NVA_21-003.IMMCORE.C1v1_18T004469-02-Z2-ImvessC1-4518.csv', 'NVA_21-003.IMMCORE.C1v1_18T047929-09-Z1-ImvessC1-4518.csv', 'NVA_21-003.IMMCORE.C2v1_18T047929-09-Z1-ImvessC2-4321.csv', 'NVA_21-003.IMMCORE.C2v1_18T044196-05-Z2-ImvessC2-4321.csv', 'NVA_21-003.IMMCORE.C1v1_15T034275-11-Z2-2-ImvessC1-4518.csv', 'NVA_21-003.IMMCORE.C1v1_15T046951-1-ImvessC1-4518.csv', 'NVA_21-003.IMMCORE.C1v1_18T040686-03-ImvessC1-4518.csv', 'NVA_21-003.IMMCORE.C1v1_18T047929-09-Z2-ImvessC1-4518.csv', 'NVA_21-003.IMMCORE.C2v1_15T010760-09-Z2-ImvessC2-4321.csv', 'NVA_21-003.IMMCORE.C2v1_16T013087-8-ImvessC2-4321.csv', 'NVA_21-003.IMMCORE.C1v1_18T044196-05-Z2-ImvessC1-4518.csv', 'NVA_21-003.IMMCORE.C2v1_19T020336-21-ImvessC2-4321.csv', 'NVA_21-003.IMMCORE.C2v1_15T052601-14-Z1-ImvessC2-4321.csv', 'NVA_21-003.IMMCORE.C1v1_16T037314-11-Z3-ImvessC1-4518.csv', 'NVA_21-003.IMMCORE.C1v1_17T018454-05-Z1-ImvessC1-4518.csv', 'NVA_21-003.IMMCORE.C1v1_17T033078-09-Z2-ImvessC1-4518.csv', 'NVA_21-003.IMMCORE.C1v1_18T047929-09-Z3-ImvessC1-4518.csv', 'NVA_21-003.IMMCORE.C1v1_18T020627-04-Z3-ImvessC1-4518.csv', 'NVA_21-003.IMMCORE.C1v1_17T004343-07-ImvessC1-4518.csv', 'NVA_21-003.IMMCORE.C1v1_16T034668-33-ImvessC1-4518.csv', 'NVA_21-003.IMMCORE.C1v1_18T054305-08-ImvessC1-4518.csv', 'NVA_21-003.IMMCORE.C2v1_16T058343-12-ImvessC2-4321.csv', 'NVA_21-003.IMMCORE.C2v1_17T006383-09-Z1-ImvessC2-4321.csv', 'NVA_21-003.IMMCORE.C1v1_17T048267-11-Z1-ImvessC1-4518.csv', 'NVA_21-003.IMMCORE.C1v1_15T010760-09-Z1-ImvessC1-4518.csv', 'NVA_21-003.IMMCORE.C2v1_18T004469-02-Z2-ImvessC2-4321.csv', 'NVA_21-003.IMMCORE.C1v1_17T018454-05-Z3-ImvessC1-4518.csv', 'NVA_21-003.IMMCORE.C2v1_18T020627-04-Z1-ImvessC2-4321.csv', 'NVA_21-003.IMMCORE.C2v1_18T044196-05-Z1-ImvessC2-4321.csv', 'NVA_21-003.IMMCORE.C2v1_16T037314-11-Z1-ImvessC2-4321.csv', 'NVA_21-003.IMMCORE.C1v1_17T033078-09-Z1-ImvessC1-4518.csv', 'NVA_21-003.IMMCORE.C1v1_17T021098-13-Z1-ImvessC1-4518.csv', 'NVA_21-003.IMMCORE.C1v1_18T011003-05-Z2-ImvessC1-4518.csv', 'NVA_21-003.IMMCORE.C1v1_17T010264-05-Z2-ImvessC1-4518.csv', 'NVA_21-003.IMMCORE.C2v1_15T011146-16-ImvessC2-4321.csv', 'NVA_21-003.IMMCORE.C1v1_17T054628-06-Z2-ImvessC1-4518.csv', 'NVA_21-003.IMMCORE.C1v1_18T002383-10-Z1-ImvessC1-4518.csv', 'NVA_21-003.IMMCORE.C2v1_16T037314-11-Z2-ImvessC2-4321.csv', 'NVA_21-003.IMMCORE.C2v1_17T048267-11-Z1-ImvessC2-4321.csv', 'NVA_21-003.IMMCORE.C1v1_19T002076-07-Z1-ImvessC1-4518.csv', 'NVA_21-003.IMMCORE.C1v1_16T019939-10-ImvessC1-4518.csv', 'NVA_21-003.IMMCORE.C2v1_17T018454-05-Z3-ImvessC2-4321.csv', 'NVA_21-003.IMMCORE.C1v1_18T020627-04-Z2-ImvessC1-4518.csv', 'NVA_21-003.IMMCORE.C1v1_17T048267-11-Z2-ImvessC1-4518.csv', 'NVA_21-003.IMMCORE.C2v1_16T004768-17-ImvessC2-4321.csv', 'NVA_21-003.IMMCORE.C1v1_16T008211-9-ImvessC1-4518.csv', 'NVA_21-003.IMMCORE.C2v1_18T011003-05-Z1-ImvessC2-4321.csv', 'NVA_21-003.IMMCORE.C2v1_15T052601-14-Z2-ImvessC2-4321.csv', 'NVA_21-003.IMMCORE.C2v1_19T006284-08-ImvessC2-4321.csv', 'NVA_21-003.IMMCORE.C2v1_16T019939-10-ImvessC2-4321.csv', 'NVA_21-003.IMMCORE.C2v1_19T031111-09-ImvessC2-4321.csv', 'NVA_21-003.IMMCORE.C1v1_17T020895-03-Z1-ImvessC1-4518.csv', 'NVA_21-003.IMMCORE.C2v1_15T034275-11-Z2-2-ImvessC2-4321.csv', 'NVA_21-003.IMMCORE.C2v1_18T002383-10-Z2-ImvessC2-4321.csv', '_job80291HighPlex FL v4.1.3-Hoechst+PanCK+CD3+CD8+CD20_object_results.csv', 'NVA_21-003.IMMCORE.C2v1_17T003826-06-ImvessC2-4321.csv', 'NVA_21-003.IMMCORE.C2v1_15T034275-11-Z1-2-ImvessC2-4321.csv', 'NVA_21-003.IMMCORE.C2v1_17T010264-05-Z1-ImvessC2-4321.csv', 'NVA_21-003.IMMCORE.C1v1_18T020627-04-Z1-ImvessC1-4518.csv', 'NVA_21-003.IMMCORE.C1v1_18T011003-05-Z1-ImvessC1-4518.csv', 'NVA_21-003.IMMCORE.C2v1_17T033078-09-Z1-ImvessC2-4321.csv', 'NVA_21-003.IMMCORE.C2v1_19T002076-07-Z1-ImvessC2-4321.csv', 'NVA_21-003.IMMCORE.C1v1_15T052601-14-Z2-ImvessC1-4518.csv', 'NVA_21-003.IMMCORE.C1v1_15T010441-02-ImvessC1-4518.csv', 'NVA_21-003.IMMCORE.C1v1_17T006383-09-Z1-ImvessC1-4518.csv', 'NVA_21-003.IMMCORE.C2v1_16T034668-33-ImvessC2-4321.csv', 'NVA_21-003.IMMCORE.C1v1_15T011146-16-2-ImvessC1-4518.csv', 'NVA_21-003.IMMCORE.C2v1_17T054628-06-Z2-ImvessC2-4321.csv', 'NVA_21-003.IMMCORE.C2v1_18T054305-08-ImvessC2-4321.csv', 'NVA_21-003.IMMCORE.C2v1_17T048267-11-Z3-ImvessC2-4321.csv', 'NVA_21-003.IMMCORE.C2v1_19T041398-05-Z2-2-ImvessC2-4321.csv', 'NVA_21-003.IMMCORE.C2v1_18T047929-09-Z2-ImvessC2-4321.csv', 'NVA_21-003.IMMCORE.C2v1_17T021098-13-Z2-ImvessC2-4321.csv', 'NVA_21-003.IMMCORE.C2v1_16T042639-11-Z1-ImvessC2-4321.csv', 'NVA_21-003.IMMCORE.C1v1_19T037195-08-Z2-ImvessC1-4518.csv', 'NVA_21-003.IMMCORE.C2v1_17T010264-05-Z2-ImvessC2-4321.csv', 'NVA_21-003.IMMCORE.C2v1_17T048267-11-Z2-ImvessC2-4321.csv', 'NVA_21-003.IMMCORE.C1v1_15T019351-08-ImvessC1-4518.csv', 'NVA_21-003.IMMCORE.C2v1_19T041398-05-Z1-ImvessC2-4321.csv', 'NVA_21-003.IMMCORE.C2v1_17T020895-03-Z1-ImvessC2-4321.csv', 'NVA_21-003.IMMCORE.C2v1_16T042639-11-Z2-ImvessC2-4321.csv', 'NVA_21-003.IMMCORE.C2v1_18T011003-05-Z2-ImvessC2-4321.csv', 'NVA_21-003.IMMCORE.C1v1_19T037195-08-Z1-2-ImvessC1-4518.csv', 'NVA_21-003.IMMCORE.C2v1_18T020627-04-Z2-ImvessC2-4321.csv', 'NVA_21-003.IMMCORE.C1v1_19T020336-21-ImvessC1-4518.csv', 'NVA_21-003.IMMCORE.C1v1_18T002383-10-Z2-ImvessC1-4518.csv', 'NVA_21-003.IMMCORE.C1v1_17T018454-05-Z2-ImvessC1-4518.csv', 'NVA_21-003.IMMCORE.C2v1_19T037195-08-Z2-ImvessC2-4321.csv', 'NVA_21-003.IMMCORE.C2v1_18T005297-13-ImvessC2-4321.csv', 'NVA_21-003.IMMCORE.C2v1_18T040686-03-ImvessC2-4321.csv', 'NVA_21-003.IMMCORE.C2v1_17T054628-06-Z1-ImvessC2-4321.csv', 'NVA_21-003.IMMCORE.C1v1_16T042639-11-Z1-ImvessC1-4518.csv', 'NVA_21-003.IMMCORE.C1v1_16T004768-17-ImvessC1-4518.csv', 'NVA_21-003.IMMCORE.C1v1_19T041398-05-Z2-ImvessC1-4518.csv', 'NVA_21-003.IMMCORE.C2v1_16T022680-3-ImvessC2-4321.csv', 'NVA_21-003.IMMCORE.C2v1_18T009975-12-ImvessC2-4321.csv', 'NVA_21-003.IMMCORE.C1v1_18T044196-05-Z1-ImvessC1-4518.csv', 'NVA_21-003.IMMCORE.C2v1_16T008211-9-ImvessC2-4321.csv', 'NVA_21-003.IMMCORE.C1v1_17T006383-09-Z2-ImvessC1-4518.csv', 'NVA_21-003.IMMCORE.C2v1_17T020895-03-Z2-ImvessC2-4321.csv', 'NVA_21-003.IMMCORE.C1v1_17T010264-05-Z1-ImvessC1-4518.csv', 'NVA_21-003.IMMCORE.C1v1_16T006366-4-ImvessC1-4518.csv', 'NVA_21-003.IMMCORE.C2v1_17T020615-09-2-ImvessC2-4321.csv', 'NVA_21-003.IMMCORE.C1v1_19T031111-09-ImvessC1-4518.csv', 'NVA_21-003.IMMCORE.C2v1_17T033078-09-Z2-ImvessC2-4321.csv', 'NVA_21-003.IMMCORE.C2v1_18T002383-10-Z1-ImvessC2-4321.csv', 'NVA_21-003.IMMCORE.C2v1_18T020627-04-Z3-ImvessC2-4321.csv', 'NVA_21-003.IMMCORE.C1v1_15T052601-14-Z1-ImvessC1-4518.csv', 'NVA_21-003.IMMCORE.C2v1_18T047929-09-Z3-ImvessC2-4321.csv', 'NVA_21-003.IMMCORE.C1v1_19T002076-07-Z2-ImvessC1-4518.csv', 'NVA_21-003.IMMCORE.C1v1_16T037314-11-Z2-ImvessC1-4518.csv', 'NVA_21-003.IMMCORE.C2v1_15T019351-08-ImvessC2-4321.csv', 'NVA_21-003.IMMCORE.C2v1_16T006366-4-ImvessC2-4321.csv', 'NVA_21-003.IMMCORE.C2v1_15T046951-1-2-ImvessC2-4321.csv', 'NVA_21-003.IMMCORE.C1v1_19T041398-05-Z1-ImvessC1-4518.csv', 'NVA_21-003.IMMCORE.C2v1_17T004343-07-ImvessC2-4321.csv', 'NVA_21-003.IMMCORE.C2v1_17T018454-05-Z1-ImvessC2-4321.csv', 'NVA_21-003.IMMCORE.C2v1_18T047929-09-Z3-ImvessC2-4321.czi_80287_ObjData.fcs', 'NVA_21-003.IMMCORE.C1v1_17T048267-11-Z3-ImvessC1-4518.csv']\n"
     ]
    }
   ],
   "source": [
    "print(csv_levels)"
   ]
  },
  {
   "cell_type": "code",
   "execution_count": null,
   "metadata": {},
   "outputs": [
    {
     "name": "stdout",
     "output_type": "stream",
     "text": [
      "1 NVA_21-003.IMMCORE.C1v1_15T010441-02-ImvessC1-4518.csv\n",
      "<class 'numpy.ndarray'>\n",
      "<class 'float'>\n"
     ]
    },
    {
     "name": "stderr",
     "output_type": "stream",
     "text": [
      "randomization:  11%|██▉                        | 22/200 [03:19<25:38,  8.64s/it]"
     ]
    }
   ],
   "source": [
    "i = 1\n",
    "for csv_file in csv_levels[92::1]:\n",
    "    print(i, csv_file)\n",
    "    i += 1\n",
    "    nodes = pd.read_csv(csv_path + csv_file , header = None)\n",
    "    nodes.columns = ['id','x','y','class']\n",
    "\n",
    "    ratio = 1\n",
    "    nodes = nodes.sample(n = round(len(nodes) / ratio) )\n",
    "    coords = nodes.loc[:,['x','y']].values\n",
    "\n",
    "\n",
    "    #make colors\n",
    "    nodes['color'] = '#7f8c8d'\n",
    "    nodes.loc[nodes['class'] == 'C1' , 'color' ] = '#e74c3c' #RED\n",
    "    nodes.loc[nodes['class'] == 'C1' , 'color' ] = '#e67e22' #ORANGE\n",
    "    nodes.loc[nodes['class'] == 'C1' , 'color' ] = '#f1c40f' #YELLOW\n",
    "    nodes.loc[nodes['class'] == 'C1' , 'color' ] = '#8e44ad' #PURPLE\n",
    "    nodes.loc[nodes['class'] == 'C1' , 'color' ] = '#2980b9' #LIGHT BLUE \n",
    "    nodes.loc[nodes['class'] == 'C1' , 'color' ] = '#16a085' #GREEN SEA\n",
    "    nodes.loc[nodes['class'] == 'C1' , 'color' ] = '#2c3e50' #BLUE MIDNIGHT\n",
    "    nodes.loc[nodes['class'] == 'C1' , 'color' ] = '#27ae60' #GREEN\n",
    "    nodes.loc[nodes['class'] == 'C1' , 'color' ] = '#7f8c8d' #GRAY\n",
    "\n",
    "\n",
    "    cropped_coords = nodes.loc[:,['x','y']].values\n",
    "    cropped_colors = nodes['color']\n",
    "\n",
    "    ##########\n",
    "    cropped_coords[:,0]  = (cropped_coords[:,0] * 0.1).round()\n",
    "    cropped_coords[:,1]  = (cropped_coords[:,1] * 0.1).round()\n",
    "\n",
    "\n",
    "    cropped_pairs = ty.build_delaunay(cropped_coords)\n",
    "\n",
    "\n",
    "    pd.DataFrame(cropped_pairs).to_csv(\"/home/mouneem/tysserand/PanCK/output/pairs.\"+csv_file)\n",
    "\n",
    "    pd.DataFrame(cropped_coords).to_csv(\"/home/mouneem/tysserand/PanCK/output/coords.\"+csv_file)\n",
    "    pd.DataFrame(cropped_colors).to_csv(\"/home/mouneem/tysserand/PanCK/output/colors.\"+csv_file)\n",
    "\n",
    "    nodes.loc[nodes['class'] == 'M1' , 'class' ] = 'M1' \n",
    "    nodes.loc[nodes['class'] == 'M2' , 'class' ] = 'M2' \n",
    "    nodes.loc[nodes['class'] == 'Other' , 'class' ] = 'Other' \n",
    "    nodes.to_csv(\"/home/mouneem/tysserand/PanCK/output/nodes.\"+csv_file)\n",
    "\n",
    "\n",
    "\n",
    "\n",
    "    attributes = nodes['class']\n",
    "    mosna_nodes = nodes\n",
    "    edges = pd.DataFrame(data=cropped_pairs, columns=['source', 'target'])\n",
    "    mosna_nodes = pd.DataFrame(data=cropped_coords, columns=['x', 'y'])\n",
    "    mosna_nodes['Group'] = attributes.values\n",
    "    mosna_nodes = mosna_nodes.join(pd.get_dummies(mosna_nodes['Group']))\n",
    "    att = mosna_nodes['Group']\n",
    "    attributes = mosna_nodes['Group'].unique()\n",
    "    mosna_nodes.head()\n",
    "\n",
    "    pd.DataFrame(attributes).to_csv(\"/home/mouneem/tysserand/PanCK/output/attributes.\"+csv_file)\n",
    "    pd.DataFrame(edges).to_csv(\"/home/mouneem/tysserand/PanCK/output/edges.\"+csv_file)\n",
    "    mosna_nodes.to_csv(\"/home/mouneem/tysserand/PanCK/output/mosna_nodes.\"+csv_file)\n",
    "\n",
    "\n",
    "    attributes = nodes['class']\n",
    "    edges = pd.DataFrame(data=cropped_pairs, columns=['source', 'target'])\n",
    "    nodes = pd.DataFrame(data=cropped_coords, columns=['x', 'y'])\n",
    "    nodes['Group'] = attributes.values\n",
    "    nodes = nodes.join(pd.get_dummies(nodes['Group']))\n",
    "    att = nodes['Group']\n",
    "    attributes = nodes['Group'].unique()\n",
    "    nodes.head()\n",
    "\n",
    "\n",
    "\n",
    "    # Network statistics\n",
    "    mixmat = mosna.mixing_matrix(nodes, edges, attributes)\n",
    "    assort = mosna.attribute_ac(mixmat)\n",
    "    print(type(mixmat))\n",
    "    print(type(assort))\n",
    "    # ------ Randomization ------\n",
    "    mixmat_rand, assort_rand = mosna.randomized_mixmat(nodes, edges, attributes, n_shuffle=200, parallel=False)\n",
    "\n",
    "    mixmat_mean, mixmat_std, mixmat_zscore = mosna.zscore(mixmat, mixmat_rand, return_stats=True)\n",
    "    assort_mean, assort_std, assort_zscore = mosna.zscore(assort, assort_rand, return_stats=True)\n",
    "\n",
    "    mixmat = mosna.mixmat_to_df(mixmat, attributes)\n",
    "    mixmat_zscore = mosna.mixmat_to_df(mixmat_zscore, attributes)\n",
    "\n",
    "    pd.DataFrame(mixmat).to_csv(\"/home/mouneem/tysserand/PanCK/output/mixmat.\"+csv_file)\n",
    "    pd.DataFrame(mixmat_zscore).to_csv(\"/home/mouneem/tysserand/PanCK/output/mixmat_zscore.\"+csv_file)\n"
   ]
  },
  {
   "cell_type": "code",
   "execution_count": null,
   "metadata": {},
   "outputs": [],
   "source": [
    "\n",
    "\n",
    "\n",
    "nodes = nodesAll\n",
    "nodes.loc[nodes['class'] == 'C1' , 'class' ] = 'PanCK+CD3-CD8-CD20-'\n",
    "nodes.loc[nodes['class'] == 'C2' , 'class' ] = 'PanCK-CD3+CD8+' \n",
    "nodes.loc[nodes['class'] == 'C3' , 'class' ] = 'PanCK-CD3+CD8-' \n",
    "nodes.loc[nodes['class'] == 'C4' , 'class' ] = 'PanCK-CD3-CD20+' \n",
    "nodes.loc[nodes['class'] == 'C5' , 'class' ] = 'PanCK-CD3+CD20+' \n",
    "\n",
    "attributes = nodes['class']\n",
    "\n",
    "edges = pd.DataFrame(data=cropped_pairs, columns=['source', 'target'])\n",
    "nodes = pd.DataFrame(data=cropped_coords, columns=['x', 'y'])\n",
    "nodes['Group'] = attributes.values\n",
    "nodes = nodes.join(pd.get_dummies(nodes['Group']))\n",
    "att = nodes['Group']\n",
    "attributes = nodes['Group'].unique()\n",
    "nodes.head()\n",
    "\n",
    "\n",
    "\n",
    "# Network statistics\n",
    "mixmat = mosna.mixing_matrix(nodes, edges, attributes)\n",
    "assort = mosna.attribute_ac(mixmat)\n",
    "\n",
    "# ------ Randomization ------\n",
    "mixmat_rand, assort_rand = mosna.randomized_mixmat(nodes, edges, attributes, n_shuffle=200, parallel=False)\n",
    "mixmat_mean, mixmat_std, mixmat_zscore = mosna.zscore(mixmat, mixmat_rand, return_stats=True)\n",
    "assort_mean, assort_std, assort_zscore = mosna.zscore(assort, assort_rand, return_stats=True)\n",
    "\n",
    "mixmat = mosna.mixmat_to_df(mixmat, attributes)\n",
    "mixmat_zscore = mosna.mixmat_to_df(mixmat_zscore, attributes)\n",
    "\n",
    "\n"
   ]
  },
  {
   "cell_type": "code",
   "execution_count": null,
   "metadata": {},
   "outputs": [],
   "source": [
    "save_dir = Path(\"/home/abdelmounimessabbar/Bureau/PanCKmosna_output\")\n",
    "\n",
    "sns.set_context('talk')\n",
    "\n",
    "title = \"Assortativity by cell types:\"\n",
    "print(title)\n",
    "fig, ax = plt.subplots(figsize=(9, 6))\n",
    "sns.heatmap(mixmat, center=0, cmap=\"vlag\", annot=True, linewidths=.5, ax=ax)\n",
    "plt.xticks(rotation=30, ha='right');\n",
    "# plt.xticks(rotation=30, ha='right', fontsize=20);\n",
    "# plt.yticks(fontsize=20);\n",
    "plt.savefig(save_dir / \"assortativity\", bbox_inches='tight', facecolor='white')\n",
    "\n",
    "print(\"Z-scored assortativity by cell types: {}\".format(assort_zscore))\n",
    "fig, ax = plt.subplots(figsize=(9, 6))\n",
    "sns.heatmap(mixmat_zscore, center=0, cmap=\"vlag\", annot=True, linewidths=.5, ax=ax)\n",
    "plt.xticks(rotation=30, ha='right');\n",
    "plt.savefig(save_dir / \"assortativity_z-scored\", bbox_inches='tight', facecolor='white')"
   ]
  },
  {
   "cell_type": "code",
   "execution_count": null,
   "metadata": {},
   "outputs": [],
   "source": []
  },
  {
   "cell_type": "markdown",
   "metadata": {},
   "source": []
  },
  {
   "cell_type": "code",
   "execution_count": null,
   "metadata": {},
   "outputs": [],
   "source": []
  },
  {
   "cell_type": "code",
   "execution_count": null,
   "metadata": {},
   "outputs": [],
   "source": []
  },
  {
   "cell_type": "code",
   "execution_count": null,
   "metadata": {},
   "outputs": [],
   "source": []
  },
  {
   "cell_type": "code",
   "execution_count": null,
   "metadata": {},
   "outputs": [],
   "source": []
  },
  {
   "cell_type": "code",
   "execution_count": null,
   "metadata": {},
   "outputs": [],
   "source": []
  },
  {
   "cell_type": "code",
   "execution_count": null,
   "metadata": {},
   "outputs": [],
   "source": []
  },
  {
   "cell_type": "markdown",
   "metadata": {},
   "source": []
  },
  {
   "cell_type": "code",
   "execution_count": null,
   "metadata": {},
   "outputs": [],
   "source": []
  },
  {
   "cell_type": "markdown",
   "metadata": {},
   "source": []
  },
  {
   "cell_type": "code",
   "execution_count": null,
   "metadata": {},
   "outputs": [],
   "source": []
  },
  {
   "cell_type": "markdown",
   "metadata": {},
   "source": []
  },
  {
   "cell_type": "code",
   "execution_count": null,
   "metadata": {},
   "outputs": [],
   "source": []
  },
  {
   "cell_type": "code",
   "execution_count": null,
   "metadata": {},
   "outputs": [],
   "source": []
  },
  {
   "cell_type": "code",
   "execution_count": null,
   "metadata": {},
   "outputs": [],
   "source": []
  }
 ],
 "metadata": {
  "interpreter": {
   "hash": "0746f5b2c01e958414395754882cf6092b13870828f8e16bc72ea4cedeeea844"
  },
  "kernelspec": {
   "display_name": "Python 3 (ipykernel)",
   "language": "python",
   "name": "python3"
  },
  "language_info": {
   "codemirror_mode": {
    "name": "ipython",
    "version": 3
   },
   "file_extension": ".py",
   "mimetype": "text/x-python",
   "name": "python",
   "nbconvert_exporter": "python",
   "pygments_lexer": "ipython3",
   "version": "3.8.10"
  }
 },
 "nbformat": 4,
 "nbformat_minor": 4
}
