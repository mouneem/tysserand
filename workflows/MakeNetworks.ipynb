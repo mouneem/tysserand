{
 "cells": [
  {
   "cell_type": "code",
   "execution_count": null,
   "metadata": {},
   "outputs": [],
   "source": [
    "#Load libs\n",
    "\n",
    "import numpy as np\n",
    "import pandas as pd\n",
    "import matplotlib.pyplot as plt\n",
    "import os\n",
    "from pathlib import Path\n",
    "from tysserand import tysserand as ty\n",
    "from PIL import Image\n",
    "Image.MAX_IMAGE_PIXELS = 1000000000 \n",
    "from PIL import Image, ImageOps\n",
    "import fcsparser\n",
    "\n",
    "#set up working dir\n",
    "\n",
    "directory = str(\"/mnt/SERVER-CRCT-STORAGE/CRCT_Imagin/CORDELIER Pierre/HaloData/21-003.IMMCORE.C1v1/Halo archive 2021-12-07 10-09 - v3.3.2541/ObjectData\")\n",
    "outpath = '/home/mouneem/tysserand/Imagin_LungPredict/nets/'"
   ]
  },
  {
   "cell_type": "code",
   "execution_count": null,
   "metadata": {},
   "outputs": [],
   "source": [
    "# FCS TO CSV\n",
    "# iterate over files in\n",
    "# that directory\n",
    "for filename in os.listdir(directory):\n",
    "    f = os.path.join(directory, filename)\n",
    "    # checking if it is a file\n",
    "    print(filename)\n",
    "    if os.path.isfile(f) and 'fcs' in filename:\n",
    "\n",
    "        meta, data = fcsparser.parse(f, reformat_meta=True)\n",
    "        type(data)\n",
    "        #df1 = df[['a', 'b']] // df1 = df.iloc[:, 0:2] \n",
    "\n",
    "        data[\"x\"] = (data[\"XMax\"] + data[\"XMin\"] ) / 2\n",
    "        data[\"y\"] = (data[\"YMax\"] + data[\"YMin\"] ) / 2\n",
    "\n",
    "        col_is_marker = []\n",
    "        for col in list(data.columns):\n",
    "            if col.count('+') + col.count('-') > 1:\n",
    "                col_is_marker.append(True)\n",
    "            else:\n",
    "                col_is_marker.append(False)\n",
    "\n",
    "        print(len(col_is_marker))\n",
    "\n",
    "        marker = data.loc[:, col_is_marker]\n",
    "\n",
    "        classes = marker.apply(lambda row: '_'.join(row.values.astype(str)), axis=1)\n",
    "        data[\"class\"] = pd.factorize(classes)[0] \n",
    "\n",
    "        nodes = data[['x','y',\"class\"]]\n",
    "        nodes.to_csv(outpath + \"../csv/\"+filename )\n",
    "\n",
    "        ratio = 50\n",
    "        nodes = nodes.sample(n = round(len(nodes) / ratio) )\n",
    "        coords = nodes.loc[:,['x','y']].values\n",
    "\n",
    "        plt.scatter(coords[:,0] , coords[:,1] ,   zorder=10, s = 1)\n",
    "    \n",
    "        plt.savefig(outpath+filename+'.png')\n",
    "        \n",
    "        plt.cla()"
   ]
  }
 ],
 "metadata": {
  "interpreter": {
   "hash": "0746f5b2c01e958414395754882cf6092b13870828f8e16bc72ea4cedeeea844"
  },
  "kernelspec": {
   "display_name": "Python 3 (ipykernel)",
   "language": "python",
   "name": "python3"
  },
  "language_info": {
   "codemirror_mode": {
    "name": "ipython",
    "version": 3
   },
   "file_extension": ".py",
   "mimetype": "text/x-python",
   "name": "python",
   "nbconvert_exporter": "python",
   "pygments_lexer": "ipython3",
   "version": "3.8.10"
  }
 },
 "nbformat": 4,
 "nbformat_minor": 4
}
